{
 "cells": [
  {
   "cell_type": "markdown",
   "id": "02f67623-4241-40e8-a429-a1293b3990d3",
   "metadata": {},
   "source": [
    "#### Uses of SciPy\n",
    "#### Scientific & Technical Computing\n",
    "\n",
    "#### Data Science & Machine Learning Preprocessing\n",
    "\n",
    "#### Image and Signal Processing\n",
    "\n",
    "#### Engineering simulations (ODEs, FFTs)\n",
    "\n",
    "#### Mathematical operations beyond NumPy"
   ]
  },
  {
   "cell_type": "markdown",
   "id": "94c748f5-bd07-41ef-8392-33186fdc929e",
   "metadata": {},
   "source": [
    "### 1. scipy.integrate — Integration & ODE Solvers\n",
    "### Use: Numerical integration and solving ordinary differential equations.\n",
    "\n",
    "### Functions:\n",
    "\n",
    "### quad() – Integrate a function.\n",
    "\n",
    "### odeint() – Solve ODEs."
   ]
  },
  {
   "cell_type": "code",
   "execution_count": 3,
   "id": "539910f5-cb12-4d8f-bcf5-dd0131ef0953",
   "metadata": {},
   "outputs": [
    {
     "name": "stdout",
     "output_type": "stream",
     "text": [
      "Integral: 9.000000000000002\n"
     ]
    }
   ],
   "source": [
    "from scipy import integrate\n",
    "\n",
    "result, error = integrate.quad(lambda x: x**2, 0, 3)\n",
    "print(\"Integral:\", result)  # Output: 9.0\n"
   ]
  },
  {
   "cell_type": "code",
   "execution_count": 5,
   "id": "763fe79c-e0c0-4f8f-be8d-355384016ebb",
   "metadata": {},
   "outputs": [],
   "source": [
    "#### 2. scipy.optimize — Optimization & Root Finding\n",
    "#### Use: Find minimum/maximum of functions or solve equations.\n",
    "\n",
    "#### Functions:\n",
    "\n",
    "#### minimize() – Minimize a scalar function.\n",
    "\n",
    "#### root() – Find the roots of a function."
   ]
  },
  {
   "cell_type": "code",
   "execution_count": 7,
   "id": "bc4c1c74-23c3-4925-b58d-518c4addaf05",
   "metadata": {},
   "outputs": [
    {
     "name": "stdout",
     "output_type": "stream",
     "text": [
      "[-1.50000001]\n"
     ]
    }
   ],
   "source": [
    "from scipy.optimize import minimize\n",
    "\n",
    "f = lambda x: x**2 + 3*x + 2\n",
    "res = minimize(f, x0=0)\n",
    "print(res.x)  # Optimal value of x\n"
   ]
  },
  {
   "cell_type": "code",
   "execution_count": 9,
   "id": "3575e3b5-6187-40d5-b9b9-0d07955f6617",
   "metadata": {},
   "outputs": [],
   "source": [
    "#### 3. scipy.linalg — Linear Algebra\n",
    "####  Use: Advanced linear algebra operations (more features than NumPy).\n",
    "\n",
    "#### Functions:\n",
    "\n",
    "####  inv() – Inverse of a matrix.\n",
    "\n",
    "####  det() – Determinant.\n",
    "\n",
    "####  eig() – Eigenvalues and eigenvectors."
   ]
  },
  {
   "cell_type": "code",
   "execution_count": 11,
   "id": "fbf6c1c1-b016-4b64-bc7f-26f11df3d0a3",
   "metadata": {},
   "outputs": [
    {
     "name": "stdout",
     "output_type": "stream",
     "text": [
      "Inverse:\n",
      " [[-2.   1. ]\n",
      " [ 1.5 -0.5]]\n"
     ]
    }
   ],
   "source": [
    "from scipy.linalg import inv\n",
    "import numpy as np\n",
    "\n",
    "A = np.array([[1, 2], [3, 4]])\n",
    "print(\"Inverse:\\n\", inv(A))\n",
    "\n"
   ]
  },
  {
   "cell_type": "code",
   "execution_count": 13,
   "id": "51ecf425-553c-455c-99d4-f9f40315d316",
   "metadata": {},
   "outputs": [],
   "source": [
    "#### 4. scipy.interpolate — Interpolation\n",
    "#### Use: Estimate intermediate values between data points.\n",
    "\n",
    "#### Functions:\n",
    "\n",
    "#### interp1d() – 1D interpolation.\n",
    "\n",
    "#### griddata() – Multidimensional interpolation."
   ]
  },
  {
   "cell_type": "code",
   "execution_count": 15,
   "id": "7148ba50-dab9-47bd-a7e9-0c5fff3effcd",
   "metadata": {},
   "outputs": [
    {
     "name": "stdout",
     "output_type": "stream",
     "text": [
      "3.0\n"
     ]
    }
   ],
   "source": [
    "from scipy.interpolate import interp1d\n",
    "import numpy as np\n",
    "\n",
    "x = np.array([0, 1, 2])\n",
    "y = np.array([0, 2, 4])\n",
    "f = interp1d(x, y)\n",
    "print(f(1.5))  # Output: 3.0\n"
   ]
  },
  {
   "cell_type": "code",
   "execution_count": 17,
   "id": "e005301e-8c7e-4015-954c-70d25ed5f415",
   "metadata": {},
   "outputs": [],
   "source": [
    "#### 5. scipy.fft — Fast Fourier Transform\n",
    "#### Use: Signal processing and frequency domain analysis.\n",
    "\n",
    "#### Functions:\n",
    "\n",
    "#### fft() – Fast Fourier Transform.\n",
    "\n",
    "#### ifft() – Inverse FFT.\n",
    "\n",
    "#### Example:"
   ]
  },
  {
   "cell_type": "code",
   "execution_count": 19,
   "id": "70006aec-1ab9-4f56-ab15-47431401a082",
   "metadata": {},
   "outputs": [
    {
     "name": "stdout",
     "output_type": "stream",
     "text": [
      "[0.-0.j 0.-2.j 0.-0.j 0.+2.j]\n"
     ]
    }
   ],
   "source": [
    "from scipy.fft import fft\n",
    "import numpy as np\n",
    "\n",
    "x = np.array([0, 1, 0, -1])\n",
    "y = fft(x)\n",
    "print(y)\n"
   ]
  },
  {
   "cell_type": "code",
   "execution_count": 21,
   "id": "6b902563-94f7-4f83-8d34-97acc0c09ffc",
   "metadata": {},
   "outputs": [],
   "source": [
    "#### 6. scipy.stats — Statistics\n",
    "#### Use: Perform statistical operations and probability distributions.\n",
    "\n",
    "#### Functions:\n",
    "\n",
    "#### mean(), std(), mode()\n",
    "\n",
    "#### norm, binom, poisson distributions"
   ]
  },
  {
   "cell_type": "code",
   "execution_count": 23,
   "id": "09918583-34b4-40fd-a4c0-cc4d58e1077d",
   "metadata": {},
   "outputs": [
    {
     "name": "stdout",
     "output_type": "stream",
     "text": [
      "Mode: ModeResult(mode=2, count=2)\n"
     ]
    }
   ],
   "source": [
    "from scipy import stats\n",
    "\n",
    "data = [1, 2, 2, 3, 4]\n",
    "print(\"Mode:\", stats.mode(data))\n"
   ]
  },
  {
   "cell_type": "code",
   "execution_count": 25,
   "id": "bb696206-78e2-46c9-8313-db84485503ec",
   "metadata": {},
   "outputs": [],
   "source": [
    "#### 7. scipy.sparse — Sparse Matrices\n",
    "#### Use: Handle memory-efficient sparse matrices.\n",
    "\n",
    "#### Functions:\n",
    "\n",
    "#### csr_matrix(), csc_matrix()\n",
    "\n",
    "#### sparse.linalg.spsolve()"
   ]
  },
  {
   "cell_type": "code",
   "execution_count": 27,
   "id": "1d1a5696-5f34-466c-9edf-154aa2af6579",
   "metadata": {},
   "outputs": [
    {
     "name": "stdout",
     "output_type": "stream",
     "text": [
      "  (0, 2)\t1\n",
      "  (1, 0)\t1\n",
      "  (2, 2)\t2\n"
     ]
    }
   ],
   "source": [
    "from scipy.sparse import csr_matrix\n",
    "import numpy as np\n",
    "\n",
    "mat = csr_matrix([[0, 0, 1], [1, 0, 0], [0, 0, 2]])\n",
    "print(mat)\n"
   ]
  },
  {
   "cell_type": "code",
   "execution_count": 29,
   "id": "08bc7fdf-73ab-4e4f-b390-1b2f750a159c",
   "metadata": {},
   "outputs": [],
   "source": [
    "#### 8. scipy.ndimage — Image Processing\n",
    "#### Use: Apply filters and transformations to multidimensional images.\n",
    "\n",
    "#### Functions:\n",
    "\n",
    "#### gaussian_filter()\n",
    "\n",
    "#### rotate(), zoom()"
   ]
  },
  {
   "cell_type": "code",
   "execution_count": 31,
   "id": "b378f7b3-078f-4392-b6cb-a6b826b1e693",
   "metadata": {},
   "outputs": [
    {
     "name": "stdout",
     "output_type": "stream",
     "text": [
      "[[0.48364131 0.32669003 0.2507631  0.27077947 0.3280582 ]\n",
      " [0.46932645 0.35636068 0.30833965 0.29914985 0.29626086]\n",
      " [0.57154079 0.46297632 0.41311114 0.39631587 0.35781812]\n",
      " [0.64856069 0.50749569 0.39741908 0.37511826 0.34671108]\n",
      " [0.61362437 0.45130264 0.29804267 0.25485381 0.23062863]]\n"
     ]
    }
   ],
   "source": [
    "from scipy.ndimage import gaussian_filter\n",
    "import numpy as np\n",
    "\n",
    "img = np.random.rand(5,5)\n",
    "blurred = gaussian_filter(img, sigma=1)\n",
    "print(blurred)\n"
   ]
  }
 ],
 "metadata": {
  "kernelspec": {
   "display_name": "Python 3 (ipykernel)",
   "language": "python",
   "name": "python3"
  },
  "language_info": {
   "codemirror_mode": {
    "name": "ipython",
    "version": 3
   },
   "file_extension": ".py",
   "mimetype": "text/x-python",
   "name": "python",
   "nbconvert_exporter": "python",
   "pygments_lexer": "ipython3",
   "version": "3.12.7"
  }
 },
 "nbformat": 4,
 "nbformat_minor": 5
}
