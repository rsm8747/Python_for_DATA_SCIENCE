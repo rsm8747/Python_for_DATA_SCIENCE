{
 "cells": [
  {
   "cell_type": "markdown",
   "id": "6c4cc8c5-90a9-4d8b-9e52-c9b20bd93086",
   "metadata": {},
   "source": [
    "##  What is Polars \n",
    "#### Polars is a lightning-fast DataFrame library built in RUST with Python bindings. It's optimized for performance and multi-threaded execution, making it suitable for large- scale data processing \n",
    "\n",
    "### Why use Polars ?\n",
    "#### Multithreaded execution by default\n",
    "#### Lazy evalution support (like Spark)\n",
    "#### Rust-backed performance\n",
    "#### MEmory efficient\n",
    "#### Supports both eager and lazy APIs\n",
    "#### Ideal for Data Science and ETL pipelines"
   ]
  },
  {
   "cell_type": "code",
   "execution_count": 2,
   "id": "8ca44847-7b17-4749-b966-6d9ef1a9fc83",
   "metadata": {},
   "outputs": [
    {
     "name": "stdout",
     "output_type": "stream",
     "text": [
      "Collecting polars\n",
      "  Downloading polars-1.27.1-cp39-abi3-win_amd64.whl.metadata (15 kB)\n",
      "Downloading polars-1.27.1-cp39-abi3-win_amd64.whl (35.6 MB)\n",
      "   ---------------------------------------- 0.0/35.6 MB ? eta -:--:--\n",
      "   - -------------------------------------- 1.3/35.6 MB 7.4 MB/s eta 0:00:05\n",
      "   -- ------------------------------------- 2.6/35.6 MB 5.8 MB/s eta 0:00:06\n",
      "   ---- ----------------------------------- 3.7/35.6 MB 5.6 MB/s eta 0:00:06\n",
      "   ----- ---------------------------------- 4.7/35.6 MB 5.4 MB/s eta 0:00:06\n",
      "   ------ --------------------------------- 5.8/35.6 MB 5.3 MB/s eta 0:00:06\n",
      "   ------- -------------------------------- 6.8/35.6 MB 5.2 MB/s eta 0:00:06\n",
      "   -------- ------------------------------- 7.9/35.6 MB 5.2 MB/s eta 0:00:06\n",
      "   ---------- ----------------------------- 8.9/35.6 MB 5.2 MB/s eta 0:00:06\n",
      "   ----------- ---------------------------- 10.0/35.6 MB 5.1 MB/s eta 0:00:05\n",
      "   ------------ --------------------------- 11.0/35.6 MB 5.1 MB/s eta 0:00:05\n",
      "   ------------- -------------------------- 12.1/35.6 MB 5.1 MB/s eta 0:00:05\n",
      "   -------------- ------------------------- 13.1/35.6 MB 5.1 MB/s eta 0:00:05\n",
      "   --------------- ------------------------ 14.2/35.6 MB 5.1 MB/s eta 0:00:05\n",
      "   ----------------- ---------------------- 15.2/35.6 MB 5.1 MB/s eta 0:00:05\n",
      "   ------------------ --------------------- 16.5/35.6 MB 5.1 MB/s eta 0:00:04\n",
      "   ------------------- -------------------- 17.6/35.6 MB 5.1 MB/s eta 0:00:04\n",
      "   -------------------- ------------------- 18.6/35.6 MB 5.1 MB/s eta 0:00:04\n",
      "   ---------------------- ----------------- 19.7/35.6 MB 5.1 MB/s eta 0:00:04\n",
      "   ----------------------- ---------------- 20.7/35.6 MB 5.0 MB/s eta 0:00:03\n",
      "   ------------------------ --------------- 21.8/35.6 MB 5.0 MB/s eta 0:00:03\n",
      "   ------------------------- -------------- 22.8/35.6 MB 5.0 MB/s eta 0:00:03\n",
      "   -------------------------- ------------- 23.9/35.6 MB 5.0 MB/s eta 0:00:03\n",
      "   ---------------------------- ----------- 25.2/35.6 MB 5.0 MB/s eta 0:00:03\n",
      "   ----------------------------- ---------- 26.0/35.6 MB 5.0 MB/s eta 0:00:02\n",
      "   ------------------------------ --------- 27.3/35.6 MB 5.0 MB/s eta 0:00:02\n",
      "   ------------------------------- -------- 28.3/35.6 MB 5.0 MB/s eta 0:00:02\n",
      "   -------------------------------- ------- 29.4/35.6 MB 5.0 MB/s eta 0:00:02\n",
      "   ---------------------------------- ----- 30.4/35.6 MB 5.0 MB/s eta 0:00:02\n",
      "   ----------------------------------- ---- 31.5/35.6 MB 5.0 MB/s eta 0:00:01\n",
      "   ------------------------------------ --- 32.5/35.6 MB 5.0 MB/s eta 0:00:01\n",
      "   ------------------------------------- -- 33.6/35.6 MB 5.0 MB/s eta 0:00:01\n",
      "   ---------------------------------------  34.9/35.6 MB 5.0 MB/s eta 0:00:01\n",
      "   ---------------------------------------  35.4/35.6 MB 5.0 MB/s eta 0:00:01\n",
      "   ---------------------------------------  35.4/35.6 MB 5.0 MB/s eta 0:00:01\n",
      "   ---------------------------------------- 35.6/35.6 MB 4.7 MB/s eta 0:00:00\n",
      "Installing collected packages: polars\n",
      "Successfully installed polars-1.27.1\n"
     ]
    }
   ],
   "source": [
    "!pip install polars"
   ]
  },
  {
   "cell_type": "markdown",
   "id": "2ac500bf-12ff-4f7b-b4cc-494777c9c9b4",
   "metadata": {},
   "source": [
    "## Core Features & Functionality\n",
    "### 1 Creae DataFrame "
   ]
  },
  {
   "cell_type": "code",
   "execution_count": 5,
   "id": "2abcda99-1e27-490d-b337-4794fee8d14f",
   "metadata": {},
   "outputs": [
    {
     "name": "stdout",
     "output_type": "stream",
     "text": [
      "shape: (3, 3)\n",
      "┌─────────┬─────┬────────┐\n",
      "│ name    ┆ age ┆ salary │\n",
      "│ ---     ┆ --- ┆ ---    │\n",
      "│ str     ┆ i64 ┆ i64    │\n",
      "╞═════════╪═════╪════════╡\n",
      "│ Alice   ┆ 25  ┆ 50000  │\n",
      "│ Bob     ┆ 32  ┆ 60000  │\n",
      "│ Charlie ┆ 37  ┆ 70000  │\n",
      "└─────────┴─────┴────────┘\n"
     ]
    }
   ],
   "source": [
    "import polars as pl\n",
    "\n",
    "df = pl.DataFrame({\n",
    "    \"name\": [\"Alice\",\"Bob\",\"Charlie\"],\n",
    "    \"age\":[25,32,37],\n",
    "    \"salary\":[50000, 60000, 70000]\n",
    "})\n",
    "print(df)"
   ]
  },
  {
   "cell_type": "markdown",
   "id": "ec3ae490-9252-4fa9-884a-de474b84d2a8",
   "metadata": {},
   "source": [
    "## 2. 🧮 Basic Operations"
   ]
  },
  {
   "cell_type": "code",
   "execution_count": 14,
   "id": "45005959-c057-441a-a515-29a4e17ef4f8",
   "metadata": {},
   "outputs": [
    {
     "data": {
      "text/html": [
       "<div><style>\n",
       ".dataframe > thead > tr,\n",
       ".dataframe > tbody > tr {\n",
       "  text-align: right;\n",
       "  white-space: pre-wrap;\n",
       "}\n",
       "</style>\n",
       "<small>shape: (3, 2)</small><table border=\"1\" class=\"dataframe\"><thead><tr><th>age</th><th>avg_salary</th></tr><tr><td>i64</td><td>f64</td></tr></thead><tbody><tr><td>37</td><td>70000.0</td></tr><tr><td>25</td><td>50000.0</td></tr><tr><td>32</td><td>60000.0</td></tr></tbody></table></div>"
      ],
      "text/plain": [
       "shape: (3, 2)\n",
       "┌─────┬────────────┐\n",
       "│ age ┆ avg_salary │\n",
       "│ --- ┆ ---        │\n",
       "│ i64 ┆ f64        │\n",
       "╞═════╪════════════╡\n",
       "│ 37  ┆ 70000.0    │\n",
       "│ 25  ┆ 50000.0    │\n",
       "│ 32  ┆ 60000.0    │\n",
       "└─────┴────────────┘"
      ]
     },
     "execution_count": 14,
     "metadata": {},
     "output_type": "execute_result"
    }
   ],
   "source": [
    "# select column \n",
    "df.select(\"name\")\n",
    "\n",
    "# filter  rows\n",
    "df.filter(pl.col(\"age\") >30)\n",
    "\n",
    "# add a new column \n",
    "df.with_columns((pl.col(\"salary\")*1.1).alias(\"updated_salary\"))\n",
    "\n",
    "# groupby and aggregation\n",
    "df.group_by(\"age\").agg(pl.col(\"salary\").mean().alias(\"avg_salary\"))"
   ]
  },
  {
   "cell_type": "markdown",
   "id": "4d56250e-f62d-4513-af6f-fbbf8e7a0b36",
   "metadata": {},
   "source": [
    "## 3. 💤 Lazy API (Like Spark)"
   ]
  },
  {
   "cell_type": "code",
   "execution_count": 17,
   "id": "833092ca-b2f9-4ba7-8dde-82a8efba9acc",
   "metadata": {},
   "outputs": [
    {
     "name": "stdout",
     "output_type": "stream",
     "text": [
      "shape: (2, 4)\n",
      "┌─────────┬─────┬────────┬──────────────┐\n",
      "│ name    ┆ age ┆ salary ┆ bonus_salary │\n",
      "│ ---     ┆ --- ┆ ---    ┆ ---          │\n",
      "│ str     ┆ i64 ┆ i64    ┆ f64          │\n",
      "╞═════════╪═════╪════════╪══════════════╡\n",
      "│ Bob     ┆ 32  ┆ 60000  ┆ 66000.0      │\n",
      "│ Charlie ┆ 37  ┆ 70000  ┆ 77000.0      │\n",
      "└─────────┴─────┴────────┴──────────────┘\n"
     ]
    }
   ],
   "source": [
    "lazy_df =df.lazy()\n",
    "result = (\n",
    "    lazy_df\n",
    "    .filter(pl.col(\"salary\") > 55000)\n",
    "    .with_columns((pl.col(\"salary\")*1.1).alias(\"bonus_salary\"))\n",
    "    .collect()\n",
    ")\n",
    "print(result)"
   ]
  },
  {
   "cell_type": "markdown",
   "id": "31d8c05d-455f-4ae5-922f-cc1e909fb17a",
   "metadata": {},
   "source": [
    "## 4 Joins"
   ]
  },
  {
   "cell_type": "code",
   "execution_count": 20,
   "id": "5ab0d2ca-0c10-412b-a591-a25699e5f4ef",
   "metadata": {},
   "outputs": [
    {
     "name": "stdout",
     "output_type": "stream",
     "text": [
      "shape: (2, 3)\n",
      "┌─────┬───────┬──────┐\n",
      "│ id  ┆ name  ┆ city │\n",
      "│ --- ┆ ---   ┆ ---  │\n",
      "│ i64 ┆ str   ┆ str  │\n",
      "╞═════╪═══════╪══════╡\n",
      "│ 1   ┆ Alice ┆ NY   │\n",
      "│ 2   ┆ Bob   ┆ LA   │\n",
      "└─────┴───────┴──────┘\n"
     ]
    }
   ],
   "source": [
    "df1 = pl.DataFrame({\"id\":[1,2], \"name\":[\"Alice\",\"Bob\"]})\n",
    "df2 = pl.DataFrame({\"id\":[1,2], \"city\":[\"NY\", \"LA\"]})\n",
    "\n",
    "joined_df = df1.join(df2, on=\"id\", how=\"inner\")\n",
    "print(joined_df)"
   ]
  },
  {
   "cell_type": "markdown",
   "id": "92cb2139-c937-44ce-bc4e-7984315a1e14",
   "metadata": {},
   "source": [
    "## 5. 📊 Pivot & Melt"
   ]
  },
  {
   "cell_type": "code",
   "execution_count": 23,
   "id": "d7e7bd6f-33c7-4f97-b5cc-8287f3d6d1ea",
   "metadata": {},
   "outputs": [
    {
     "name": "stderr",
     "output_type": "stream",
     "text": [
      "C:\\Users\\Rahul\\AppData\\Local\\Temp\\ipykernel_16048\\1802735692.py:7: DeprecationWarning: The argument `columns` for `DataFrame.pivot` is deprecated. It has been renamed to `on`.\n",
      "  df.pivot(values=\"sales\", index=\"year\", columns=\"product\")\n",
      "C:\\Users\\Rahul\\AppData\\Local\\Temp\\ipykernel_16048\\1802735692.py:10: DeprecationWarning: `DataFrame.melt` is deprecated. Use `unpivot` instead, with `index` instead of `id_vars` and `on` instead of `value_vars`\n",
      "  df.melt(id_vars=\"year\", value_vars=\"sales\")\n"
     ]
    },
    {
     "data": {
      "text/html": [
       "<div><style>\n",
       ".dataframe > thead > tr,\n",
       ".dataframe > tbody > tr {\n",
       "  text-align: right;\n",
       "  white-space: pre-wrap;\n",
       "}\n",
       "</style>\n",
       "<small>shape: (3, 3)</small><table border=\"1\" class=\"dataframe\"><thead><tr><th>year</th><th>variable</th><th>value</th></tr><tr><td>i64</td><td>str</td><td>i64</td></tr></thead><tbody><tr><td>2020</td><td>&quot;sales&quot;</td><td>100</td></tr><tr><td>2020</td><td>&quot;sales&quot;</td><td>200</td></tr><tr><td>2021</td><td>&quot;sales&quot;</td><td>150</td></tr></tbody></table></div>"
      ],
      "text/plain": [
       "shape: (3, 3)\n",
       "┌──────┬──────────┬───────┐\n",
       "│ year ┆ variable ┆ value │\n",
       "│ ---  ┆ ---      ┆ ---   │\n",
       "│ i64  ┆ str      ┆ i64   │\n",
       "╞══════╪══════════╪═══════╡\n",
       "│ 2020 ┆ sales    ┆ 100   │\n",
       "│ 2020 ┆ sales    ┆ 200   │\n",
       "│ 2021 ┆ sales    ┆ 150   │\n",
       "└──────┴──────────┴───────┘"
      ]
     },
     "execution_count": 23,
     "metadata": {},
     "output_type": "execute_result"
    }
   ],
   "source": [
    "df = pl.DataFrame({\n",
    "    \"year\":[2020, 2020, 2021],\n",
    "    \"product\":[\"A\",\"B\",\"C\"],\n",
    "    \"sales\": [100,200,150]\n",
    "})\n",
    "#pivot \n",
    "df.pivot(values=\"sales\", index=\"year\", columns=\"product\")\n",
    "\n",
    "# melt \n",
    "df.melt(id_vars=\"year\", value_vars=\"sales\")"
   ]
  },
  {
   "cell_type": "markdown",
   "id": "0a4c8081-739c-476e-aa5c-04ac1cd2b9ac",
   "metadata": {},
   "source": [
    "## 6 Null Handling"
   ]
  },
  {
   "cell_type": "code",
   "execution_count": 26,
   "id": "2e92ad62-f84c-4dcf-be78-bc6abf685d2b",
   "metadata": {},
   "outputs": [
    {
     "data": {
      "text/html": [
       "<div><style>\n",
       ".dataframe > thead > tr,\n",
       ".dataframe > tbody > tr {\n",
       "  text-align: right;\n",
       "  white-space: pre-wrap;\n",
       "}\n",
       "</style>\n",
       "<small>shape: (3, 2)</small><table border=\"1\" class=\"dataframe\"><thead><tr><th>name</th><th>age</th></tr><tr><td>str</td><td>i64</td></tr></thead><tbody><tr><td>&quot;Alice&quot;</td><td>25</td></tr><tr><td>&quot;Unknown&quot;</td><td>null</td></tr><tr><td>&quot;Charlie&quot;</td><td>37</td></tr></tbody></table></div>"
      ],
      "text/plain": [
       "shape: (3, 2)\n",
       "┌─────────┬──────┐\n",
       "│ name    ┆ age  │\n",
       "│ ---     ┆ ---  │\n",
       "│ str     ┆ i64  │\n",
       "╞═════════╪══════╡\n",
       "│ Alice   ┆ 25   │\n",
       "│ Unknown ┆ null │\n",
       "│ Charlie ┆ 37   │\n",
       "└─────────┴──────┘"
      ]
     },
     "execution_count": 26,
     "metadata": {},
     "output_type": "execute_result"
    }
   ],
   "source": [
    "df = pl.DataFrame({\n",
    "    \"name\":[\"Alice\", None,\"Charlie\"],\n",
    "    \"age\":[25,None,37]\n",
    "})\n",
    "df.drop_nulls()\n",
    "df.fill_null(\"Unknown\")"
   ]
  },
  {
   "cell_type": "code",
   "execution_count": null,
   "id": "d764ff52-d11f-40f6-adbc-0820ffd8fcf0",
   "metadata": {},
   "outputs": [],
   "source": [
    "## 7 Advanced Expressions"
   ]
  },
  {
   "cell_type": "code",
   "execution_count": 28,
   "id": "cee983b8-237a-40d4-856c-4487309cf302",
   "metadata": {},
   "outputs": [
    {
     "data": {
      "text/html": [
       "<div><style>\n",
       ".dataframe > thead > tr,\n",
       ".dataframe > tbody > tr {\n",
       "  text-align: right;\n",
       "  white-space: pre-wrap;\n",
       "}\n",
       "</style>\n",
       "<small>shape: (4, 2)</small><table border=\"1\" class=\"dataframe\"><thead><tr><th>values</th><th>squared</th></tr><tr><td>i64</td><td>i64</td></tr></thead><tbody><tr><td>1</td><td>1</td></tr><tr><td>2</td><td>4</td></tr><tr><td>3</td><td>9</td></tr><tr><td>4</td><td>16</td></tr></tbody></table></div>"
      ],
      "text/plain": [
       "shape: (4, 2)\n",
       "┌────────┬─────────┐\n",
       "│ values ┆ squared │\n",
       "│ ---    ┆ ---     │\n",
       "│ i64    ┆ i64     │\n",
       "╞════════╪═════════╡\n",
       "│ 1      ┆ 1       │\n",
       "│ 2      ┆ 4       │\n",
       "│ 3      ┆ 9       │\n",
       "│ 4      ┆ 16      │\n",
       "└────────┴─────────┘"
      ]
     },
     "execution_count": 28,
     "metadata": {},
     "output_type": "execute_result"
    }
   ],
   "source": [
    "df = pl.DataFrame({\"values\": [1,2,3,4]})\n",
    "df.with_columns(\n",
    "    (pl.col(\"values\")**2).alias(\"squared\")\n",
    ")"
   ]
  },
  {
   "cell_type": "markdown",
   "id": "1994da17-fbb7-4ae1-a96f-c40acac4aef4",
   "metadata": {},
   "source": [
    "## 8 Multi-threading \n",
    "#### Polars automatically runs operations in parallel., making it much faster than pandas for large datasets. No manual thread handling required."
   ]
  },
  {
   "cell_type": "markdown",
   "id": "fcad21e4-4cf7-4ce2-aba4-f4e093d115a4",
   "metadata": {},
   "source": [
    "##  Performance vs Pandas \n",
    "### Multithreading = Polars(\"YES\")\n",
    "### Lazy Evaluation = Polar(\"YES\")\n",
    "### Memory Usage =Polar(lower)=> Pandas(HIgher)\n",
    "### Speed(large data) => Polar (FAster) + (pandas=>Slower)\n",
    "### API => Silimar but more expressive + (pandas=>mature)\n"
   ]
  },
  {
   "cell_type": "markdown",
   "id": "369f278d-f66d-4745-8340-e21d74becdbf",
   "metadata": {},
   "source": [
    "### Pros of Polars\n",
    "####  Blazing fast due to Rust backend\n",
    "#### 🧠 Lazy evaluation helps optimize complex pipelines\n",
    "#### 🧵 Multi-threaded out of the box\n",
    "#### 🧽 Lower memory consumption\n",
    "#### 📁 Supports Parquet, CSV, JSON, IPC formats"
   ]
  },
  {
   "cell_type": "markdown",
   "id": "93b26efd-f0ae-4bad-a770-f2d20e67034f",
   "metadata": {},
   "source": [
    "### Cons of Polars\n",
    "#### 🧩 Smaller community than pandas\n",
    "#### 🛠️ API still evolving — some edge cases may not be supported\n",
    "#### 📉 Limited visualization — relies on external libraries like matplotlib\n",
    "#### 🧪 Some features in pandas (e.g., complex indexing) are not available yet\n",
    "#### 🧍‍♂️ Steeper learning curve if you're used to pandas"
   ]
  },
  {
   "cell_type": "markdown",
   "id": "2afc4b55-2567-4cbc-ab9d-9e6f372e4e3d",
   "metadata": {},
   "source": [
    "### 🔄 Interoperability\n",
    "#### Convert between pandas and polars:"
   ]
  },
  {
   "cell_type": "code",
   "execution_count": 35,
   "id": "b3a38c8a-1617-48f7-8e87-042ea86365e9",
   "metadata": {},
   "outputs": [
    {
     "ename": "ValueError",
     "evalue": "DataFrame constructor not properly called!",
     "output_type": "error",
     "traceback": [
      "\u001b[1;31m---------------------------------------------------------------------------\u001b[0m",
      "\u001b[1;31mValueError\u001b[0m                                Traceback (most recent call last)",
      "\u001b[1;32m~\\AppData\\Local\\Temp\\ipykernel_16048\\4184812568.py\u001b[0m in \u001b[0;36m?\u001b[1;34m()\u001b[0m\n\u001b[0;32m      1\u001b[0m \u001b[1;32mimport\u001b[0m \u001b[0mpandas\u001b[0m \u001b[1;32mas\u001b[0m \u001b[0mpd\u001b[0m\u001b[1;33m\u001b[0m\u001b[1;33m\u001b[0m\u001b[0m\n\u001b[0;32m      2\u001b[0m \u001b[1;32mimport\u001b[0m \u001b[0mpolars\u001b[0m \u001b[1;32mas\u001b[0m \u001b[0mpl\u001b[0m\u001b[1;33m\u001b[0m\u001b[1;33m\u001b[0m\u001b[0m\n\u001b[0;32m      3\u001b[0m \u001b[1;33m\u001b[0m\u001b[0m\n\u001b[0;32m      4\u001b[0m \u001b[1;31m# pandas to polars\u001b[0m\u001b[1;33m\u001b[0m\u001b[1;33m\u001b[0m\u001b[0m\n\u001b[1;32m----> 5\u001b[1;33m \u001b[0mdf\u001b[0m \u001b[1;33m=\u001b[0m \u001b[0mpl\u001b[0m\u001b[1;33m.\u001b[0m\u001b[0mfrom_pandas\u001b[0m\u001b[1;33m(\u001b[0m\u001b[0mpd\u001b[0m\u001b[1;33m.\u001b[0m\u001b[0mDataFrame\u001b[0m\u001b[1;33m(\u001b[0m\u001b[1;33m...\u001b[0m\u001b[1;33m)\u001b[0m\u001b[1;33m)\u001b[0m\u001b[1;33m\u001b[0m\u001b[1;33m\u001b[0m\u001b[0m\n\u001b[0m\u001b[0;32m      6\u001b[0m \u001b[1;33m\u001b[0m\u001b[0m\n\u001b[0;32m      7\u001b[0m \u001b[1;31m# polars to pandas\u001b[0m\u001b[1;33m\u001b[0m\u001b[1;33m\u001b[0m\u001b[0m\n\u001b[0;32m      8\u001b[0m \u001b[0mpandas_df\u001b[0m \u001b[1;33m=\u001b[0m \u001b[0mdf\u001b[0m\u001b[1;33m.\u001b[0m\u001b[0mto_pandas\u001b[0m\u001b[1;33m(\u001b[0m\u001b[1;33m)\u001b[0m\u001b[1;33m\u001b[0m\u001b[1;33m\u001b[0m\u001b[0m\n",
      "\u001b[1;32m~\\anaconda3\\Lib\\site-packages\\pandas\\core\\frame.py\u001b[0m in \u001b[0;36m?\u001b[1;34m(self, data, index, columns, dtype, copy)\u001b[0m\n\u001b[0;32m    882\u001b[0m                 \u001b[1;33m)\u001b[0m\u001b[1;33m\u001b[0m\u001b[1;33m\u001b[0m\u001b[0m\n\u001b[0;32m    883\u001b[0m         \u001b[1;31m# For data is scalar\u001b[0m\u001b[1;33m\u001b[0m\u001b[1;33m\u001b[0m\u001b[0m\n\u001b[0;32m    884\u001b[0m         \u001b[1;32melse\u001b[0m\u001b[1;33m:\u001b[0m\u001b[1;33m\u001b[0m\u001b[1;33m\u001b[0m\u001b[0m\n\u001b[0;32m    885\u001b[0m             \u001b[1;32mif\u001b[0m \u001b[0mindex\u001b[0m \u001b[1;32mis\u001b[0m \u001b[1;32mNone\u001b[0m \u001b[1;32mor\u001b[0m \u001b[0mcolumns\u001b[0m \u001b[1;32mis\u001b[0m \u001b[1;32mNone\u001b[0m\u001b[1;33m:\u001b[0m\u001b[1;33m\u001b[0m\u001b[1;33m\u001b[0m\u001b[0m\n\u001b[1;32m--> 886\u001b[1;33m                 \u001b[1;32mraise\u001b[0m \u001b[0mValueError\u001b[0m\u001b[1;33m(\u001b[0m\u001b[1;34m\"DataFrame constructor not properly called!\"\u001b[0m\u001b[1;33m)\u001b[0m\u001b[1;33m\u001b[0m\u001b[1;33m\u001b[0m\u001b[0m\n\u001b[0m\u001b[0;32m    887\u001b[0m \u001b[1;33m\u001b[0m\u001b[0m\n\u001b[0;32m    888\u001b[0m             \u001b[0mindex\u001b[0m \u001b[1;33m=\u001b[0m \u001b[0mensure_index\u001b[0m\u001b[1;33m(\u001b[0m\u001b[0mindex\u001b[0m\u001b[1;33m)\u001b[0m\u001b[1;33m\u001b[0m\u001b[1;33m\u001b[0m\u001b[0m\n\u001b[0;32m    889\u001b[0m             \u001b[0mcolumns\u001b[0m \u001b[1;33m=\u001b[0m \u001b[0mensure_index\u001b[0m\u001b[1;33m(\u001b[0m\u001b[0mcolumns\u001b[0m\u001b[1;33m)\u001b[0m\u001b[1;33m\u001b[0m\u001b[1;33m\u001b[0m\u001b[0m\n",
      "\u001b[1;31mValueError\u001b[0m: DataFrame constructor not properly called!"
     ]
    }
   ],
   "source": [
    "import pandas as pd\n",
    "import polars as pl\n",
    "\n",
    "# pandas to polars\n",
    "df = pl.from_pandas(pd.DataFrame(...))\n",
    "\n",
    "# polars to pandas\n",
    "pandas_df = df.to_pandas()"
   ]
  },
  {
   "cell_type": "markdown",
   "id": "81f0cab7-64b8-465f-aca8-0ccdda819eef",
   "metadata": {},
   "source": [
    "### 📚 Real-Life Use Cases\n",
    "#### ETL Pipelines – High-speed processing for data extraction and transformation.\n",
    "\n",
    "#### ML Preprocessing – Clean and process data faster before feeding into ML models.\n",
    "\n",
    "#### Big Data – Load and process millions of rows in seconds.\n",
    "\n",
    "#### Streaming / Log Analysis – Real-time insights using lazy API."
   ]
  },
  {
   "cell_type": "markdown",
   "id": "c8c2931b-3473-4797-8754-679aba2d2393",
   "metadata": {},
   "source": [
    "#### 🔎 Tips and Best Practices\n",
    "#### Use lazy mode for heavy data pipelines.\n",
    "\n",
    "#### Avoid loops, use expressions instead.\n",
    "\n",
    "#### Filter first, then aggregate.\n",
    "\n",
    "#### Use scan_csv() instead of read_csv() for lazy loading large CSVs.\n",
    "\n",
    "#### Use with_columns() to chain multiple new column expressions efficiently.\n",
    "\n"
   ]
  },
  {
   "cell_type": "markdown",
   "id": "44175a88-0392-46da-a7e2-9e857a37320a",
   "metadata": {},
   "source": [
    "### 📦 Additional Tools\n",
    "#### polars-sql (experimental): SQL interface to Polars.\n",
    "\n",
    "#### Works well with pyarrow for Parquet/Arrow file formats.\n",
    "\n",
    "#### Easily integrates into Airflow, Dagster, or Prefect pipelines.\n",
    "\n"
   ]
  },
  {
   "cell_type": "code",
   "execution_count": 40,
   "id": "44ef6bc6-46e5-4d2a-9505-c0618a2b353a",
   "metadata": {},
   "outputs": [
    {
     "ename": "SyntaxError",
     "evalue": "unterminated string literal (detected at line 1) (2538411504.py, line 1)",
     "output_type": "error",
     "traceback": [
      "\u001b[1;36m  Cell \u001b[1;32mIn[40], line 1\u001b[1;36m\u001b[0m\n\u001b[1;33m    If you'd like, I can also help you:\u001b[0m\n\u001b[1;37m          ^\u001b[0m\n\u001b[1;31mSyntaxError\u001b[0m\u001b[1;31m:\u001b[0m unterminated string literal (detected at line 1)\n"
     ]
    }
   ],
   "source": [
    "If you'd like, I can also help you:\n",
    "\n",
    "Create a cheat sheet 📄\n",
    "\n",
    "Build mini-projects using Polars 🛠️\n",
    "\n",
    "Compare it to Spark or Dask 💥\n",
    "\n",
    "Write your own utility functions with Polars 💡"
   ]
  }
 ],
 "metadata": {
  "kernelspec": {
   "display_name": "Python 3 (ipykernel)",
   "language": "python",
   "name": "python3"
  },
  "language_info": {
   "codemirror_mode": {
    "name": "ipython",
    "version": 3
   },
   "file_extension": ".py",
   "mimetype": "text/x-python",
   "name": "python",
   "nbconvert_exporter": "python",
   "pygments_lexer": "ipython3",
   "version": "3.12.7"
  }
 },
 "nbformat": 4,
 "nbformat_minor": 5
}
