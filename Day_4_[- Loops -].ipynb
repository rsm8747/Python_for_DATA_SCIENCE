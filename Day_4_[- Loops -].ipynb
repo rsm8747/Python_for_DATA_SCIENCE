{
 "cells": [
  {
   "cell_type": "markdown",
   "id": "85537554-b072-4b45-a40a-cd5031532aad",
   "metadata": {},
   "source": [
    "### Loops\n",
    "#### Are used to execute a block of code multiple times.\n",
    "#### Has two main loop\n",
    "### (1) for loop\n",
    "#### => Is used when you know how many times to loop (iterating over sequence like lists,tuples,string or range)"
   ]
  },
  {
   "cell_type": "code",
   "execution_count": 2,
   "id": "0a76502a-b172-46e8-b23a-86eef2119f90",
   "metadata": {},
   "outputs": [
    {
     "name": "stdout",
     "output_type": "stream",
     "text": [
      "Iteration:  1\n",
      "Iteration:  2\n",
      "Iteration:  3\n",
      "Iteration:  4\n",
      "Iteration:  5\n"
     ]
    }
   ],
   "source": [
    "def forLoop():\n",
    "    for i in range(1,6):\n",
    "        print(\"Iteration: \",i)\n",
    "\n",
    "forLoop()"
   ]
  },
  {
   "cell_type": "code",
   "execution_count": 6,
   "id": "97d97ae5-9d8b-49bf-a070-32521b08385b",
   "metadata": {},
   "outputs": [
    {
     "name": "stdout",
     "output_type": "stream",
     "text": [
      "Apple\n",
      "Banana\n",
      "Cherry\n"
     ]
    }
   ],
   "source": [
    "# Iterating over list\n",
    "def iteratingList():\n",
    "    fruits =[\"Apple\",\"Banana\",\"Cherry\"]\n",
    "    for fruit in fruits:\n",
    "        print(fruit)\n",
    "\n",
    "\n",
    "iteratingList()\n",
    "\n"
   ]
  },
  {
   "cell_type": "markdown",
   "id": "d64a272f-1d27-4dab-ba1f-605d2415dc2d",
   "metadata": {},
   "source": [
    "### (2) While loop\n",
    "#### Used when you don't know how many times to loop (Continue as long as the condition is True"
   ]
  },
  {
   "cell_type": "code",
   "execution_count": 15,
   "id": "3ab9f9ba-2849-4a13-a127-2dd3f24af6c8",
   "metadata": {},
   "outputs": [
    {
     "name": "stdout",
     "output_type": "stream",
     "text": [
      "Count: 1\n",
      "Count: 2\n",
      "Count: 3\n",
      "Count: 4\n",
      "Count: 5\n"
     ]
    }
   ],
   "source": [
    "def whileloop():\n",
    "    count = 1\n",
    "    while count <=5:\n",
    "        print(\"Count:\",count)\n",
    "        count +=1\n",
    "\n",
    "whileloop()\n",
    "\n"
   ]
  },
  {
   "cell_type": "code",
   "execution_count": 23,
   "id": "bbfb0562-30b4-45dd-bae6-a723a02b0f1f",
   "metadata": {},
   "outputs": [
    {
     "name": "stdin",
     "output_type": "stream",
     "text": [
      "enter password:  1234\n"
     ]
    },
    {
     "name": "stdout",
     "output_type": "stream",
     "text": [
      "Access Granted!\n"
     ]
    }
   ],
   "source": [
    "def whileUserInput():\n",
    "    password= \"\"\n",
    "    while password != \"1234\":\n",
    "        password = input(\"enter password: \")\n",
    "    print(\"Access Granted!\")\n",
    "\n",
    "whileUserInput()"
   ]
  },
  {
   "cell_type": "code",
   "execution_count": 33,
   "id": "fd1cf636-cf4c-4014-bee4-a641ba2e3e19",
   "metadata": {},
   "outputs": [
    {
     "name": "stdin",
     "output_type": "stream",
     "text": [
      "Enter password:  1\n"
     ]
    },
    {
     "name": "stdout",
     "output_type": "stream",
     "text": [
      "Re-enter correct password!\n"
     ]
    },
    {
     "name": "stdin",
     "output_type": "stream",
     "text": [
      "Enter password:  1234\n"
     ]
    },
    {
     "name": "stdout",
     "output_type": "stream",
     "text": [
      "Acccess Granted!\n"
     ]
    }
   ],
   "source": [
    "def whileUserInput():\n",
    "    correct_password=\"1234\"\n",
    "\n",
    "    while True:\n",
    "        password=input(\"Enter password: \")\n",
    "        if password==correct_password:\n",
    "            print(\"Acccess Granted!\")\n",
    "            break\n",
    "        else:\n",
    "            print(\"Re-enter correct password!\")\n",
    "\n",
    "whileUserInput()"
   ]
  },
  {
   "cell_type": "markdown",
   "id": "58e0ccd3-6f4c-494c-a47e-bfe8fc600f15",
   "metadata": {},
   "source": [
    "### 3️⃣ Loop Control Statements\n",
    "#### Python provides three special keywords to control loops:\n",
    "### break #### Statement(exit the loop)\n",
    "#### Used to terminate the loops immediately when a condition is met"
   ]
  },
  {
   "cell_type": "code",
   "execution_count": 38,
   "id": "3b87a37f-b282-4f03-9e6e-c86347bfa61a",
   "metadata": {},
   "outputs": [
    {
     "name": "stdout",
     "output_type": "stream",
     "text": [
      "0\n",
      "1\n",
      "2\n",
      "3\n",
      "4\n"
     ]
    }
   ],
   "source": [
    "for num in range(0,20):\n",
    "    if num ==5:\n",
    "        break #stop when get 5\n",
    "    print(num)"
   ]
  },
  {
   "cell_type": "markdown",
   "id": "9a536b93-9aca-45ad-8e06-d795c827de8b",
   "metadata": {},
   "source": [
    "### continue #### Statments (Skip an iteration)\n",
    "#### USed to skip the rest of the code and continue with the next iteration."
   ]
  },
  {
   "cell_type": "code",
   "execution_count": 41,
   "id": "1eb9295e-bbc0-4ab8-b85c-a48e07efb475",
   "metadata": {},
   "outputs": [
    {
     "name": "stdout",
     "output_type": "stream",
     "text": [
      "1\n",
      "2\n",
      "4\n",
      "5\n",
      "6\n",
      "7\n",
      "8\n",
      "9\n"
     ]
    }
   ],
   "source": [
    "for num in range(1,10):\n",
    "    if num == 3:\n",
    "        continue #skip when it will get 3\n",
    "    print(num)"
   ]
  },
  {
   "cell_type": "markdown",
   "id": "3e735ff9-48f7-4a35-aaf9-5092f67be179",
   "metadata": {},
   "source": [
    "### pass #### Statement (do nothing)\n",
    "##### Used as a placeholder when a loop or function is required but you dont want to execute any code yet.\n",
    "#### No output, just passes through"
   ]
  },
  {
   "cell_type": "code",
   "execution_count": 44,
   "id": "ea95d1dc-12d1-4393-bd12-a0624de8d8c9",
   "metadata": {},
   "outputs": [],
   "source": [
    "for i in range(5):\n",
    "    pass # placeholder for future code "
   ]
  },
  {
   "cell_type": "markdown",
   "id": "e9931f2f-6caf-4ff1-a42c-728746cc5069",
   "metadata": {},
   "source": [
    "#### Real-World Example: Creating a Login System with Future Enhancements\n",
    "#### Imagine you're building a login system, but you haven't implemented the logout functionality yet. Instead of leaving it incomplete or adding a temporary comment, you use pass to avoid syntax errors."
   ]
  },
  {
   "cell_type": "code",
   "execution_count": 51,
   "id": "b13177bc-feb5-4bd2-9bb2-a1c07e9ff2c9",
   "metadata": {},
   "outputs": [
    {
     "name": "stdin",
     "output_type": "stream",
     "text": [
      "Enter username:  admin\n",
      "Ener password:  admin123\n"
     ]
    },
    {
     "name": "stdout",
     "output_type": "stream",
     "text": [
      "Welcome,admin! Ypu have successfully logged in.\n",
      "You are In\n"
     ]
    }
   ],
   "source": [
    "class UserAuth:\n",
    "    def __init__(self):\n",
    "         # Storing users with their passwords (In real applications, use hashed passwords)\n",
    "        self.users={\"Rahul\":\"securepass\",\"admin\":\"admin123\"}\n",
    "    def login(self,username,password):\n",
    "         # Storing users with their passwords (In real applications, use hashed passwords)\n",
    "        if username in self.users and self.users[username] == password:\n",
    "            print(f\"Welcome,{username}! Ypu have successfully logged in.\")\n",
    "            return True\n",
    "        else:\n",
    "            print(\"Invalid username or password. Please try again.\")\n",
    "            return False\n",
    "\n",
    "    def logout(self):\n",
    "        #Future logout functionality\n",
    "        pass\n",
    "\n",
    "auth = UserAuth()\n",
    "\n",
    "username = input(\"Enter username: \")\n",
    "password = input(\"Ener password: \")\n",
    "\n",
    "if auth.login(username, password):\n",
    "    print(\"You are In\")\n",
    "\n",
    "else:\n",
    "    print(\"Out\")\n",
    "\n",
    "auth.logout()"
   ]
  },
  {
   "cell_type": "markdown",
   "id": "97316ebb-51b1-48d3-9e60-c3aea098a930",
   "metadata": {},
   "source": [
    "### 4️⃣ Nested Loops (Loop inside another loop)"
   ]
  },
  {
   "cell_type": "code",
   "execution_count": 54,
   "id": "e39041f6-a886-4725-81c6-c34ebe11087d",
   "metadata": {},
   "outputs": [
    {
     "name": "stdout",
     "output_type": "stream",
     "text": [
      "i=1,j=1\n",
      "i=1,j=2\n",
      "i=1,j=3\n",
      "i=2,j=1\n",
      "i=2,j=2\n",
      "i=2,j=3\n",
      "i=3,j=1\n",
      "i=3,j=2\n",
      "i=3,j=3\n"
     ]
    }
   ],
   "source": [
    "for i in range(1,4):\n",
    "    for j in range(1,4):\n",
    "        print(f\"i={i},j={j}\")"
   ]
  },
  {
   "cell_type": "code",
   "execution_count": 64,
   "id": "382b2237-edd1-468b-863c-4753bdf50fc5",
   "metadata": {},
   "outputs": [
    {
     "name": "stdout",
     "output_type": "stream",
     "text": [
      "+--------------+----------------------------------------------+\n",
      "| Loop Type    | Usage                                        |\n",
      "+==============+==============================================+\n",
      "| for loop     | Iterates over a sequence (list, range, etc.) |\n",
      "+--------------+----------------------------------------------+\n",
      "| while loop   | Runs until a condition becomes False         |\n",
      "+--------------+----------------------------------------------+\n",
      "| break        | Exits the loop immediately                   |\n",
      "+--------------+----------------------------------------------+\n",
      "| continue     | Skips the current iteration and continues    |\n",
      "+--------------+----------------------------------------------+\n",
      "| pass         | Does nothing (placeholder)                   |\n",
      "+--------------+----------------------------------------------+\n",
      "| Nested loops | Loop inside another loop                     |\n",
      "+--------------+----------------------------------------------+\n"
     ]
    }
   ],
   "source": [
    "from tabulate import tabulate\n",
    "\n",
    "# Data for the table\n",
    "data = [\n",
    "    [\"for loop\", \"Iterates over a sequence (list, range, etc.)\"],\n",
    "    [\"while loop\", \"Runs until a condition becomes False\"],\n",
    "    [\"break\", \"Exits the loop immediately\"],\n",
    "    [\"continue\", \"Skips the current iteration and continues\"],\n",
    "    [\"pass\", \"Does nothing (placeholder)\"],\n",
    "    [\"Nested loops\", \"Loop inside another loop\"]\n",
    "]\n",
    "\n",
    "# Printing the table\n",
    "print(tabulate(data, headers=[\"Loop Type\", \"Usage\"], tablefmt=\"grid\"))"
   ]
  }
 ],
 "metadata": {
  "kernelspec": {
   "display_name": "Python 3 (ipykernel)",
   "language": "python",
   "name": "python3"
  },
  "language_info": {
   "codemirror_mode": {
    "name": "ipython",
    "version": 3
   },
   "file_extension": ".py",
   "mimetype": "text/x-python",
   "name": "python",
   "nbconvert_exporter": "python",
   "pygments_lexer": "ipython3",
   "version": "3.12.7"
  }
 },
 "nbformat": 4,
 "nbformat_minor": 5
}
