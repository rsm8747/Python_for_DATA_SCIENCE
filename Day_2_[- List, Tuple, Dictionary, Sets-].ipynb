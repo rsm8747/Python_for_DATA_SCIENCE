{
 "cells": [
  {
   "cell_type": "markdown",
   "id": "6a3f12a2-2e8c-4e7d-a10c-11a8ce4e3a96",
   "metadata": {},
   "source": [
    "### 1. Lists\n",
    "###### Lists are ordered, mutable, collection that can hold hetrogeneous data types.\n",
    "\n",
    "##### Characteristics: \n",
    "###### (1) Ordered seuences of elements\n",
    "###### (2) Mutable [ can be change after creation ]\n",
    "###### (3) Can contains duplicate values.\n",
    "###### (4) Enclosed in squre barackets []"
   ]
  },
  {
   "cell_type": "code",
   "execution_count": 18,
   "id": "d1d2e079-2b11-473b-bc99-196e885b3ad7",
   "metadata": {},
   "outputs": [
    {
     "name": "stdout",
     "output_type": "stream",
     "text": [
      "banana\n",
      " 1 Ordered sequence of elements \n",
      "  Order is maintained:  [10, 20, 30, 40]\n",
      "2 Mutable [can be changed after creation]\n",
      "Before modification:  [1, 2, 3]\n",
      "after mutable_list[1]=[99]:  [1, [99], 3]\n",
      "3 Can contain duplicate values\n",
      "List of duplicate:  [5, 5, 10, 10, 'apple', 'banana', 'apple']\n",
      "4 Enclosed in square barckets [] \n",
      "Empty list: []\n",
      "Single item list: ['hello']\n",
      "Mixed type list:  [1, 'two', 3.0, True, [4, 5]]\n"
     ]
    }
   ],
   "source": [
    "fruits = ['apple','banana','cherry','date']\n",
    "print(fruits[1])\n",
    "\n",
    "print(\" 1 Ordered sequence of elements \")\n",
    "ordered_list = [10,20,30,40]\n",
    "print(\"  Order is maintained: \", ordered_list)\n",
    "\n",
    "print(\"2 Mutable [can be changed after creation]\")\n",
    "mutable_list = [1,2,3]\n",
    "print(\"Before modification: \", mutable_list)\n",
    "mutable_list[1]=[99]\n",
    "print(\"after mutable_list[1]=[99]: \",mutable_list)\n",
    "\n",
    "print(\"3 Can contain duplicate values\")\n",
    "duplicate_list = [5,5,10,10,\"apple\",\"banana\",\"apple\"]\n",
    "print(\"List of duplicate: \",duplicate_list)\n",
    "\n",
    "print(\"4 Enclosed in square barckets [] \")\n",
    "empty_list = []\n",
    "single_item_list = [\"hello\"]\n",
    "mixed_list = [1,\"two\",3.0,True,[4,5]]\n",
    "print(\"Empty list:\",empty_list)\n",
    "print(\"Single item list:\", single_item_list)\n",
    "print(\"Mixed type list: \",mixed_list)"
   ]
  },
  {
   "cell_type": "code",
   "execution_count": 30,
   "id": "ae8cdd40-9277-49e5-ac9d-1610014dd8e5",
   "metadata": {},
   "outputs": [
    {
     "name": "stdout",
     "output_type": "stream",
     "text": [
      "[1, 1.5, 2, 3, 4]\n",
      "[1, 2, 3]\n",
      "[1, 2, 3, 4, 5, 6]\n"
     ]
    }
   ],
   "source": [
    "numbers = [1,2,3]\n",
    "numbers.append(4)\n",
    "numbers.insert(1,1.5)\n",
    "print(numbers)\n",
    "\n",
    "numbers.remove(1.5)\n",
    "popped = numbers.pop()\n",
    "print(numbers)\n",
    "\n",
    "combined = numbers + [4,5,6]\n",
    "repeated = [0]*3\n",
    "sliced = combined[1:4]\n",
    "length = len(combined)\n",
    "\n",
    "print(combined)"
   ]
  },
  {
   "cell_type": "markdown",
   "id": "742036e3-0d07-490e-8799-5fb05c0402aa",
   "metadata": {},
   "source": [
    "##### 2. Tuples\n",
    "###### Tuples are similar to lists but immutable (cannot be changed after creation).\n",
    "##### Characteristics: \n",
    "###### (1) Ordered sequence of elements\n",
    "###### (2) Immutable\n",
    "###### (3) Faster than lists\n",
    "###### (4) Enclosed in parathesis ()"
   ]
  },
  {
   "cell_type": "code",
   "execution_count": 35,
   "id": "0040e3aa-6058-41ca-9495-1609cb53aa1a",
   "metadata": {},
   "outputs": [
    {
     "name": "stdout",
     "output_type": "stream",
     "text": [
      "1920\n"
     ]
    }
   ],
   "source": [
    "dimensions = (1920, 1080)\n",
    "print(dimensions[0])\n",
    "\n"
   ]
  },
  {
   "cell_type": "code",
   "execution_count": 39,
   "id": "9ed7231f-c40e-4906-af9a-44544d300652",
   "metadata": {},
   "outputs": [
    {
     "name": "stdout",
     "output_type": "stream",
     "text": [
      "Order is maintained: (10, 20, 30, 40)\n"
     ]
    }
   ],
   "source": [
    "# 1. Ordered sequence of elements\n",
    "ordered_tuple = (10,20,30,40)\n",
    "print(\"Order is maintained:\",ordered_tuple)"
   ]
  },
  {
   "cell_type": "code",
   "execution_count": 59,
   "id": "6dc9cbdd-2cef-450a-abbb-9a2ff658c251",
   "metadata": {},
   "outputs": [
    {
     "name": "stdout",
     "output_type": "stream",
     "text": [
      "Original Tuple:  (1, 2, 3)\n",
      "\n",
      "Attempting to modify the tuple: \n",
      "Before modification: (1, 2, 3)\n",
      "Error occurred:  'tuple' object does not support item assignment\n",
      "Original tuple remains unchanged: (1, 2, 3)\n"
     ]
    }
   ],
   "source": [
    "# 2. Immutable (cannot be changed after creation)\n",
    "original_tuple = (1,2,3)\n",
    "print(\"Original Tuple: \", original_tuple)\n",
    "\n",
    "# 1. Attempting to modify (will fail)\n",
    "print(\"\\nAttempting to modify the tuple: \")\n",
    "try:\n",
    "    print(\"Before modification:\",original_tuple)\n",
    "    original_tuple[1] = 99 # this will raise an error\n",
    "    print(\"After modification (this won't be printed):\", original_tuple)\n",
    "except TypeError as e:\n",
    "    print(\"Error occurred: \",e)\n",
    "    print(\"Original tuple remains unchanged:\",original_tuple) # error when trying to modify\n"
   ]
  },
  {
   "cell_type": "code",
   "execution_count": 61,
   "id": "51837805-b44d-4998-8d9c-2a924f0c2bfc",
   "metadata": {},
   "outputs": [
    {
     "name": "stdout",
     "output_type": "stream",
     "text": [
      "\n",
      "Proper ways to work with tuple immutability:\n",
      "Created new tuple with modification: (1, 99, 3)\n",
      "Modified via list conversion: (1, 99, 3)\n",
      "\n",
      "Original tuple is still: (1, 2, 3)\n"
     ]
    }
   ],
   "source": [
    "# 2. Proper ways to \"modify\" a tuple (by creating new tuples)\n",
    "print(\"\\nProper ways to work with tuple immutability:\")\n",
    "\n",
    "# a) Create a new tuple with changes\n",
    "new_tuple = original_tuple[:1] + (99,) + original_tuple[2:]\n",
    "print(\"Created new tuple with modification:\", new_tuple)\n",
    "\n",
    "# b) Convert to list, modify, then convert back (not recommended)\n",
    "temp_list = list(original_tuple)\n",
    "temp_list[1] = 99\n",
    "modified_tuple = tuple(temp_list)\n",
    "print(\"Modified via list conversion:\", modified_tuple)\n",
    "\n",
    "# Original tuple remains unchanged\n",
    "print(\"\\nOriginal tuple is still:\", original_tuple)"
   ]
  },
  {
   "cell_type": "code",
   "execution_count": 63,
   "id": "a4b9fe7d-aff1-41ed-8d82-18b5d29f4961",
   "metadata": {},
   "outputs": [
    {
     "name": "stdout",
     "output_type": "stream",
     "text": [
      "\n",
      "Allowed operations that don't modify the tuple:\n",
      "Second element: 2\n",
      "First two elements: (1, 2)\n",
      "Combined tuple: (1, 2, 3, 4, 5)\n",
      "Is 2 in tuple? True\n"
     ]
    }
   ],
   "source": [
    "# 3. What you CAN do with tuples (non-modifying operations)\n",
    "print(\"\\nAllowed operations that don't modify the tuple:\")\n",
    "\n",
    "# Access elements\n",
    "print(\"Second element:\", original_tuple[1])\n",
    "\n",
    "# Slice the tuple\n",
    "print(\"First two elements:\", original_tuple[:2])\n",
    "\n",
    "# Concatenate with other tuples\n",
    "combined = original_tuple + (4, 5)\n",
    "print(\"Combined tuple:\", combined)\n",
    "\n",
    "# Check membership\n",
    "print(\"Is 2 in tuple?\", 2 in original_tuple)"
   ]
  },
  {
   "cell_type": "code",
   "execution_count": 65,
   "id": "7fbf13a0-ff2b-4d82-924e-3464b1e2010b",
   "metadata": {},
   "outputs": [
    {
     "name": "stdout",
     "output_type": "stream",
     "text": [
      "List creation time: 0.159197\n",
      "Tuple creation time: 0.033165\n"
     ]
    }
   ],
   "source": [
    "# 3. Faster than lists (demostrating with timeit)\n",
    "\n",
    "import timeit\n",
    "\n",
    "list_test = timeit.timeit('[1,2,3,4,5]', number =1000000)\n",
    "tuple_test = timeit.timeit('(1,2,3,4,5)', number = 1000000)\n",
    "print(f\"List creation time: {list_test:.6f}\")\n",
    "print(f\"Tuple creation time: {tuple_test:.6f}\")"
   ]
  },
  {
   "cell_type": "code",
   "execution_count": 67,
   "id": "182cae8a-840b-42dd-9a50-9d7e722cf59f",
   "metadata": {},
   "outputs": [
    {
     "name": "stdout",
     "output_type": "stream",
     "text": [
      "Empty tuple: ()\n",
      "Single item tuple: ('hello',)\n",
      "Mixed type tuple: (1, 'two', 3.0, True, (4, 5))\n"
     ]
    }
   ],
   "source": [
    "# 4. Enclosed in parenthese ()\n",
    "empty_tuple = ()\n",
    "single_item_tuple = (\"hello\",)\n",
    "mixed_tuple = (1,\"two\",3.0, True, (4,5))\n",
    "print(\"Empty tuple:\", empty_tuple)\n",
    "print(\"Single item tuple:\", single_item_tuple)\n",
    "print(\"Mixed type tuple:\",mixed_tuple)\n",
    "\n"
   ]
  },
  {
   "cell_type": "code",
   "execution_count": 75,
   "id": "4ce369cd-a5d9-4c8a-89a5-a0e4bb7556d2",
   "metadata": {},
   "outputs": [
    {
     "name": "stdout",
     "output_type": "stream",
     "text": [
      "(1, 'two', 3.0, True, (4, 5))\n",
      "First element: 1\n",
      "Last element: (4, 5)\n",
      "Slice: ('two', 3.0)\n",
      "Unpacked: 1 two 3.0 True\n",
      "combined:  (1, 2, 3, 4)\n",
      "repeated: (0, 0, 0)\n",
      "'two' in tuple: True\n"
     ]
    }
   ],
   "source": [
    "# Additional examples showing tuple operations\n",
    "# Accessing elements\n",
    "print(mixed_tuple)\n",
    "print(\"First element:\", mixed_tuple[0])  # Output: 1\n",
    "print(\"Last element:\", mixed_tuple[-1])  # Output: (4, 5)\n",
    "\n",
    "# Slicing\n",
    "print(\"Slice:\", mixed_tuple[1:3])  # Output: ('two', 3.0)\n",
    "\n",
    "# Tuple unpacking\n",
    "a, b, c, d, e = mixed_tuple\n",
    "print(\"Unpacked:\", a, b, c,d)  # Output: 1 two 3.0\n",
    "\n",
    "# Concatenation\n",
    "combined = (1, 2) + (3, 4)  # (1, 2, 3, 4)\n",
    "print(\"combined: \",combined)\n",
    "# Repetition\n",
    "repeated = (0,) * 3  # (0, 0, 0)\n",
    "print(\"repeated:\", repeated)\n",
    "# Membership test\n",
    "print(\"'two' in tuple:\", \"two\" in mixed_tuple)  # Output: True\n"
   ]
  },
  {
   "cell_type": "markdown",
   "id": "4da7fca5-f32b-4ca6-96e0-a3e40a2717f9",
   "metadata": {},
   "source": [
    "##### 3. Dictionaries\n",
    "###### Dictionaries stores key-value pairs and are optimized for fast lookups\n",
    "##### Characteristics: \n",
    "###### (1) Unordered collection\n",
    "###### (2) Mutable\n",
    "###### (3) Keys must be unique and immutable (strings, numbers, tuples)\n",
    "###### (4) Enclosed in curly braces {}"
   ]
  },
  {
   "cell_type": "code",
   "execution_count": 78,
   "id": "b03cd3cb-056e-4bda-a18b-5cb04a1ab45d",
   "metadata": {},
   "outputs": [
    {
     "name": "stdout",
     "output_type": "stream",
     "text": [
      "CS\n"
     ]
    }
   ],
   "source": [
    "student = {\n",
    "    'name': 'maria',\n",
    "    'age': 22,\n",
    "    'major': 'CS',\n",
    "    'gpa':3.8\n",
    "\n",
    "}\n",
    "print(student['major'])"
   ]
  },
  {
   "cell_type": "code",
   "execution_count": 80,
   "id": "626bcc70-3851-46c6-8802-dfd5b967071c",
   "metadata": {},
   "outputs": [
    {
     "name": "stdout",
     "output_type": "stream",
     "text": [
      "Dictionary items may not be ordered (Python < 3.7): {'b': 2, 'a': 1, 'c': 3}\n"
     ]
    }
   ],
   "source": [
    "# 1. Unordered collection (in Python < 3.7)\n",
    "unordered_dict = {'b': 2, 'a': 1, 'c': 3}\n",
    "print(\"Dictionary items may not be ordered (Python < 3.7):\", unordered_dict)\n",
    "# Note: In Python 3.7+, dictionaries maintain insertion order"
   ]
  },
  {
   "cell_type": "code",
   "execution_count": 84,
   "id": "e3521f2b-c44a-4f93-9261-d0aadac5b3d7",
   "metadata": {},
   "outputs": [
    {
     "name": "stdout",
     "output_type": "stream",
     "text": [
      "\n",
      "Before modification: {'name': 'Alice', 'age': 25}\n",
      "After modification: {'name': 'Alice', 'age': 26, 'city': 'New York'}\n"
     ]
    }
   ],
   "source": [
    "# 2. Mutable (can be changed after creation)\n",
    "mutable_dict = {'name': 'Alice', 'age': 25}\n",
    "print(\"\\nBefore modification:\", mutable_dict)\n",
    "mutable_dict['age'] = 26  # Modify existing value\n",
    "mutable_dict['city'] = 'New York'  # Add new key-value pair\n",
    "print(\"After modification:\", mutable_dict)"
   ]
  },
  {
   "cell_type": "code",
   "execution_count": 86,
   "id": "8ccb87e8-f690-4bcb-83cb-c658ee93939e",
   "metadata": {},
   "outputs": [
    {
     "name": "stdout",
     "output_type": "stream",
     "text": [
      "\n",
      "Dictionary with various valid keys: {'string_key': 'value1', 42: 'value2', (1, 2): 'value3', True: 'value4'}\n"
     ]
    }
   ],
   "source": [
    "# 3. Keys must be unique and immutable\n",
    "# Valid keys\n",
    "valid_keys_dict = {\n",
    "    'string_key': 'value1',  # String key\n",
    "    42: 'value2',           # Integer key\n",
    "    (1, 2): 'value3',       # Tuple key\n",
    "    True: 'value4'          # Boolean key (subtype of int)\n",
    "}\n",
    "print(\"\\nDictionary with various valid keys:\", valid_keys_dict)\n"
   ]
  },
  {
   "cell_type": "code",
   "execution_count": 88,
   "id": "057827b1-0b76-4fd8-941d-5131a628663e",
   "metadata": {},
   "outputs": [
    {
     "name": "stdout",
     "output_type": "stream",
     "text": [
      "\n",
      "Error when using mutable key: unhashable type: 'list'\n",
      "\n",
      "Empty dictionary: {}\n",
      "Simple dictionary: {'key1': 1, 'key2': 2}\n",
      "Nested dictionary: {'user1': {'name': 'Alice', 'age': 25}, 'user2': {'name': 'Bob', 'age': 30}}\n",
      "\n",
      "Accessing values:\n",
      "Get value for 'string_key': value1\n",
      "Get with default: default_value\n",
      "\n",
      "Dictionary keys: dict_keys(['string_key', (1, 2), True, 'new_key'])\n",
      "Dictionary values: dict_values(['updated_value', 'value3', 'value4', 'new_value'])\n",
      "Key-value pairs: dict_items([('string_key', 'updated_value'), ((1, 2), 'value3'), (True, 'value4'), ('new_key', 'new_value')])\n"
     ]
    }
   ],
   "source": [
    "# Invalid key example (uncomment to see error)\n",
    "try:\n",
    "    invalid_dict = {['list_key']: 'value'}  # List is mutable\n",
    "except TypeError as e:\n",
    "    print(\"\\nError when using mutable key:\", e)\n",
    "\n",
    "# 4. Enclosed in curly braces {}\n",
    "empty_dict = {}\n",
    "simple_dict = {'key1': 1, 'key2': 2}\n",
    "nested_dict = {\n",
    "    'user1': {'name': 'Alice', 'age': 25},\n",
    "    'user2': {'name': 'Bob', 'age': 30}\n",
    "}\n",
    "print(\"\\nEmpty dictionary:\", empty_dict)\n",
    "print(\"Simple dictionary:\", simple_dict)\n",
    "print(\"Nested dictionary:\", nested_dict)\n",
    "\n",
    "# Additional dictionary operations\n",
    "# Accessing values\n",
    "print(\"\\nAccessing values:\")\n",
    "print(\"Get value for 'string_key':\", valid_keys_dict['string_key'])\n",
    "print(\"Get with default:\", valid_keys_dict.get('nonexistent', 'default_value'))\n",
    "\n",
    "# Adding/updating\n",
    "valid_keys_dict['new_key'] = 'new_value'\n",
    "valid_keys_dict.update({'string_key': 'updated_value', 'another_key': 123})\n",
    "\n",
    "# Removing items\n",
    "removed_value = valid_keys_dict.pop(42)  # Remove by key\n",
    "valid_keys_dict.popitem()  # Remove last inserted item (Python 3.7+)\n",
    "\n",
    "# Dictionary methods\n",
    "print(\"\\nDictionary keys:\", valid_keys_dict.keys())\n",
    "print(\"Dictionary values:\", valid_keys_dict.values())\n",
    "print(\"Key-value pairs:\", valid_keys_dict.items())"
   ]
  },
  {
   "cell_type": "markdown",
   "id": "3fe9d399-573b-4655-855e-03d9a5f3bb5c",
   "metadata": {},
   "source": [
    "#### 4. Sets\n",
    "###### Sets are unordered collection of unique elements.\n",
    "#### Characteristics:\n",
    "###### (1) Unordered\n",
    "###### (2) Contains only unique values\n",
    "###### (3) Mutable\n",
    "###### (4) Enclosed in curly barces {} (like dicst but without key-value pairs)"
   ]
  },
  {
   "cell_type": "code",
   "execution_count": 91,
   "id": "1d36a383-feec-4804-a8a2-2664bf89c0bb",
   "metadata": {},
   "outputs": [
    {
     "name": "stdout",
     "output_type": "stream",
     "text": [
      "{1, 2, 3, 4, 5}\n"
     ]
    }
   ],
   "source": [
    "# Example 1: Basic set\n",
    "unique_numbers = {1, 2, 3, 4, 5, 5, 4}\n",
    "print(unique_numbers)  # Output: {1, 2, 3, 4, 5} (duplicates removed)"
   ]
  },
  {
   "cell_type": "code",
   "execution_count": 93,
   "id": "37723c2b-f680-4840-beae-bef8c1a01a78",
   "metadata": {},
   "outputs": [
    {
     "name": "stdout",
     "output_type": "stream",
     "text": [
      "Set order may vary: {1, 2, 3}\n"
     ]
    }
   ],
   "source": [
    "# 1. Unordered collection\n",
    "unordered_set = {3, 1, 2}\n",
    "print(\"Set order may vary:\", unordered_set)  # Output order may differ\n"
   ]
  },
  {
   "cell_type": "code",
   "execution_count": 95,
   "id": "4016fb0d-bdd5-412a-89b1-8091382c49dc",
   "metadata": {},
   "outputs": [
    {
     "name": "stdout",
     "output_type": "stream",
     "text": [
      "\n",
      "Duplicate values automatically removed: {1, 2, 3}\n"
     ]
    }
   ],
   "source": [
    "# 2. Contains only unique values\n",
    "unique_set = {1, 2, 2, 3, 3, 3}\n",
    "print(\"\\nDuplicate values automatically removed:\", unique_set)  # Output: {1, 2, 3}"
   ]
  },
  {
   "cell_type": "code",
   "execution_count": 97,
   "id": "1c836007-d545-4005-85f6-7a5d8b965585",
   "metadata": {},
   "outputs": [
    {
     "name": "stdout",
     "output_type": "stream",
     "text": [
      "\n",
      "Before modification: {1, 2, 3}\n",
      "After modification: {2, 3, 4, 5, 6}\n"
     ]
    }
   ],
   "source": [
    "\n",
    "# 3. Mutable (can be changed after creation)\n",
    "mutable_set = {1, 2, 3}\n",
    "print(\"\\nBefore modification:\", mutable_set)\n",
    "mutable_set.add(4)       # Add single element\n",
    "mutable_set.update([5, 6])  # Add multiple elements\n",
    "mutable_set.remove(1)    # Remove element (raises KeyError if not found)\n",
    "mutable_set.discard(10)  # Remove if exists (no error if not found)\n",
    "print(\"After modification:\", mutable_set)"
   ]
  },
  {
   "cell_type": "code",
   "execution_count": 99,
   "id": "9adf249c-97e2-4e3f-8610-243096aa7f61",
   "metadata": {},
   "outputs": [
    {
     "name": "stdout",
     "output_type": "stream",
     "text": [
      "\n",
      "Empty set: set()\n",
      "Simple set: {1, 2, 3}\n",
      "Mixed type set: {1, (4, 5), 3.0, 'two'}\n"
     ]
    }
   ],
   "source": [
    "# 4. Enclosed in curly braces {} (without key-value pairs)\n",
    "empty_set = set()        # Note: {} creates empty dict, not empty set\n",
    "simple_set = {1, 2, 3}\n",
    "mixed_set = {1, \"two\", 3.0, (4, 5)}\n",
    "print(\"\\nEmpty set:\", empty_set)\n",
    "print(\"Simple set:\", simple_set)\n",
    "print(\"Mixed type set:\", mixed_set)"
   ]
  },
  {
   "cell_type": "code",
   "execution_count": 101,
   "id": "a33de0cc-ca44-4f70-baf3-795e68ccdc98",
   "metadata": {},
   "outputs": [],
   "source": [
    "# Set operations\n",
    "set_a = {1, 2, 3, 4}\n",
    "set_b = {3, 4, 5, 6}\n"
   ]
  },
  {
   "cell_type": "code",
   "execution_count": 103,
   "id": "051d7671-6589-42a4-8f46-ca9c618e2f1e",
   "metadata": {},
   "outputs": [
    {
     "name": "stdout",
     "output_type": "stream",
     "text": [
      "\n",
      "Set operations:\n",
      "Union: {1, 2, 3, 4, 5, 6}\n",
      "Intersection: {3, 4}\n",
      "Difference: {1, 2}\n",
      "Symmetric Difference: {1, 2, 5, 6}\n"
     ]
    }
   ],
   "source": [
    "print(\"\\nSet operations:\")\n",
    "print(\"Union:\", set_a | set_b)          # {1, 2, 3, 4, 5, 6}\n",
    "print(\"Intersection:\", set_a & set_b)   # {3, 4}\n",
    "print(\"Difference:\", set_a - set_b)     # {1, 2}\n",
    "print(\"Symmetric Difference:\", set_a ^ set_b)  # {1, 2, 5, 6}\n"
   ]
  },
  {
   "cell_type": "code",
   "execution_count": 105,
   "id": "87c93015-5b53-42d9-82e8-ecfb911967b4",
   "metadata": {},
   "outputs": [
    {
     "name": "stdout",
     "output_type": "stream",
     "text": [
      "\n",
      "Set comprehension: {0, 1, 4, 9, 16}\n"
     ]
    }
   ],
   "source": [
    "# Set comprehensions\n",
    "squares = {x**2 for x in range(5)}\n",
    "print(\"\\nSet comprehension:\", squares)  # {0, 1, 4, 9, 16}"
   ]
  },
  {
   "cell_type": "code",
   "execution_count": 107,
   "id": "2082bfee-7d5f-4551-b532-14f1624f6b90",
   "metadata": {},
   "outputs": [
    {
     "name": "stdout",
     "output_type": "stream",
     "text": [
      "\n",
      "Frozenset (immutable set): frozenset({1, 2, 3})\n",
      "Cannot modify frozenset: 'frozenset' object has no attribute 'add'\n"
     ]
    }
   ],
   "source": [
    "# Frozenset (immutable set example)\n",
    "immutable_set = frozenset([1, 2, 3])\n",
    "print(\"\\nFrozenset (immutable set):\", immutable_set)\n",
    "try:\n",
    "    immutable_set.add(4)  # Will raise AttributeError\n",
    "except AttributeError as e:\n",
    "    print(\"Cannot modify frozenset:\", e)"
   ]
  },
  {
   "cell_type": "code",
   "execution_count": 109,
   "id": "333e3705-7ff3-4f1e-8538-2537ed6f38ce",
   "metadata": {},
   "outputs": [
    {
     "data": {
      "text/plain": [
       "' Data Science Applications\\nThese data structures are particularly useful in data science:\\n\\nLists: Store sequences of data points, feature values, or time series data\\n\\nDictionaries: Store data with labels (like JSON), configuration settings, or feature names with values\\n\\nTuples: Store fixed collections of items (like database records)\\n\\nSets: Find unique values in datasets or perform set operations '"
      ]
     },
     "execution_count": 109,
     "metadata": {},
     "output_type": "execute_result"
    }
   ],
   "source": [
    "\"\"\" Data Science Applications\n",
    "These data structures are particularly useful in data science:\n",
    "\n",
    "Lists: Store sequences of data points, feature values, or time series data\n",
    "\n",
    "Dictionaries: Store data with labels (like JSON), configuration settings, or feature names with values\n",
    "\n",
    "Tuples: Store fixed collections of items (like database records)\n",
    "\n",
    "Sets: Find unique values in datasets or perform set operations \"\"\""
   ]
  },
  {
   "cell_type": "code",
   "execution_count": 111,
   "id": "217d03c2-764d-4cb0-b46c-692b5ee9622f",
   "metadata": {},
   "outputs": [],
   "source": [
    "# List of dictionaries (common in data processing)\n",
    "data = [\n",
    "    {'name': 'Alice', 'score': 88, 'passed': True},\n",
    "    {'name': 'Bob', 'score': 64, 'passed': False},\n",
    "    {'name': 'Charlie', 'score': 92, 'passed': True}\n",
    "]\n",
    "\n",
    "# Dictionary comprehension (like list comprehension)\n",
    "squared_numbers = {x: x**2 for x in range(1, 6)}\n",
    "# Output: {1: 1, 2: 4, 3: 9, 4: 16, 5: 25}\n",
    "\n",
    "# Using sets to find unique values in a dataset\n",
    "survey_responses = ['yes', 'no', 'yes', 'maybe', 'no', 'yes']\n",
    "unique_responses = set(survey_responses)\n",
    "# Output: {'yes', 'no', 'maybe'}"
   ]
  }
 ],
 "metadata": {
  "kernelspec": {
   "display_name": "Python 3 (ipykernel)",
   "language": "python",
   "name": "python3"
  },
  "language_info": {
   "codemirror_mode": {
    "name": "ipython",
    "version": 3
   },
   "file_extension": ".py",
   "mimetype": "text/x-python",
   "name": "python",
   "nbconvert_exporter": "python",
   "pygments_lexer": "ipython3",
   "version": "3.12.7"
  }
 },
 "nbformat": 4,
 "nbformat_minor": 5
}
