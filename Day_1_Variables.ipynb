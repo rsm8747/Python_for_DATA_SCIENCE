{
 "cells": [
  {
   "cell_type": "markdown",
   "id": "9302690f-e3f3-4da9-8150-1df5a017d89c",
   "metadata": {},
   "source": [
    "## 1 Numeric Variables (int, float, complex)"
   ]
  },
  {
   "cell_type": "code",
   "execution_count": 3,
   "id": "9fd9ef6f-e465-4888-9b62-92ecadac2e29",
   "metadata": {},
   "outputs": [
    {
     "name": "stdout",
     "output_type": "stream",
     "text": [
      "<class 'int'>\n",
      "<class 'float'>\n",
      "<class 'complex'>\n"
     ]
    }
   ],
   "source": [
    "# integer \n",
    "a=10\n",
    "print(type(a))  # output : <class 'int'>\n",
    "\n",
    "# float \n",
    "b = 10.5\n",
    "print(type(b)) # output : <class 'float'>\n",
    "\n",
    "# Complex Number\n",
    "c = 3 + 4j\n",
    "print(type(c))  # output : <class 'complex'>"
   ]
  },
  {
   "cell_type": "markdown",
   "id": "b6c02cd2-38c8-46c1-8c98-ba30e0a3a4e1",
   "metadata": {},
   "source": [
    "## 2. Boolean Variables"
   ]
  },
  {
   "cell_type": "code",
   "execution_count": 6,
   "id": "61653af5-eefe-4fc0-8a38-922e1f0ce4bd",
   "metadata": {},
   "outputs": [
    {
     "name": "stdout",
     "output_type": "stream",
     "text": [
      "<class 'bool'>\n"
     ]
    }
   ],
   "source": [
    "is_active = True\n",
    "is_passed = False\n",
    "print(type(is_active)) # output: <class 'bool'>"
   ]
  },
  {
   "cell_type": "markdown",
   "id": "20f83f86-6da2-439a-acf6-efba54147af5",
   "metadata": {},
   "source": [
    "#### Usage in Data Science: Used in conditions, filtering datasets, and decision-making in ML models."
   ]
  },
  {
   "cell_type": "markdown",
   "id": "bb9724ec-4a48-4960-8e02-cb2e1dc9c6cb",
   "metadata": {},
   "source": [
    "### 3. String Variables"
   ]
  },
  {
   "cell_type": "code",
   "execution_count": 10,
   "id": "9aba251d-cfce-4bf0-a52c-3961e70e8feb",
   "metadata": {},
   "outputs": [
    {
     "name": "stdout",
     "output_type": "stream",
     "text": [
      "<class 'str'>\n",
      "RAHUL MORE\n"
     ]
    }
   ],
   "source": [
    "name = \"Rahul More\"\n",
    "print(type(name))  # output : <class 'str'>\n",
    "print(name.upper()) # convert to upper case\n",
    "\n",
    "# Usage in Data Science: Used in text processing (NLP), data cleaning,\n",
    "# and visualization."
   ]
  },
  {
   "cell_type": "markdown",
   "id": "82e84fb6-9032-4328-9343-38d378b97f87",
   "metadata": {},
   "source": [
    "## 4. List Variables"
   ]
  },
  {
   "cell_type": "code",
   "execution_count": 15,
   "id": "a223ff42-aaed-4b2e-b23c-90b32d40048f",
   "metadata": {},
   "outputs": [
    {
     "name": "stdout",
     "output_type": "stream",
     "text": [
      "20\n",
      "[10, 20, 30, 40, 50]\n"
     ]
    },
    {
     "data": {
      "text/plain": [
       "' Usage in Data Science: Used for handling collections of data before converting to NumPy/Pandas. '"
      ]
     },
     "execution_count": 15,
     "metadata": {},
     "output_type": "execute_result"
    }
   ],
   "source": [
    "numbers = [10,20,30,40]\n",
    "print(numbers[1]) # output: 20\n",
    "numbers.append(50)\n",
    "print(numbers) # output : [10,20,30,40,50]\n",
    "\n",
    "\"\"\" Usage in Data Science: Used for handling collections of data before converting to NumPy/Pandas. \"\"\""
   ]
  },
  {
   "cell_type": "markdown",
   "id": "dbacd2b9-45e5-4c9f-8db7-2cdda11a40d9",
   "metadata": {},
   "source": [
    "## 5. Tuple variables "
   ]
  },
  {
   "cell_type": "code",
   "execution_count": 18,
   "id": "9a83699f-7b4a-4b9a-9eb8-0aac637243c1",
   "metadata": {},
   "outputs": [
    {
     "name": "stdout",
     "output_type": "stream",
     "text": [
      "<class 'tuple'>\n"
     ]
    }
   ],
   "source": [
    "coordinates = (10.5, 20.3)\n",
    "print(type(coordinates)) # output: <class 'tuple'>\n",
    "\n",
    "\"\"\" Usage in Data Science: Used for fixed data structures, like latitude-longitude pairs. \"\"\""
   ]
  },
  {
   "cell_type": "markdown",
   "id": "e36a34eb-00f2-4f95-9d42-d167134742f8",
   "metadata": {},
   "source": [
    "## 6. Set variables"
   ]
  },
  {
   "cell_type": "code",
   "execution_count": 23,
   "id": "cd6037c2-e21b-424f-85b9-f9730e1b834d",
   "metadata": {},
   "outputs": [
    {
     "name": "stdout",
     "output_type": "stream",
     "text": [
      "{1, 2, 3, 4}\n"
     ]
    },
    {
     "data": {
      "text/plain": [
       "'  Usage in Data Science: Removes duplicates from datasets. '"
      ]
     },
     "execution_count": 23,
     "metadata": {},
     "output_type": "execute_result"
    }
   ],
   "source": [
    "unique_values = {1,2,3,4,4,2}\n",
    "print(unique_values) # output : {1,2,3,4}\n",
    "\"\"\"  Usage in Data Science: Removes duplicates from datasets. \"\"\" "
   ]
  },
  {
   "cell_type": "markdown",
   "id": "d38435ba-26b1-4c22-a4b7-cd62218c56a8",
   "metadata": {},
   "source": [
    "## 7. Dictionary Variables "
   ]
  },
  {
   "cell_type": "code",
   "execution_count": 28,
   "id": "a1d6e40b-0d96-4fad-8f4d-8cb0aa902fd2",
   "metadata": {},
   "outputs": [
    {
     "name": "stdout",
     "output_type": "stream",
     "text": [
      "Rahul\n"
     ]
    },
    {
     "data": {
      "text/plain": [
       "' Usage in Data Science: Used for mapping key-value pairs, JSON data processing. '"
      ]
     },
     "execution_count": 28,
     "metadata": {},
     "output_type": "execute_result"
    }
   ],
   "source": [
    "person = {\"name\":\"Rahul\",\"age\": 26,\"city\":\"Pune\"}\n",
    "print(person[\"name\"]) # output: Rahul\n",
    "\"\"\" Usage in Data Science: Used for mapping key-value pairs, JSON data processing. \"\"\" "
   ]
  },
  {
   "cell_type": "markdown",
   "id": "c8d381e6-26ed-40d1-aeb3-c75c228b44bb",
   "metadata": {},
   "source": [
    "## 8. Numpy Arrays (for numerical computing)"
   ]
  },
  {
   "cell_type": "code",
   "execution_count": 33,
   "id": "733ccea8-81af-4a9e-9564-77cd41c5528c",
   "metadata": {},
   "outputs": [
    {
     "name": "stdout",
     "output_type": "stream",
     "text": [
      "[2 4 6 8]\n"
     ]
    },
    {
     "data": {
      "text/plain": [
       "' NOTE: Usage in Data Science: Faster than lists, used in linear algebra, statistics, and ML.\\n\\n  '"
      ]
     },
     "execution_count": 33,
     "metadata": {},
     "output_type": "execute_result"
    }
   ],
   "source": [
    "import numpy as np\n",
    "\n",
    "arr = np.array([1,2,3,4])\n",
    "print(arr*2) # output [2,4,6,8]\n",
    "\"\"\" NOTE: Usage in Data Science: Faster than lists, used in linear algebra, statistics, and ML.\n",
    "\n",
    "  \"\"\""
   ]
  },
  {
   "cell_type": "markdown",
   "id": "f95da3af-4db8-4e72-99df-69631ae7dc56",
   "metadata": {},
   "source": [
    "## 9. Pandas"
   ]
  },
  {
   "cell_type": "code",
   "execution_count": 38,
   "id": "a9e0ae3d-b4e5-4449-8331-58af9952c92c",
   "metadata": {},
   "outputs": [
    {
     "name": "stdout",
     "output_type": "stream",
     "text": [
      "    Name  Age\n",
      "0  RAHUL   26\n",
      "1   AMIT   25\n"
     ]
    },
    {
     "data": {
      "text/plain": [
       "' NOTE:Usage in Data Science: Used for data manipulation, cleaning, and analysis. '"
      ]
     },
     "execution_count": 38,
     "metadata": {},
     "output_type": "execute_result"
    }
   ],
   "source": [
    "import pandas as pd\n",
    "\n",
    "data = {\"Name\":[\"RAHUL\",\"AMIT\"],\"Age\":[26,25]}\n",
    "df = pd.DataFrame(data)\n",
    "print(df)\n",
    "\"\"\" NOTE:Usage in Data Science: Used for data manipulation, cleaning, and analysis. \"\"\""
   ]
  }
 ],
 "metadata": {
  "kernelspec": {
   "display_name": "Python 3 (ipykernel)",
   "language": "python",
   "name": "python3"
  },
  "language_info": {
   "codemirror_mode": {
    "name": "ipython",
    "version": 3
   },
   "file_extension": ".py",
   "mimetype": "text/x-python",
   "name": "python",
   "nbconvert_exporter": "python",
   "pygments_lexer": "ipython3",
   "version": "3.12.7"
  }
 },
 "nbformat": 4,
 "nbformat_minor": 5
}
