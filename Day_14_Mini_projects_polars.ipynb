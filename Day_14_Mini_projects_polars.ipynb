{
 "cells": [
  {
   "cell_type": "markdown",
   "id": "e20bba4d-1180-490f-a0ce-5ffa103c07b0",
   "metadata": {},
   "source": [
    "### Project 1: Movie Ratings Analysis\n",
    "#### 📝 Goal:\n",
    "####  Analyze IMDb-style movie ratings to find:\n",
    "\n",
    "####  Top-rated movies\n",
    "\n",
    "####  Average rating per genre\n",
    "\n",
    "####  Most active users"
   ]
  },
  {
   "cell_type": "markdown",
   "id": "1e7eb238-6ba0-4262-926d-1a9f6070f5c1",
   "metadata": {},
   "source": [
    "### 📦 Dataset:\n",
    "#### Simulated or real CSV with columns:\n",
    "####  movie_id, title, genre, user_id, rating, timestamp"
   ]
  },
  {
   "cell_type": "code",
   "execution_count": 7,
   "id": "fd63cfad-e9b4-48e6-9e51-45dbd57b1c55",
   "metadata": {},
   "outputs": [
    {
     "name": "stdout",
     "output_type": "stream",
     "text": [
      "✅ movie_ratings.csv created successfully!\n"
     ]
    }
   ],
   "source": [
    "import pandas as pd\n",
    "\n",
    "# Sample movie rating data\n",
    "data = {\n",
    "    \"movie_id\": [101, 102, 103, 104, 105, 106, 107, 108, 109, 110],\n",
    "    \"title\": [\n",
    "        \"Inception\", \"The Matrix\", \"The Godfather\", \"The Dark Knight\", \"Inception\",\n",
    "        \"The Godfather\", \"The Matrix\", \"The Dark Knight\", \"Inception\", \"The Godfather\"\n",
    "    ],\n",
    "    \"genre\": [\n",
    "        \"Sci-Fi\", \"Sci-Fi\", \"Crime\", \"Action\", \"Sci-Fi\",\n",
    "        \"Crime\", \"Sci-Fi\", \"Action\", \"Sci-Fi\", \"Crime\"\n",
    "    ],\n",
    "    \"user_id\": [1, 2, 1, 3, 2, 2, 1, 2, 3, 3],\n",
    "    \"rating\": [4.5, 5.0, 5.0, 4.7, 4.0, 4.8, 4.9, 4.8, 5.0, 4.9],\n",
    "    \"timestamp\": [\n",
    "        \"2022-06-01\", \"2022-06-02\", \"2022-06-03\", \"2022-06-01\", \"2022-06-02\",\n",
    "        \"2022-06-04\", \"2022-06-03\", \"2022-06-05\", \"2022-06-04\", \"2022-06-06\"\n",
    "    ]\n",
    "}\n",
    "\n",
    "# Create DataFrame and save as CSV\n",
    "df = pd.DataFrame(data)\n",
    "df.to_csv(\"movie_ratings.csv\", index=False)\n",
    "\n",
    "print(\"✅ movie_ratings.csv created successfully!\")\n"
   ]
  },
  {
   "cell_type": "code",
   "execution_count": 15,
   "id": "6a5fccd0-7f5c-4465-ad83-02d053040e9b",
   "metadata": {},
   "outputs": [
    {
     "name": "stderr",
     "output_type": "stream",
     "text": [
      "C:\\Users\\Rahul\\AppData\\Local\\Temp\\ipykernel_5788\\3014453136.py:18: DeprecationWarning: `pl.count()` is deprecated. Please use `pl.len()` instead.\n",
      "  active_users = df.group_by(\"user_id\").agg(pl.count().alias(\"rating_count\")).sort(\"rating_count\", descending=True)\n"
     ]
    }
   ],
   "source": [
    "import polars as pl\n",
    "\n",
    "# Load dataset\n",
    "df = pl.read_csv(\"movie_ratings.csv\")\n",
    "\n",
    "# Top 10 highest rated movies\n",
    "top_movies = (\n",
    "    df.group_by(\"title\")\n",
    "    .agg(pl.col(\"rating\").mean().alias(\"avg_rating\"))\n",
    "    .sort(\"avg_rating\", descending=True)\n",
    "    .head(10)\n",
    ")\n",
    "\n",
    "# Average rating per genre\n",
    "avg_genre = df.group_by(\"genre\").agg(pl.col(\"rating\").mean().alias(\"genre_avg\"))\n",
    "\n",
    "# Most active users\n",
    "active_users = df.group_by(\"user_id\").agg(pl.count().alias(\"rating_count\")).sort(\"rating_count\", descending=True)\n"
   ]
  },
  {
   "cell_type": "markdown",
   "id": "3fe57563-c04c-4698-b0b6-8a9e603a09fc",
   "metadata": {},
   "source": [
    "#### 📊 Project 2: Sales Dashboard from CSV\n",
    "#### 📝 Goal:\n",
    "#### Generate insights from daily sales:\n",
    "\n",
    "#### Total daily sales\n",
    "\n",
    "#### Best selling product\n",
    "\n",
    "#### Sales trends by category\n",
    "\n"
   ]
  },
  {
   "cell_type": "code",
   "execution_count": 24,
   "id": "d0c09bd2-9358-49bd-bd3b-f441f6e4bd75",
   "metadata": {},
   "outputs": [],
   "source": []
  },
  {
   "cell_type": "code",
   "execution_count": 22,
   "id": "0ccb6bc1-8770-4b3f-8205-0c87154877bd",
   "metadata": {},
   "outputs": [
    {
     "name": "stdout",
     "output_type": "stream",
     "text": [
      "📅 Total Daily Sales:\n",
      " shape: (4, 2)\n",
      "┌────────────┬─────────────┐\n",
      "│ date       ┆ total_sales │\n",
      "│ ---        ┆ ---         │\n",
      "│ date       ┆ i64         │\n",
      "╞════════════╪═════════════╡\n",
      "│ 2023-06-01 ┆ 1618        │\n",
      "│ 2023-06-02 ┆ 771         │\n",
      "│ 2023-06-03 ┆ 959         │\n",
      "│ 2023-06-04 ┆ 1812        │\n",
      "└────────────┴─────────────┘\n",
      "\n",
      "🥇 Best Selling Products:\n",
      " shape: (6, 2)\n",
      "┌────────────┬───────────────┐\n",
      "│ product    ┆ total_revenue │\n",
      "│ ---        ┆ ---           │\n",
      "│ str        ┆ i64           │\n",
      "╞════════════╪═══════════════╡\n",
      "│ Phone      ┆ 2396          │\n",
      "│ Laptop     ┆ 1998          │\n",
      "│ Headphones ┆ 300           │\n",
      "│ Tablet     ┆ 299           │\n",
      "│ T-Shirt    ┆ 88            │\n",
      "│ Jeans      ┆ 79            │\n",
      "└────────────┴───────────────┘\n",
      "\n",
      "📈 Sales Trends by Category:\n",
      " shape: (8, 3)\n",
      "┌────────────┬─────────────┬──────────────────────┐\n",
      "│ date       ┆ category    ┆ daily_category_sales │\n",
      "│ ---        ┆ ---         ┆ ---                  │\n",
      "│ date       ┆ str         ┆ i64                  │\n",
      "╞════════════╪═════════════╪══════════════════════╡\n",
      "│ 2023-06-01 ┆ Clothing    ┆ 20                   │\n",
      "│ 2023-06-01 ┆ Electronics ┆ 1598                 │\n",
      "│ 2023-06-02 ┆ Clothing    ┆ 22                   │\n",
      "│ 2023-06-02 ┆ Electronics ┆ 749                  │\n",
      "│ 2023-06-03 ┆ Clothing    ┆ 61                   │\n",
      "│ 2023-06-03 ┆ Electronics ┆ 898                  │\n",
      "│ 2023-06-04 ┆ Clothing    ┆ 64                   │\n",
      "│ 2023-06-04 ┆ Electronics ┆ 1748                 │\n",
      "└────────────┴─────────────┴──────────────────────┘\n"
     ]
    }
   ],
   "source": [
    "import polars as pl\n",
    "\n",
    "# Load the CSV\n",
    "df = pl.read_csv(\"sales_data.csv\", try_parse_dates=True)\n",
    "\n",
    "# 📅 Total Daily Sales\n",
    "daily_sales = (\n",
    "    df.group_by(\"date\")\n",
    "    .agg(pl.col(\"amount\").sum().alias(\"total_sales\"))\n",
    "    .sort(\"date\")\n",
    ")\n",
    "print(\"📅 Total Daily Sales:\\n\", daily_sales)\n",
    "\n",
    "# 🥇 Best Selling Product (by total amount)\n",
    "best_products = (\n",
    "    df.group_by(\"product\")\n",
    "    .agg(pl.col(\"amount\").sum().alias(\"total_revenue\"))\n",
    "    .sort(\"total_revenue\", descending=True)\n",
    ")\n",
    "print(\"\\n🥇 Best Selling Products:\\n\", best_products)\n",
    "\n",
    "# 📈 Sales Trends by Category\n",
    "category_trends = (\n",
    "    df.group_by([\"date\", \"category\"])\n",
    "    .agg(pl.col(\"amount\").sum().alias(\"daily_category_sales\"))\n",
    "    .sort([\"date\", \"category\"])\n",
    ")\n",
    "print(\"\\n📈 Sales Trends by Category:\\n\", category_trends)\n"
   ]
  },
  {
   "cell_type": "markdown",
   "id": "8baece84-c08e-4049-8d7b-c5d975db4002",
   "metadata": {},
   "source": [
    "### 3 Weather "
   ]
  },
  {
   "cell_type": "code",
   "execution_count": 29,
   "id": "40733a1c-cefc-4bc8-9840-7f9ebd3560b9",
   "metadata": {},
   "outputs": [
    {
     "name": "stdout",
     "output_type": "stream",
     "text": [
      "🔥 Hottest Days:\n",
      " shape: (5, 5)\n",
      "┌────────────┬──────────┬─────────────┬──────────┬──────────┐\n",
      "│ date       ┆ location ┆ temperature ┆ humidity ┆ rainfall │\n",
      "│ ---        ┆ ---      ┆ ---         ┆ ---      ┆ ---      │\n",
      "│ date       ┆ str      ┆ f64         ┆ i64      ┆ f64      │\n",
      "╞════════════╪══════════╪═════════════╪══════════╪══════════╡\n",
      "│ 2023-03-05 ┆ Pune     ┆ 35.6        ┆ 28       ┆ 0.0      │\n",
      "│ 2023-03-03 ┆ Pune     ┆ 34.0        ┆ 32       ┆ 0.0      │\n",
      "│ 2023-03-04 ┆ Pune     ┆ 34.0        ┆ 30       ┆ 0.0      │\n",
      "│ 2023-03-02 ┆ Pune     ┆ 33.0        ┆ 33       ┆ 0.0      │\n",
      "│ 2023-03-01 ┆ Pune     ┆ 31.5        ┆ 35       ┆ 0.0      │\n",
      "└────────────┴──────────┴─────────────┴──────────┴──────────┘\n",
      "\n",
      "📆 Monthly Avg Temperature:\n",
      " shape: (3, 2)\n",
      "┌───────┬──────────────────┐\n",
      "│ month ┆ avg_monthly_temp │\n",
      "│ ---   ┆ ---              │\n",
      "│ i8    ┆ f64              │\n",
      "╞═══════╪══════════════════╡\n",
      "│ 1     ┆ 24.84            │\n",
      "│ 2     ┆ 28.88            │\n",
      "│ 3     ┆ 33.62            │\n",
      "└───────┴──────────────────┘\n"
     ]
    }
   ],
   "source": [
    "import polars as pl\n",
    "\n",
    "# Load the dataset\n",
    "df = pl.read_csv(\"weather.csv\", try_parse_dates=True)\n",
    "\n",
    "# 🔧 Fill missing temperature values (forward fill)\n",
    "df_clean = df.with_columns([\n",
    "    pl.col(\"temperature\").fill_null(strategy=\"forward\").alias(\"temperature\")\n",
    "])\n",
    "\n",
    "# 🔥 Hottest 5 Days\n",
    "hottest_days = df_clean.sort(\"temperature\", descending=True).head(5)\n",
    "print(\"🔥 Hottest Days:\\n\", hottest_days)\n",
    "\n",
    "# 📆 Extract Month & Calculate Monthly Average Temperature\n",
    "df_with_month = df_clean.with_columns(\n",
    "    pl.col(\"date\").dt.month().alias(\"month\")\n",
    ")\n",
    "\n",
    "monthly_avg_temp = (\n",
    "    df_with_month\n",
    "    .group_by(\"month\")\n",
    "    .agg(pl.col(\"temperature\").mean().alias(\"avg_monthly_temp\"))\n",
    "    .sort(\"month\")\n",
    ")\n",
    "print(\"\\n📆 Monthly Avg Temperature:\\n\", monthly_avg_temp)\n"
   ]
  }
 ],
 "metadata": {
  "kernelspec": {
   "display_name": "Python 3 (ipykernel)",
   "language": "python",
   "name": "python3"
  },
  "language_info": {
   "codemirror_mode": {
    "name": "ipython",
    "version": 3
   },
   "file_extension": ".py",
   "mimetype": "text/x-python",
   "name": "python",
   "nbconvert_exporter": "python",
   "pygments_lexer": "ipython3",
   "version": "3.12.7"
  }
 },
 "nbformat": 4,
 "nbformat_minor": 5
}
