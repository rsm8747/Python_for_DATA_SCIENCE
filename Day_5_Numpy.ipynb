{
 "cells": [
  {
   "cell_type": "markdown",
   "id": "6f109e2b-04dd-4074-99c7-4d537b345e59",
   "metadata": {},
   "source": [
    "### NumPy Basics:-\n",
    "#### What is NumPy\n",
    "##### => (1) A python library for numerical computing\n",
    "##### => (2) Provides n-dimensional arrays (ndarray), faster than python LISTS\n",
    "##### => (3) Used in data science, machine learning, engineering and scientific computing"
   ]
  },
  {
   "cell_type": "code",
   "execution_count": 4,
   "id": "22c390af-ec29-42f0-b381-c960e68b5876",
   "metadata": {},
   "outputs": [
    {
     "name": "stdout",
     "output_type": "stream",
     "text": [
      "Requirement already satisfied: numpy in c:\\users\\rahul\\anaconda3\\lib\\site-packages (1.26.4)\n"
     ]
    }
   ],
   "source": [
    "# installing\n",
    "!pip install numpy"
   ]
  },
  {
   "cell_type": "code",
   "execution_count": 6,
   "id": "cf4ac6f0-ebfd-4e07-9628-8995f81b0c80",
   "metadata": {},
   "outputs": [],
   "source": [
    "#importing\n",
    "import numpy as np"
   ]
  },
  {
   "cell_type": "code",
   "execution_count": 8,
   "id": "ea8d84e8-ba6a-4941-8422-c672ee9fa31a",
   "metadata": {},
   "outputs": [
    {
     "name": "stdout",
     "output_type": "stream",
     "text": [
      "[1 2 3 4 5]\n",
      "<class 'numpy.ndarray'>\n"
     ]
    }
   ],
   "source": [
    "arr = np.array([1,2,3,4,5])\n",
    "print(arr)\n",
    "print(type(arr))"
   ]
  },
  {
   "cell_type": "code",
   "execution_count": 10,
   "id": "f21181c0-5a40-49f8-83f0-e4ee72c6f668",
   "metadata": {},
   "outputs": [
    {
     "name": "stdout",
     "output_type": "stream",
     "text": [
      "[1 2 3 4 5]\n"
     ]
    }
   ],
   "source": [
    "arr=np.array((1,2,3,4,5))\n",
    "print(arr)"
   ]
  },
  {
   "cell_type": "markdown",
   "id": "86b5fbfd-924e-404d-bb12-a3a8b045ba06",
   "metadata": {},
   "source": [
    "#### 1-D Arrays\n",
    "##### An array that has 0-D arrays  as its elements is called uni-dimensional or 1-D array."
   ]
  },
  {
   "cell_type": "code",
   "execution_count": 13,
   "id": "db1ef016-8926-4fe2-bec0-fd9992219eb4",
   "metadata": {},
   "outputs": [
    {
     "name": "stdout",
     "output_type": "stream",
     "text": [
      "[1 2 3 4 5]\n"
     ]
    }
   ],
   "source": [
    "arr=np.array([1,2,3,4,5])\n",
    "print(arr)"
   ]
  },
  {
   "cell_type": "markdown",
   "id": "1a981e77-ce4e-46f5-8e13-6a5c5fb85efa",
   "metadata": {},
   "source": [
    "#### 2 - D Arrays\n",
    "##### An array that has 1-D arrays as its elements is called a 2-D array.\n",
    "##### These ara often used to represent matrix or 2nd order tensors."
   ]
  },
  {
   "cell_type": "code",
   "execution_count": 16,
   "id": "808b03c9-7124-4950-bd34-6dfdd60fb6c7",
   "metadata": {},
   "outputs": [
    {
     "name": "stdout",
     "output_type": "stream",
     "text": [
      "[[1 2 3]\n",
      " [4 5 6]]\n"
     ]
    }
   ],
   "source": [
    "import numpy as np\n",
    "arr = np.array([[1,2,3],[4,5,6]])\n",
    "print(arr)"
   ]
  },
  {
   "cell_type": "markdown",
   "id": "167a1b69-ecba-46a0-b432-2cbd0d5079db",
   "metadata": {},
   "source": [
    "#### 3-D Arrays\n",
    "##### An array that has 2-D arrays (matrices) as its elements is called 3-D Array.\n",
    "##### These are often used t represent a 3rd order tensor."
   ]
  },
  {
   "cell_type": "code",
   "execution_count": 19,
   "id": "f0a8c40a-4e9a-4584-a8ad-f4754aa214d6",
   "metadata": {},
   "outputs": [
    {
     "name": "stdout",
     "output_type": "stream",
     "text": [
      "[[[1 2 3]\n",
      "  [4 5 6]]\n",
      "\n",
      " [[1 2 3]\n",
      "  [4 5 6]]]\n"
     ]
    }
   ],
   "source": [
    "import numpy as np\n",
    "arr = np.array([[[1,2,3],[4,5,6]],[[1,2,3],[4,5,6]]])\n",
    "print(arr)"
   ]
  },
  {
   "cell_type": "markdown",
   "id": "9fc6343e-f457-4838-acea-d4cab99c0a48",
   "metadata": {},
   "source": [
    "#### Check Number of Dimensions ?\n",
    "##### NumPy Arrays provides that ndim attribut that returns an integer that tells us \n",
    "##### how many dimensions the array have"
   ]
  },
  {
   "cell_type": "code",
   "execution_count": 22,
   "id": "011a9fe6-ee5b-4000-8d2e-4c73e9f25271",
   "metadata": {},
   "outputs": [
    {
     "name": "stdout",
     "output_type": "stream",
     "text": [
      "0\n",
      "1\n",
      "2\n",
      "3\n"
     ]
    }
   ],
   "source": [
    "import numpy as np\n",
    "\n",
    "a = np.array(42)\n",
    "b = np.array([1,2,3,4,5])\n",
    "c = np.array([[1,2,3],[4,5,6]])\n",
    "d = np.array([[[1,2,3],[4,5,6]],[[1,2,3],[4,5,6]]])\n",
    "\n",
    "print(a.ndim)\n",
    "print(b.ndim)\n",
    "print(c.ndim)\n",
    "print(d.ndim)"
   ]
  },
  {
   "cell_type": "markdown",
   "id": "e83b0c2b-0ca9-49de-986e-e5fc93c57e8f",
   "metadata": {},
   "source": [
    "#### Higher Dimensional Arrays\n",
    "##### An array cam have any number of dimensions.\n",
    "##### When the array is created, you can define the number of dimensions by using the ndim argument."
   ]
  },
  {
   "cell_type": "code",
   "execution_count": 29,
   "id": "6f60af6f-0b03-439e-a74c-6c30ab1cb77f",
   "metadata": {},
   "outputs": [
    {
     "name": "stdout",
     "output_type": "stream",
     "text": [
      "[[[[[1 2 3 4]]]]]\n",
      "number of dimensions : 5\n"
     ]
    }
   ],
   "source": [
    "import numpy as np\n",
    "\n",
    "arr = np.array([1, 2, 3, 4], ndmin=5)\n",
    "\n",
    "print(arr)\n",
    "print('number of dimensions :', arr.ndim)"
   ]
  },
  {
   "cell_type": "markdown",
   "id": "c2310150-ea68-4f10-97df-13df583371a5",
   "metadata": {},
   "source": [
    "#### Numpy Array Indexing\n",
    "##### Access Array Elements\n",
    "###### Array indexing is the same as accessing an array elements.\n",
    "###### you can access an array element by referring to its index number\n",
    "###### The indexes in NumPy arrays start with 0, meaning that the first element has index 0, adn the second has index 1 etc"
   ]
  },
  {
   "cell_type": "code",
   "execution_count": 32,
   "id": "7bef2020-61da-4243-a403-da7ca1ded299",
   "metadata": {},
   "outputs": [
    {
     "name": "stdout",
     "output_type": "stream",
     "text": [
      "1\n"
     ]
    }
   ],
   "source": [
    "import numpy as np\n",
    "arr = np.array([1,2,3,4])\n",
    "print(arr[0])"
   ]
  },
  {
   "cell_type": "code",
   "execution_count": 34,
   "id": "042b3c83-68a1-4d6b-825d-931e217e58fa",
   "metadata": {},
   "outputs": [
    {
     "name": "stdout",
     "output_type": "stream",
     "text": [
      "2\n"
     ]
    }
   ],
   "source": [
    "import numpy as np\n",
    "arr = np.array([1,2,3,4])\n",
    "print(arr[1])"
   ]
  },
  {
   "cell_type": "code",
   "execution_count": 36,
   "id": "e537de62-673a-4818-bc40-a54d237f0afe",
   "metadata": {},
   "outputs": [
    {
     "name": "stdout",
     "output_type": "stream",
     "text": [
      "7\n"
     ]
    }
   ],
   "source": [
    "import numpy as np\n",
    "arr = np.array([1,2,3,4])\n",
    "print(arr[2]+arr[3])"
   ]
  },
  {
   "cell_type": "markdown",
   "id": "6e845de6-f5b3-4951-948a-f6e1e3205666",
   "metadata": {},
   "source": [
    "#### Access 2-D Arrays\n",
    "##### To access elements from 2-D arrays we can use comma separated integers representing the dimension adn the index of the element.\n",
    "##### Think of 2-D arrays like a table with rows and columns, where the dimension represents the row and the index represent the clm"
   ]
  },
  {
   "cell_type": "code",
   "execution_count": 39,
   "id": "c119922c-1265-4903-bfbc-c8029da26336",
   "metadata": {},
   "outputs": [
    {
     "name": "stdout",
     "output_type": "stream",
     "text": [
      "2nd element on 1st wor: 2\n"
     ]
    }
   ],
   "source": [
    "import numpy as np\n",
    "arr = np.array([[1,2,3,4,5],[6,7,8,9,10]])\n",
    "print('2nd element on 1st wor:',arr[0,1])"
   ]
  },
  {
   "cell_type": "code",
   "execution_count": 41,
   "id": "911cd849-a12c-4c6f-b44d-dce41ae03f3d",
   "metadata": {},
   "outputs": [
    {
     "name": "stdout",
     "output_type": "stream",
     "text": [
      "5th element on 2nd row: 10\n"
     ]
    }
   ],
   "source": [
    "import numpy as np \n",
    "arr = np.array([[1,2,3,4,5],[6,7,8,9,10]])\n",
    "print('5th element on 2nd row:',arr[1,4])"
   ]
  },
  {
   "cell_type": "markdown",
   "id": "92b73ed8-1730-4036-b0a7-50b2e6b06678",
   "metadata": {},
   "source": [
    "#### Access 3-D Arrays\n",
    "##### To access elements from 3-D arrays we can use comma separated integers representing the dimensions and the index of the element."
   ]
  },
  {
   "cell_type": "code",
   "execution_count": 46,
   "id": "69385851-c990-4a47-a976-562ee99fd2ce",
   "metadata": {},
   "outputs": [
    {
     "name": "stdout",
     "output_type": "stream",
     "text": [
      "6\n"
     ]
    }
   ],
   "source": [
    "import numpy as np\n",
    "arr = np.array([[[1,2,3],[4,5,6]],[[7,8,9],[10,11,12]]])\n",
    "print(arr[0,1,2])"
   ]
  },
  {
   "cell_type": "markdown",
   "id": "bc69f803-251a-4c4a-93a7-983dbb5fae6f",
   "metadata": {},
   "source": [
    "#### Negative Indexing \n",
    "##### Use negative indexing to access an array from the end."
   ]
  },
  {
   "cell_type": "code",
   "execution_count": 49,
   "id": "c4bc077f-75de-4e92-8bce-676bee6eb9dd",
   "metadata": {},
   "outputs": [
    {
     "name": "stdout",
     "output_type": "stream",
     "text": [
      "last element from 2nd dim:  10\n"
     ]
    }
   ],
   "source": [
    "import numpy as np\n",
    "arr = np.array([[1,2,3,4,5],[6,7,8,9,10]])\n",
    "print('last element from 2nd dim: ',arr[1,-1])"
   ]
  },
  {
   "cell_type": "markdown",
   "id": "1f06856c-e3ea-49f6-9c56-d33b2d736685",
   "metadata": {},
   "source": [
    "#### Slicing Arrays\n",
    "##### Slicing in python means taking elements from one given index to another given index.\n",
    "##### We pass slice instead of index like this : [start:end]\n",
    "##### We can aslo define the stepm like this: [start:end:step]\n",
    "##### If we don't pass start its considerred 0\n",
    "##### IF we don't pass end its considered length of array in that dimension\n",
    "##### If we don't pass step its considered 1"
   ]
  },
  {
   "cell_type": "code",
   "execution_count": 54,
   "id": "18fc1e80-192c-4d5f-93a0-3b5fef29509a",
   "metadata": {},
   "outputs": [
    {
     "name": "stdout",
     "output_type": "stream",
     "text": [
      "[2 3 4 5]\n"
     ]
    }
   ],
   "source": [
    "import numpy as np\n",
    "arr = np.array([1,2,3,4,5,6,7])\n",
    "print(arr[1:5])"
   ]
  },
  {
   "cell_type": "code",
   "execution_count": 58,
   "id": "1d37a2c7-59d9-43db-9074-1aee93372b90",
   "metadata": {},
   "outputs": [
    {
     "name": "stdout",
     "output_type": "stream",
     "text": [
      "[5 6 7]\n"
     ]
    }
   ],
   "source": [
    "import numpy as np \n",
    "arr = np.array([1,2,3,4,5,6,7])\n",
    "print(arr[4:])"
   ]
  },
  {
   "cell_type": "markdown",
   "id": "d949926c-3829-4355-b36b-070585336ec0",
   "metadata": {},
   "source": [
    "#### Negative Slicing \n",
    "##### Use the minus operator to refer to an index from the end:"
   ]
  },
  {
   "cell_type": "code",
   "execution_count": 61,
   "id": "05ec642e-e34a-422b-90fb-86aa6c3225f5",
   "metadata": {},
   "outputs": [
    {
     "name": "stdout",
     "output_type": "stream",
     "text": [
      "[5 6]\n"
     ]
    }
   ],
   "source": [
    "import numpy as np\n",
    "arr = np.array([1,2,3,4,5,6,7])\n",
    "print(arr[-3:-1])"
   ]
  },
  {
   "cell_type": "markdown",
   "id": "d6110afb-1487-45ef-be6e-a27d543b8436",
   "metadata": {},
   "source": [
    "#### STEP \n",
    "##### Use the step value to determine the step of the slicing "
   ]
  },
  {
   "cell_type": "code",
   "execution_count": 64,
   "id": "6bea3e44-0178-498a-bfd2-e67cf588cd26",
   "metadata": {},
   "outputs": [
    {
     "name": "stdout",
     "output_type": "stream",
     "text": [
      "[2 4]\n"
     ]
    }
   ],
   "source": [
    "import numpy as np\n",
    "arr = np.array([1,2,3,4,5,6,7])\n",
    "print(arr[1:5:2])"
   ]
  },
  {
   "cell_type": "markdown",
   "id": "5effe350-1992-40d2-810b-e8d69b13debd",
   "metadata": {},
   "source": [
    "#### Slicing 2 - D Arrays"
   ]
  },
  {
   "cell_type": "code",
   "execution_count": 67,
   "id": "d13a9b9e-5f99-4115-bcd8-acccd50353be",
   "metadata": {},
   "outputs": [
    {
     "name": "stdout",
     "output_type": "stream",
     "text": [
      "[7 8 9]\n"
     ]
    }
   ],
   "source": [
    "import numpy as np \n",
    "arr = np.array([[1,2,3,4,5],[6,7,8,9,10]])\n",
    "print(arr[1,1:4])"
   ]
  },
  {
   "cell_type": "code",
   "execution_count": 71,
   "id": "b4a478ab-d910-414e-bc21-69be284fb013",
   "metadata": {},
   "outputs": [
    {
     "name": "stdout",
     "output_type": "stream",
     "text": [
      "[3 8]\n"
     ]
    }
   ],
   "source": [
    "import numpy as np \n",
    "arr = np.array([[1,2,3,4,5],[6,7,8,9,10]])\n",
    "print(arr[0:2,2])"
   ]
  },
  {
   "cell_type": "markdown",
   "id": "e8a9adf5-41a4-4e8c-83e7-6cf33e021965",
   "metadata": {},
   "source": [
    "#### NumPy Data Types\n"
   ]
  },
  {
   "cell_type": "code",
   "execution_count": 74,
   "id": "67cbd8b2-ee6f-49a3-9e04-8cee7252bc2d",
   "metadata": {},
   "outputs": [
    {
     "name": "stdout",
     "output_type": "stream",
     "text": [
      "int32\n"
     ]
    }
   ],
   "source": [
    "import numpy as np\n",
    "arr = np.array([1,2,3,4])\n",
    "print(arr.dtype)"
   ]
  },
  {
   "cell_type": "code",
   "execution_count": 76,
   "id": "86cff948-c778-4af2-9cb3-1beec97e6edf",
   "metadata": {},
   "outputs": [
    {
     "name": "stdout",
     "output_type": "stream",
     "text": [
      "<U6\n"
     ]
    }
   ],
   "source": [
    "import numpy as np\n",
    "arr = np.array(['apple','banana','cherry'])\n",
    "print(arr.dtype)"
   ]
  },
  {
   "cell_type": "code",
   "execution_count": 78,
   "id": "05fed889-571e-4abd-abf2-02b46c17b046",
   "metadata": {},
   "outputs": [
    {
     "name": "stdout",
     "output_type": "stream",
     "text": [
      "[b'1' b'2' b'3' b'4']\n",
      "|S1\n"
     ]
    }
   ],
   "source": [
    "import numpy as np\n",
    "arr = np.array([1,2,3,4], dtype='S')\n",
    "\n",
    "print(arr)\n",
    "print(arr.dtype)"
   ]
  },
  {
   "cell_type": "code",
   "execution_count": 80,
   "id": "d020457d-c659-42e1-89fc-8c676c825db2",
   "metadata": {},
   "outputs": [
    {
     "name": "stdout",
     "output_type": "stream",
     "text": [
      "[1 2 3 4]\n",
      "int32\n"
     ]
    }
   ],
   "source": [
    "import numpy as np \n",
    "arr = np.array([1,2,3,4],dtype='i4')\n",
    "\n",
    "print(arr)\n",
    "print(arr.dtype)"
   ]
  },
  {
   "cell_type": "markdown",
   "id": "1b2234ef-6305-4594-b6be-e3da7a767a31",
   "metadata": {},
   "source": [
    "##  Converting DataType on Existing Arrays"
   ]
  },
  {
   "cell_type": "code",
   "execution_count": 83,
   "id": "120a9705-764e-4057-869f-e21ed9b60326",
   "metadata": {},
   "outputs": [
    {
     "name": "stdout",
     "output_type": "stream",
     "text": [
      "[1 2 3]\n",
      "int32\n"
     ]
    }
   ],
   "source": [
    "import numpy as np\n",
    "arr = np.array([1.1,2.1,3.1])\n",
    "newarr = arr.astype('i')\n",
    "\n",
    "print(newarr)\n",
    "print(newarr.dtype)"
   ]
  },
  {
   "cell_type": "code",
   "execution_count": 85,
   "id": "a2421fe1-2eff-49bd-90ce-8dffc65c5de4",
   "metadata": {},
   "outputs": [
    {
     "name": "stdout",
     "output_type": "stream",
     "text": [
      "[1 2 3]\n",
      "int32\n"
     ]
    }
   ],
   "source": [
    "import numpy as np\n",
    "arr = np.array([1.1,2.1,3.1])\n",
    "newarr = arr.astype(int)\n",
    "print(newarr)\n",
    "print(newarr.dtype)"
   ]
  },
  {
   "cell_type": "code",
   "execution_count": 87,
   "id": "f87970ee-1e83-4797-8e91-b53b4344f3c7",
   "metadata": {},
   "outputs": [
    {
     "name": "stdout",
     "output_type": "stream",
     "text": [
      "[ True False  True]\n",
      "bool\n"
     ]
    }
   ],
   "source": [
    "import numpy as np \n",
    "arr = np.array([1,0,3])\n",
    "newarr = arr.astype(bool)\n",
    "print(newarr)\n",
    "print(newarr.dtype)"
   ]
  },
  {
   "cell_type": "markdown",
   "id": "2fcfd112-e31b-4b1c-b316-484c710f8c62",
   "metadata": {},
   "source": [
    "### The Difference Between Copy and View \n",
    "#### => The main difference between a copy and a view of an array is that the copy is a new array, and the view is just a view of the original array.\n",
    "#### => The main difference between a copy and a view of an array is that the copy is a new array, and the view is just a view of the original array.\n",
    "#### => The view does not own the data and any changes made to the view will affect the original array, and any changes made to the original array will affect the view."
   ]
  },
  {
   "cell_type": "code",
   "execution_count": 90,
   "id": "4e64d385-a5e0-43c6-baa5-8ffe86e3cfab",
   "metadata": {},
   "outputs": [
    {
     "name": "stdout",
     "output_type": "stream",
     "text": [
      "[42  2  3  4  5]\n",
      "[1 2 3 4 5]\n"
     ]
    }
   ],
   "source": [
    "import numpy as np \n",
    "arr = np.array([1,2,3,4,5])\n",
    "x = arr.copy()\n",
    "arr[0] = 42\n",
    "\n",
    "print(arr)\n",
    "print(x)"
   ]
  },
  {
   "cell_type": "code",
   "execution_count": 92,
   "id": "d275b117-4fe4-4113-86d0-5a0aacd19668",
   "metadata": {},
   "outputs": [
    {
     "name": "stdout",
     "output_type": "stream",
     "text": [
      "[42  2  3  4  5]\n",
      "[42  2  3  4  5]\n"
     ]
    }
   ],
   "source": [
    "# view \n",
    "import numpy as np\n",
    "\n",
    "arr = np.array([1,2,3,4,5])\n",
    "x=arr.view()\n",
    "arr[0]=42\n",
    "\n",
    "print(arr)\n",
    "print(x)"
   ]
  },
  {
   "cell_type": "markdown",
   "id": "6bb8b29d-a695-4c14-b391-449682241602",
   "metadata": {},
   "source": [
    "## Make changes in the view"
   ]
  },
  {
   "cell_type": "code",
   "execution_count": 95,
   "id": "9ece7a61-ca7f-49b2-acca-cf2fef6a717a",
   "metadata": {},
   "outputs": [
    {
     "name": "stdout",
     "output_type": "stream",
     "text": [
      "[31  2  3  4  5]\n",
      "[31  2  3  4  5]\n"
     ]
    }
   ],
   "source": [
    "import numpy as np \n",
    "\n",
    "arr = np.array([1,2,3,4,5])\n",
    "x=arr.view()\n",
    "x[0]=31\n",
    "\n",
    "print(arr)\n",
    "print(x)"
   ]
  },
  {
   "cell_type": "markdown",
   "id": "977318e7-2431-4715-be25-d07efb0b831c",
   "metadata": {},
   "source": [
    "### Check if Array Owns its Data "
   ]
  },
  {
   "cell_type": "code",
   "execution_count": 98,
   "id": "6d25751c-833c-4155-96c5-62c05f04ab93",
   "metadata": {},
   "outputs": [
    {
     "name": "stdout",
     "output_type": "stream",
     "text": [
      "None\n",
      "[1 2 3 4 5]\n"
     ]
    }
   ],
   "source": [
    "import numpy as np\n",
    "arr = np.array([1,2,3,4,5])\n",
    "\n",
    "x = arr.copy()\n",
    "y= arr.view()\n",
    "\n",
    "print(x.base)\n",
    "print(y.base)"
   ]
  },
  {
   "cell_type": "markdown",
   "id": "6b575ed4-b370-4c23-8f3b-718605f3e62f",
   "metadata": {},
   "source": [
    "## NumPy Array Shape "
   ]
  },
  {
   "cell_type": "code",
   "execution_count": 101,
   "id": "64809472-d63f-4c79-aa82-8006ac9c1a9d",
   "metadata": {},
   "outputs": [
    {
     "name": "stdout",
     "output_type": "stream",
     "text": [
      "(2, 4)\n"
     ]
    }
   ],
   "source": [
    "import numpy as np\n",
    "\n",
    "arr = np.array([[1,2,3,4],[5,6,7,8]])\n",
    "\n",
    "print(arr.shape)"
   ]
  },
  {
   "cell_type": "code",
   "execution_count": 105,
   "id": "6d581fbd-9ed4-4e9f-977d-edfaa2119ecf",
   "metadata": {},
   "outputs": [
    {
     "name": "stdout",
     "output_type": "stream",
     "text": [
      "[[[[[1 2 3 4]]]]]\n",
      "shape of array : (1, 1, 1, 1, 4)\n"
     ]
    }
   ],
   "source": [
    "import numpy as np\n",
    "\n",
    "arr = np.array([1, 2, 3, 4], ndmin=5)\n",
    "\n",
    "print(arr)\n",
    "print('shape of array :', arr.shape)"
   ]
  }
 ],
 "metadata": {
  "kernelspec": {
   "display_name": "Python 3 (ipykernel)",
   "language": "python",
   "name": "python3"
  },
  "language_info": {
   "codemirror_mode": {
    "name": "ipython",
    "version": 3
   },
   "file_extension": ".py",
   "mimetype": "text/x-python",
   "name": "python",
   "nbconvert_exporter": "python",
   "pygments_lexer": "ipython3",
   "version": "3.12.7"
  }
 },
 "nbformat": 4,
 "nbformat_minor": 5
}
