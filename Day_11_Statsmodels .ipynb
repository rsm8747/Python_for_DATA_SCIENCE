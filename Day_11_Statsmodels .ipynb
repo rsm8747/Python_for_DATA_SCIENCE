{
 "cells": [
  {
   "cell_type": "markdown",
   "id": "1ea8a490-2f32-4018-9eff-1b747d72a991",
   "metadata": {},
   "source": [
    "#### ✅ What is Statsmodels?\n",
    "#### Statsmodels is a Python library used for statistical modeling, hypothesis testing, and data exploration. It is especially useful for:\n",
    "\n",
    "#### Linear regression\n",
    "\n",
    "#### Time series analysis\n",
    "\n",
    "#### ANOVA tests\n",
    "\n",
    "#### Generalized linear models (GLM)\n",
    "\n",
    "#### Statistical tests\n",
    "\n"
   ]
  },
  {
   "cell_type": "markdown",
   "id": "7d2c45b6-15e0-42f3-b945-e2aafdc53cc5",
   "metadata": {},
   "source": [
    "##### Main Uses of Statsmodels\n",
    "##### Area\t         => Use Case\n",
    "##### Regression\t=>  Linear and logistic regression\n",
    "##### Time Series\t=>  ARIMA, SARIMA models\n",
    "##### Hypothesis Testing\t=>  T-tests, Chi-square tests\n",
    "##### Statistical Modeling\t=>  GLMs, ANOVA\n",
    "##### Diagnostics\t=>  Residual plots, p-values, confidence intervals"
   ]
  },
  {
   "cell_type": "markdown",
   "id": "5d8d8f57-1448-4f1a-9e5c-ae08bd42a903",
   "metadata": {},
   "source": [
    "####  Common Functions and Modules in Statsmodels\n",
    "#### Function / Class\tDescription\n",
    "#### OLS() =>\tOrdinary Least Squares Regression\n",
    "#### Logit() =>\tLogistic Regression\n",
    "#### GLM()\t=> Generalized Linear Models\n",
    "#### anova_lm() =>\tANOVA\n",
    "#### t_test(), f_test() =>\tHypothesis tests\n",
    "#### ARIMA()\t=> ARIMA for time series"
   ]
  },
  {
   "cell_type": "code",
   "execution_count": 5,
   "id": "aad222f5-c8ef-46c4-8c5e-4b3d893a7d55",
   "metadata": {},
   "outputs": [
    {
     "name": "stdout",
     "output_type": "stream",
     "text": [
      "                            OLS Regression Results                            \n",
      "==============================================================================\n",
      "Dep. Variable:                      y   R-squared:                       0.600\n",
      "Model:                            OLS   Adj. R-squared:                  0.467\n",
      "Method:                 Least Squares   F-statistic:                     4.500\n",
      "Date:                Thu, 10 Apr 2025   Prob (F-statistic):              0.124\n",
      "Time:                        15:58:50   Log-Likelihood:                -5.2598\n",
      "No. Observations:                   5   AIC:                             14.52\n",
      "Df Residuals:                       3   BIC:                             13.74\n",
      "Df Model:                           1                                         \n",
      "Covariance Type:            nonrobust                                         \n",
      "==============================================================================\n",
      "                 coef    std err          t      P>|t|      [0.025      0.975]\n",
      "------------------------------------------------------------------------------\n",
      "const          2.2000      0.938      2.345      0.101      -0.785       5.185\n",
      "x1             0.6000      0.283      2.121      0.124      -0.300       1.500\n",
      "==============================================================================\n",
      "Omnibus:                          nan   Durbin-Watson:                   2.017\n",
      "Prob(Omnibus):                    nan   Jarque-Bera (JB):                0.570\n",
      "Skew:                           0.289   Prob(JB):                        0.752\n",
      "Kurtosis:                       1.450   Cond. No.                         8.37\n",
      "==============================================================================\n",
      "\n",
      "Notes:\n",
      "[1] Standard Errors assume that the covariance matrix of the errors is correctly specified.\n"
     ]
    },
    {
     "name": "stderr",
     "output_type": "stream",
     "text": [
      "C:\\Users\\Rahul\\anaconda3\\Lib\\site-packages\\statsmodels\\stats\\stattools.py:74: ValueWarning: omni_normtest is not valid with less than 8 observations; 5 samples were given.\n",
      "  warn(\"omni_normtest is not valid with less than 8 observations; %i \"\n"
     ]
    }
   ],
   "source": [
    "### Example 1: Linear Regression (OLS)\n",
    "\n",
    "import statsmodels.api as sm\n",
    "import numpy as np\n",
    "\n",
    "# sample data \n",
    "X = np.array([1,2,3,4,5])\n",
    "y = np.array([2,4,5,4,5])\n",
    "\n",
    "# add constant (intercept)\n",
    "X = sm.add_constant(X)\n",
    "# fit model\n",
    "model = sm.OLS(y,X).fit()\n",
    "\n",
    "#summary of regression\n",
    "print(model.summary())"
   ]
  },
  {
   "cell_type": "code",
   "execution_count": 9,
   "id": "907df431-7f83-474f-944f-0905bcdcc4db",
   "metadata": {},
   "outputs": [
    {
     "name": "stdout",
     "output_type": "stream",
     "text": [
      "Warning: Maximum number of iterations has been exceeded.\n",
      "         Current function value: 0.000000\n",
      "         Iterations: 35\n",
      "                           Logit Regression Results                           \n",
      "==============================================================================\n",
      "Dep. Variable:                      y   No. Observations:                    5\n",
      "Model:                          Logit   Df Residuals:                        3\n",
      "Method:                           MLE   Df Model:                            1\n",
      "Date:                Thu, 10 Apr 2025   Pseudo R-squ.:                   1.000\n",
      "Time:                        16:01:34   Log-Likelihood:            -5.0138e-10\n",
      "converged:                      False   LL-Null:                       -3.3651\n",
      "Covariance Type:            nonrobust   LLR p-value:                  0.009480\n",
      "==============================================================================\n",
      "                 coef    std err          z      P>|z|      [0.025      0.975]\n",
      "------------------------------------------------------------------------------\n",
      "const       -110.4353   2.23e+05     -0.000      1.000   -4.38e+05    4.38e+05\n",
      "x1            44.2438   9.07e+04      0.000      1.000   -1.78e+05    1.78e+05\n",
      "==============================================================================\n",
      "\n",
      "Complete Separation: The results show that there iscomplete separation or perfect prediction.\n",
      "In this case the Maximum Likelihood Estimator does not exist and the parameters\n",
      "are not identified.\n"
     ]
    },
    {
     "name": "stderr",
     "output_type": "stream",
     "text": [
      "C:\\Users\\Rahul\\anaconda3\\Lib\\site-packages\\statsmodels\\discrete\\discrete_model.py:227: PerfectSeparationWarning: Perfect separation or prediction detected, parameter may not be identified\n",
      "  warnings.warn(msg, category=PerfectSeparationWarning)\n",
      "C:\\Users\\Rahul\\anaconda3\\Lib\\site-packages\\statsmodels\\discrete\\discrete_model.py:227: PerfectSeparationWarning: Perfect separation or prediction detected, parameter may not be identified\n",
      "  warnings.warn(msg, category=PerfectSeparationWarning)\n",
      "C:\\Users\\Rahul\\anaconda3\\Lib\\site-packages\\statsmodels\\discrete\\discrete_model.py:227: PerfectSeparationWarning: Perfect separation or prediction detected, parameter may not be identified\n",
      "  warnings.warn(msg, category=PerfectSeparationWarning)\n",
      "C:\\Users\\Rahul\\anaconda3\\Lib\\site-packages\\statsmodels\\discrete\\discrete_model.py:227: PerfectSeparationWarning: Perfect separation or prediction detected, parameter may not be identified\n",
      "  warnings.warn(msg, category=PerfectSeparationWarning)\n",
      "C:\\Users\\Rahul\\anaconda3\\Lib\\site-packages\\statsmodels\\discrete\\discrete_model.py:227: PerfectSeparationWarning: Perfect separation or prediction detected, parameter may not be identified\n",
      "  warnings.warn(msg, category=PerfectSeparationWarning)\n",
      "C:\\Users\\Rahul\\anaconda3\\Lib\\site-packages\\statsmodels\\discrete\\discrete_model.py:227: PerfectSeparationWarning: Perfect separation or prediction detected, parameter may not be identified\n",
      "  warnings.warn(msg, category=PerfectSeparationWarning)\n",
      "C:\\Users\\Rahul\\anaconda3\\Lib\\site-packages\\statsmodels\\discrete\\discrete_model.py:227: PerfectSeparationWarning: Perfect separation or prediction detected, parameter may not be identified\n",
      "  warnings.warn(msg, category=PerfectSeparationWarning)\n",
      "C:\\Users\\Rahul\\anaconda3\\Lib\\site-packages\\statsmodels\\discrete\\discrete_model.py:227: PerfectSeparationWarning: Perfect separation or prediction detected, parameter may not be identified\n",
      "  warnings.warn(msg, category=PerfectSeparationWarning)\n",
      "C:\\Users\\Rahul\\anaconda3\\Lib\\site-packages\\statsmodels\\discrete\\discrete_model.py:227: PerfectSeparationWarning: Perfect separation or prediction detected, parameter may not be identified\n",
      "  warnings.warn(msg, category=PerfectSeparationWarning)\n",
      "C:\\Users\\Rahul\\anaconda3\\Lib\\site-packages\\statsmodels\\discrete\\discrete_model.py:227: PerfectSeparationWarning: Perfect separation or prediction detected, parameter may not be identified\n",
      "  warnings.warn(msg, category=PerfectSeparationWarning)\n",
      "C:\\Users\\Rahul\\anaconda3\\Lib\\site-packages\\statsmodels\\discrete\\discrete_model.py:227: PerfectSeparationWarning: Perfect separation or prediction detected, parameter may not be identified\n",
      "  warnings.warn(msg, category=PerfectSeparationWarning)\n",
      "C:\\Users\\Rahul\\anaconda3\\Lib\\site-packages\\statsmodels\\base\\model.py:607: ConvergenceWarning: Maximum Likelihood optimization failed to converge. Check mle_retvals\n",
      "  warnings.warn(\"Maximum Likelihood optimization failed to \"\n"
     ]
    }
   ],
   "source": [
    "#### 2 Logistic Regression\n",
    "import statsmodels.api as sm\n",
    "import numpy as np\n",
    "\n",
    "# Data\n",
    "X = np.array([[1],[2],[3],[4],[5]])\n",
    "y = np.array([0,0,1,1,1])\n",
    "\n",
    "X = sm.add_constant(X)\n",
    "\n",
    "#fit logistic model\n",
    "model = sm.Logit(y, X).fit()\n",
    "print(model.summary())"
   ]
  },
  {
   "cell_type": "code",
   "execution_count": 11,
   "id": "5d9a698c-c403-44c2-8a1f-5152126b79a3",
   "metadata": {},
   "outputs": [
    {
     "name": "stdout",
     "output_type": "stream",
     "text": [
      "                               SARIMAX Results                                \n",
      "==============================================================================\n",
      "Dep. Variable:                  value   No. Observations:                  144\n",
      "Model:                 ARIMA(1, 1, 1)   Log Likelihood                -694.341\n",
      "Date:                Thu, 10 Apr 2025   AIC                           1394.683\n",
      "Time:                        16:04:03   BIC                           1403.571\n",
      "Sample:                             0   HQIC                          1398.294\n",
      "                                - 144                                         \n",
      "Covariance Type:                  opg                                         \n",
      "==============================================================================\n",
      "                 coef    std err          z      P>|z|      [0.025      0.975]\n",
      "------------------------------------------------------------------------------\n",
      "ar.L1         -0.4742      0.123     -3.847      0.000      -0.716      -0.233\n",
      "ma.L1          0.8635      0.078     11.051      0.000       0.710       1.017\n",
      "sigma2       961.9270    107.433      8.954      0.000     751.362    1172.492\n",
      "===================================================================================\n",
      "Ljung-Box (L1) (Q):                   0.21   Jarque-Bera (JB):                 2.14\n",
      "Prob(Q):                              0.65   Prob(JB):                         0.34\n",
      "Heteroskedasticity (H):               7.00   Skew:                            -0.21\n",
      "Prob(H) (two-sided):                  0.00   Kurtosis:                         3.43\n",
      "===================================================================================\n",
      "\n",
      "Warnings:\n",
      "[1] Covariance matrix calculated using the outer product of gradients (complex-step).\n",
      "144    475.735059\n",
      "145    454.996073\n",
      "146    464.830415\n",
      "147    460.167010\n",
      "148    462.378378\n",
      "Name: predicted_mean, dtype: float64\n"
     ]
    }
   ],
   "source": [
    "##  Example 3: Time Series - ARIMA\n",
    "\n",
    "import statsmodels.api as sm\n",
    "\n",
    "# load air passengers dataset\n",
    "data = sm.datasets.get_rdataset(\"AirPassengers\").data[\"value\"]\n",
    "\n",
    "# fit ARIMA model\n",
    "model = sm.tsa.ARIMA(data, order=(1,1,1)).fit()\n",
    "print(model.summary())\n",
    "\n",
    "# forecast\n",
    "forecast = model.forecast(steps=5)\n",
    "print(forecast)"
   ]
  },
  {
   "cell_type": "code",
   "execution_count": 13,
   "id": "a9cd73c7-83cc-44c4-add2-6489f60afa45",
   "metadata": {},
   "outputs": [
    {
     "name": "stdout",
     "output_type": "stream",
     "text": [
      "t-statistic: -1.6464638998453551\n",
      "p-value: 0.13828488323742122\n"
     ]
    }
   ],
   "source": [
    "## Example 4: Hypothesis Testing\n",
    "\n",
    "from statsmodels.stats.weightstats import ttest_ind\n",
    "\n",
    "# two sample sets\n",
    "data1 = [22,25,29,31,26]\n",
    "data2 = [28,27,31,30,32]\n",
    "\n",
    "t_stat, p_val, df = ttest_ind(data1, data2)\n",
    "print(\"t-statistic:\", t_stat)\n",
    "print(\"p-value:\",p_val)\n"
   ]
  },
  {
   "cell_type": "markdown",
   "id": "73192316-1eec-41f8-b509-08e4734d4033",
   "metadata": {},
   "source": [
    "#### ❌ Drawbacks of Statsmodels\n",
    "\n",
    "#### Limitation\t=> Explanation\n",
    "#### 🧠 Less Beginner-Friendly => \tSyntax is more academic/statistical\n",
    "#### 🧮 Manual Data Prep => \tRequires explicit steps like adding constants\n",
    "#### 📉 Less Support for Large ML => \tNot suitable for deep learning or complex models\n",
    "#### 📦 Limited Visualization => \tLacks inbuilt plots compared to Seaborn or Matplotlib\n",
    "#### ⏱️ Slower for Large Datasets\t=>  Not optimized for massive-scale data like Scikit-Learn or TensorFlow"
   ]
  },
  {
   "cell_type": "markdown",
   "id": "e5097935-d23e-4699-9ea5-392e3b46f85b",
   "metadata": {},
   "source": [
    "#### ✅ When to Use Statsmodels vs. Scikit-learn\n",
    "#### Task\tUse Statsmodels\tUse Scikit-learn\n",
    "#### Statistical analysis\t                      ✅❌\n",
    "#### P-values, confidence intervals\t             ✅\t❌\n",
    "#### Machine learning models\t                ❌\t✅\n",
    "#### Cross-validation, pipeline, grid search   ❌\t✅"
   ]
  },
  {
   "cell_type": "markdown",
   "id": "1a2a85a1-964c-4066-85d5-e1ed16fad973",
   "metadata": {},
   "source": [
    "#### Summary\n",
    "####  Feature\tStatsmodels\n",
    "####  Ideal For\t=> Regression, statistical tests, time series\n",
    "####  Strength\t=>  Detailed model output (p-values, R², CI)\n",
    "####  Weakness\t=> Less for ML, no deep learning, less automation\n",
    "####  Popular Fun ctions => \tOLS(), Logit(), anova_lm(), ARIMA()"
   ]
  }
 ],
 "metadata": {
  "kernelspec": {
   "display_name": "Python 3 (ipykernel)",
   "language": "python",
   "name": "python3"
  },
  "language_info": {
   "codemirror_mode": {
    "name": "ipython",
    "version": 3
   },
   "file_extension": ".py",
   "mimetype": "text/x-python",
   "name": "python",
   "nbconvert_exporter": "python",
   "pygments_lexer": "ipython3",
   "version": "3.12.7"
  }
 },
 "nbformat": 4,
 "nbformat_minor": 5
}
