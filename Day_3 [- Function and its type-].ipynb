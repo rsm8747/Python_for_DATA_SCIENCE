{
 "cells": [
  {
   "cell_type": "markdown",
   "id": "16f58f79-d182-41ec-8f12-50ddda500a36",
   "metadata": {},
   "source": [
    "### Def: \n",
    "#### What is a Function in Pyhton ?\n",
    "##### A function is  a block of reusable code that perfomns a speficic task.\n",
    "##### Helps in code reusability, modularity, and efficiency"
   ]
  },
  {
   "cell_type": "code",
   "execution_count": 2,
   "id": "e6e8c923-c6df-44b9-829f-d88013f2e167",
   "metadata": {},
   "outputs": [],
   "source": [
    "def function_name(parameters):\n",
    "    return value"
   ]
  },
  {
   "cell_type": "markdown",
   "id": "72f8edd9-eec8-4e87-be3f-ef9fff9fffbf",
   "metadata": {},
   "source": [
    "#### 2 Types of Functions in Python\n",
    "##### 1. Built-in Function \n",
    "##### 2. User-defined fucntions\n",
    "##### 3.Lambda function(one linear anonymous funcions)\n",
    "##### 4. Recursive Functions (Functions calling themselves)\n",
    "##### 5. Higher-Order Function(Functions that take other functions as arguments)"
   ]
  },
  {
   "cell_type": "markdown",
   "id": "96d00706-d79b-437f-a8d3-3c282a2624d6",
   "metadata": {},
   "source": [
    "#### 3 Basic Functions\n",
    "##### Defining and calling a Function"
   ]
  },
  {
   "cell_type": "code",
   "execution_count": 12,
   "id": "a24a4fe9-6548-4c40-b981-2b05276ce75b",
   "metadata": {},
   "outputs": [
    {
     "name": "stdout",
     "output_type": "stream",
     "text": [
      "Hello, welcome to python!\n"
     ]
    }
   ],
   "source": [
    "def greet():\n",
    "    print(\"Hello, welcome to python!\")\n",
    "\n",
    "greet() #function calling"
   ]
  },
  {
   "cell_type": "markdown",
   "id": "ef1d3663-ea2c-4e75-b317-f00e5ab22eac",
   "metadata": {},
   "source": [
    "####  4️⃣ Functions with Parameters"
   ]
  },
  {
   "cell_type": "code",
   "execution_count": 17,
   "id": "833e6685-73c6-4a29-abc1-3cd6bb69a5d8",
   "metadata": {},
   "outputs": [
    {
     "name": "stdout",
     "output_type": "stream",
     "text": [
      "Hello, Rahul!\n"
     ]
    }
   ],
   "source": [
    "def greet(name): #name is parameter\n",
    "    print(f\"Hello, {name}!\")\n",
    "\n",
    "greet(\"Rahul\") ##calling function with argument"
   ]
  },
  {
   "cell_type": "markdown",
   "id": "ac5509ff-5418-44c4-923a-67f75921c201",
   "metadata": {},
   "source": [
    "#### Function with mutiple parameter's"
   ]
  },
  {
   "cell_type": "code",
   "execution_count": 20,
   "id": "e6679e44-63f5-4859-be72-328149ae01d2",
   "metadata": {},
   "outputs": [
    {
     "name": "stdout",
     "output_type": "stream",
     "text": [
      "15\n"
     ]
    }
   ],
   "source": [
    "def add_numbers(a,b):\n",
    "    return a+b\n",
    "\n",
    "result = add_numbers(5,10)\n",
    "print(result)"
   ]
  },
  {
   "cell_type": "markdown",
   "id": "7db41568-5700-4c9a-b539-175acefc7862",
   "metadata": {},
   "source": [
    "####  5️⃣ Default and Keyword Arguments\n",
    "##### Default Parameters"
   ]
  },
  {
   "cell_type": "code",
   "execution_count": 30,
   "id": "9e426412-b804-4a20-a357-82fe5b1490e9",
   "metadata": {},
   "outputs": [
    {
     "name": "stdout",
     "output_type": "stream",
     "text": [
      "Hello,Guest!\n",
      "Hello,RAHUL!\n"
     ]
    }
   ],
   "source": [
    "def greek(name=\"Guest\"):\n",
    "    print(f\"Hello,{name}!\")\n",
    "\n",
    "greek()\n",
    "greek(\"RAHUL\")"
   ]
  },
  {
   "cell_type": "markdown",
   "id": "d0d69e63-1ed9-4ee5-9b5d-096fc078d361",
   "metadata": {},
   "source": [
    "#### 🔹 Keyword Arguments"
   ]
  },
  {
   "cell_type": "code",
   "execution_count": 35,
   "id": "997e3556-5e45-44a5-b85f-13014949d6a9",
   "metadata": {},
   "outputs": [
    {
     "name": "stdout",
     "output_type": "stream",
     "text": [
      "Name: Rahul, Age: 25\n"
     ]
    }
   ],
   "source": [
    "def student_info(name, age):\n",
    "    print(f\"Name: {name}, Age: {age}\")\n",
    "\n",
    "student_info(age=25, name=\"Rahul\")"
   ]
  },
  {
   "cell_type": "markdown",
   "id": "de34d73c-857a-48cf-aebd-bc629a57bbba",
   "metadata": {},
   "source": [
    "#### 6️⃣ Variable-Length Arguments\n",
    "##### *args (Multiple Positional Arguments)"
   ]
  },
  {
   "cell_type": "code",
   "execution_count": 40,
   "id": "8431e23d-2978-4023-85d2-02c9f9a162b9",
   "metadata": {},
   "outputs": [
    {
     "name": "stdout",
     "output_type": "stream",
     "text": [
      "15\n"
     ]
    }
   ],
   "source": [
    "def add_numbers(*args):\n",
    "    return sum(args)\n",
    "\n",
    "print(add_numbers(1,2,3,4,5))"
   ]
  },
  {
   "cell_type": "markdown",
   "id": "b155978f-6f1a-4b80-b3ae-31abbc5fb13d",
   "metadata": {},
   "source": [
    "#### **kwargs (Multiple Keyword Arguments)"
   ]
  },
  {
   "cell_type": "code",
   "execution_count": 43,
   "id": "288f54a0-a8db-44d8-b69f-9faf2a32fd55",
   "metadata": {},
   "outputs": [
    {
     "name": "stdout",
     "output_type": "stream",
     "text": [
      "name:Rahul\n",
      "age:26\n",
      "city:Pune\n"
     ]
    }
   ],
   "source": [
    "def print_details(**kwargs):\n",
    "    for key, value in kwargs.items():\n",
    "        print(f\"{key}:{value}\")\n",
    "\n",
    "print_details(name=\"Rahul\", age=26, city=\"Pune\")"
   ]
  },
  {
   "cell_type": "markdown",
   "id": "2f7afc6c-74ec-40b2-a89c-067bd6e7ad73",
   "metadata": {},
   "source": [
    "#### 7️⃣ Return Statement in Functions"
   ]
  },
  {
   "cell_type": "code",
   "execution_count": 46,
   "id": "fdd03528-b46d-4a36-bc3d-47e44044c306",
   "metadata": {},
   "outputs": [
    {
     "name": "stdout",
     "output_type": "stream",
     "text": [
      "16\n"
     ]
    }
   ],
   "source": [
    "def square(num):\n",
    "    return num*num\n",
    "\n",
    "result = square(4)\n",
    "print(result)"
   ]
  },
  {
   "cell_type": "markdown",
   "id": "59360b42-0e5c-46d7-b59e-9c0c02778318",
   "metadata": {},
   "source": [
    "####  8️⃣ Anonymous (Lambda) Functions\n",
    "##### One-line functions without a name.\n",
    "#### Lambda Function Example"
   ]
  },
  {
   "cell_type": "code",
   "execution_count": 50,
   "id": "dc8234ec-101a-47b6-b053-75bf623dbc48",
   "metadata": {},
   "outputs": [
    {
     "name": "stdout",
     "output_type": "stream",
     "text": [
      "25\n"
     ]
    }
   ],
   "source": [
    "square = lambda x:x*x\n",
    "print(square(5))"
   ]
  },
  {
   "cell_type": "markdown",
   "id": "a8c2ac6c-d5aa-47b2-99be-9c9b7a313ae4",
   "metadata": {},
   "source": [
    "#### 🔹 Lambda with Multiple Arguments"
   ]
  },
  {
   "cell_type": "code",
   "execution_count": 53,
   "id": "f816214f-48de-4d46-9cb0-e2a65b47ee07",
   "metadata": {},
   "outputs": [
    {
     "name": "stdout",
     "output_type": "stream",
     "text": [
      "30\n"
     ]
    }
   ],
   "source": [
    "add = lambda a,b:a+b\n",
    "print(add(10,20))"
   ]
  },
  {
   "cell_type": "markdown",
   "id": "d8df29fc-a1cd-4127-9ba2-db2b7ed9be31",
   "metadata": {},
   "source": [
    "#### 🔹 Lambda Inside Another Function"
   ]
  },
  {
   "cell_type": "markdown",
   "id": "0dafeeb0-1bf3-4c74-9df9-e0b0eacdaedc",
   "metadata": {},
   "source": [
    "def my_function(n):\n",
    "    return lambda x:x*n\n",
    "\n",
    "double = my_function(2)\n",
    "print(double(5))"
   ]
  },
  {
   "cell_type": "markdown",
   "id": "d9587206-a4fc-4835-9712-9e0bef7a089b",
   "metadata": {},
   "source": [
    "#### 9️⃣ Recursive Functions\n",
    "##### A function that calls itself.\n",
    "#### Factorial Using Recursion"
   ]
  },
  {
   "cell_type": "code",
   "execution_count": 61,
   "id": "68e2f223-690e-44ff-997f-c7decfcc8e63",
   "metadata": {},
   "outputs": [
    {
     "name": "stdout",
     "output_type": "stream",
     "text": [
      "120\n"
     ]
    }
   ],
   "source": [
    "def factorial(n):\n",
    "    if n == 1:\n",
    "        return 1\n",
    "    return n*factorial(n-1)\n",
    "\n",
    "print(factorial(5))"
   ]
  },
  {
   "cell_type": "markdown",
   "id": "c7ff6ff0-7952-408b-a043-d327551f2367",
   "metadata": {},
   "source": [
    "#### Fibonacci Series Using Recursion"
   ]
  },
  {
   "cell_type": "code",
   "execution_count": 64,
   "id": "f11b97e5-0c27-4036-bad3-ba22f4a35221",
   "metadata": {},
   "outputs": [
    {
     "name": "stdout",
     "output_type": "stream",
     "text": [
      "8\n"
     ]
    }
   ],
   "source": [
    "def fibonacci(n):\n",
    "    if n <=1:\n",
    "        return n\n",
    "    return fibonacci(n-1) + fibonacci(n-2)\n",
    "print(fibonacci(6))"
   ]
  },
  {
   "cell_type": "markdown",
   "id": "f5d6285a-5c9f-496f-a76c-9417a799accb",
   "metadata": {},
   "source": [
    "#### 🔟 Higher-Order Functions (Functions Taking Functions as Arguments)\n",
    "##### map() Function"
   ]
  },
  {
   "cell_type": "code",
   "execution_count": 67,
   "id": "7af7858d-81ff-4623-8a98-ee085da8646e",
   "metadata": {},
   "outputs": [
    {
     "name": "stdout",
     "output_type": "stream",
     "text": [
      "[1, 4, 9, 16, 25]\n"
     ]
    }
   ],
   "source": [
    "numbers = [1,2,3,4,5]\n",
    "squared = list(map(lambda x:x*x,numbers))\n",
    "print(squared)"
   ]
  },
  {
   "cell_type": "markdown",
   "id": "b623b9fc-3a3b-44e6-81c3-e45e3b4ba177",
   "metadata": {},
   "source": [
    "#### filter() Function"
   ]
  },
  {
   "cell_type": "code",
   "execution_count": 70,
   "id": "4bcdf75b-b14d-4bd5-be74-6b79a443f047",
   "metadata": {},
   "outputs": [
    {
     "name": "stdout",
     "output_type": "stream",
     "text": [
      "[2, 4, 6]\n"
     ]
    }
   ],
   "source": [
    "numbers = [1,2,3,4,5,6]\n",
    "even_numbers = list(filter(lambda x:x % 2== 0,numbers))\n",
    "print(even_numbers)"
   ]
  },
  {
   "cell_type": "markdown",
   "id": "d6c7a5d9-fe9b-4a92-9571-9f4204f4983a",
   "metadata": {},
   "source": [
    "#### reduce() function"
   ]
  },
  {
   "cell_type": "code",
   "execution_count": 73,
   "id": "6cfe823e-bd72-4421-b235-7d76ab484083",
   "metadata": {},
   "outputs": [
    {
     "name": "stdout",
     "output_type": "stream",
     "text": [
      "15\n"
     ]
    }
   ],
   "source": [
    "from functools import reduce\n",
    "numbers = [1,2,3,4,5]\n",
    "sum_result = reduce(lambda x, y: x+y, numbers)\n",
    "print(sum_result)"
   ]
  },
  {
   "cell_type": "markdown",
   "id": "9341371f-5fd0-4445-8a39-80b1fbeaf40e",
   "metadata": {},
   "source": [
    "####  1️⃣1️⃣ Decorators (Functions That Modify Other Functions)"
   ]
  },
  {
   "cell_type": "code",
   "execution_count": 76,
   "id": "c5e43f05-9664-45ba-922f-30ba75958fac",
   "metadata": {},
   "outputs": [
    {
     "name": "stdout",
     "output_type": "stream",
     "text": [
      "Before function call\n",
      "Hello, Rahul!\n",
      "After function call\n"
     ]
    }
   ],
   "source": [
    "def decorator_function(func):\n",
    "    def wrapper():\n",
    "        print(\"Before function call\")\n",
    "        func()\n",
    "        print(\"After function call\")\n",
    "    return wrapper\n",
    "\n",
    "@decorator_function\n",
    "def say_hello():\n",
    "    print(\"Hello, Rahul!\")\n",
    "\n",
    "say_hello()"
   ]
  },
  {
   "cell_type": "markdown",
   "id": "ae3e06b3-f84a-44ab-864c-e85ee500eb00",
   "metadata": {},
   "source": [
    "#### 1️⃣2️⃣ Generators (Efficient Memory Usage with yield)\n",
    "##### Using yield Instead of return"
   ]
  },
  {
   "cell_type": "code",
   "execution_count": 88,
   "id": "cacef524-a8af-40c6-90bc-0b5d7125776e",
   "metadata": {},
   "outputs": [
    {
     "name": "stdout",
     "output_type": "stream",
     "text": [
      "0\n",
      "1\n",
      "2\n",
      "3\n"
     ]
    }
   ],
   "source": [
    "def my_generator():\n",
    "    for i in range(10):\n",
    "        yield i\n",
    "\n",
    "gen = my_generator()\n",
    "print(next(gen))\n",
    "print(next(gen))\n",
    "print(next(gen))\n",
    "print(next(gen))"
   ]
  },
  {
   "cell_type": "markdown",
   "id": "9d5198d6-ac77-44e8-ab82-6bdde89ad889",
   "metadata": {},
   "source": [
    "#### 1️⃣3️⃣ Function Annotations (Type Hints)"
   ]
  },
  {
   "cell_type": "code",
   "execution_count": 91,
   "id": "9259905a-8ab6-4328-b1d1-07ec72145aeb",
   "metadata": {},
   "outputs": [
    {
     "name": "stdout",
     "output_type": "stream",
     "text": [
      "30\n"
     ]
    }
   ],
   "source": [
    "def add(a: int, b: int)-> int:\n",
    "    return a+b\n",
    "\n",
    "print(add(10,20))"
   ]
  },
  {
   "cell_type": "markdown",
   "id": "472e9a6f-3eac-49bb-b2ae-76198b34bc06",
   "metadata": {},
   "source": [
    "#### 1️⃣4️⃣ Practical Examples\n",
    "##### Function to Read a CSV File"
   ]
  },
  {
   "cell_type": "code",
   "execution_count": 96,
   "id": "6ebb2167-e60b-4df8-8fa2-02029ab75912",
   "metadata": {},
   "outputs": [
    {
     "ename": "FileNotFoundError",
     "evalue": "[Errno 2] No such file or directory: 'data.csv'",
     "output_type": "error",
     "traceback": [
      "\u001b[1;31m---------------------------------------------------------------------------\u001b[0m",
      "\u001b[1;31mFileNotFoundError\u001b[0m                         Traceback (most recent call last)",
      "Cell \u001b[1;32mIn[96], line 7\u001b[0m\n\u001b[0;32m      4\u001b[0m     df \u001b[38;5;241m=\u001b[39m pd\u001b[38;5;241m.\u001b[39mread_csv(file_path)\n\u001b[0;32m      5\u001b[0m     \u001b[38;5;28;01mreturn\u001b[39;00m df\u001b[38;5;241m.\u001b[39mhead()\n\u001b[1;32m----> 7\u001b[0m \u001b[38;5;28mprint\u001b[39m(read_csv_file(\u001b[38;5;124m\"\u001b[39m\u001b[38;5;124mdata.csv\u001b[39m\u001b[38;5;124m\"\u001b[39m))\n",
      "Cell \u001b[1;32mIn[96], line 4\u001b[0m, in \u001b[0;36mread_csv_file\u001b[1;34m(file_path)\u001b[0m\n\u001b[0;32m      3\u001b[0m \u001b[38;5;28;01mdef\u001b[39;00m \u001b[38;5;21mread_csv_file\u001b[39m(file_path):\n\u001b[1;32m----> 4\u001b[0m     df \u001b[38;5;241m=\u001b[39m pd\u001b[38;5;241m.\u001b[39mread_csv(file_path)\n\u001b[0;32m      5\u001b[0m     \u001b[38;5;28;01mreturn\u001b[39;00m df\u001b[38;5;241m.\u001b[39mhead()\n",
      "File \u001b[1;32m~\\anaconda3\\Lib\\site-packages\\pandas\\io\\parsers\\readers.py:1026\u001b[0m, in \u001b[0;36mread_csv\u001b[1;34m(filepath_or_buffer, sep, delimiter, header, names, index_col, usecols, dtype, engine, converters, true_values, false_values, skipinitialspace, skiprows, skipfooter, nrows, na_values, keep_default_na, na_filter, verbose, skip_blank_lines, parse_dates, infer_datetime_format, keep_date_col, date_parser, date_format, dayfirst, cache_dates, iterator, chunksize, compression, thousands, decimal, lineterminator, quotechar, quoting, doublequote, escapechar, comment, encoding, encoding_errors, dialect, on_bad_lines, delim_whitespace, low_memory, memory_map, float_precision, storage_options, dtype_backend)\u001b[0m\n\u001b[0;32m   1013\u001b[0m kwds_defaults \u001b[38;5;241m=\u001b[39m _refine_defaults_read(\n\u001b[0;32m   1014\u001b[0m     dialect,\n\u001b[0;32m   1015\u001b[0m     delimiter,\n\u001b[1;32m   (...)\u001b[0m\n\u001b[0;32m   1022\u001b[0m     dtype_backend\u001b[38;5;241m=\u001b[39mdtype_backend,\n\u001b[0;32m   1023\u001b[0m )\n\u001b[0;32m   1024\u001b[0m kwds\u001b[38;5;241m.\u001b[39mupdate(kwds_defaults)\n\u001b[1;32m-> 1026\u001b[0m \u001b[38;5;28;01mreturn\u001b[39;00m _read(filepath_or_buffer, kwds)\n",
      "File \u001b[1;32m~\\anaconda3\\Lib\\site-packages\\pandas\\io\\parsers\\readers.py:620\u001b[0m, in \u001b[0;36m_read\u001b[1;34m(filepath_or_buffer, kwds)\u001b[0m\n\u001b[0;32m    617\u001b[0m _validate_names(kwds\u001b[38;5;241m.\u001b[39mget(\u001b[38;5;124m\"\u001b[39m\u001b[38;5;124mnames\u001b[39m\u001b[38;5;124m\"\u001b[39m, \u001b[38;5;28;01mNone\u001b[39;00m))\n\u001b[0;32m    619\u001b[0m \u001b[38;5;66;03m# Create the parser.\u001b[39;00m\n\u001b[1;32m--> 620\u001b[0m parser \u001b[38;5;241m=\u001b[39m TextFileReader(filepath_or_buffer, \u001b[38;5;241m*\u001b[39m\u001b[38;5;241m*\u001b[39mkwds)\n\u001b[0;32m    622\u001b[0m \u001b[38;5;28;01mif\u001b[39;00m chunksize \u001b[38;5;129;01mor\u001b[39;00m iterator:\n\u001b[0;32m    623\u001b[0m     \u001b[38;5;28;01mreturn\u001b[39;00m parser\n",
      "File \u001b[1;32m~\\anaconda3\\Lib\\site-packages\\pandas\\io\\parsers\\readers.py:1620\u001b[0m, in \u001b[0;36mTextFileReader.__init__\u001b[1;34m(self, f, engine, **kwds)\u001b[0m\n\u001b[0;32m   1617\u001b[0m     \u001b[38;5;28mself\u001b[39m\u001b[38;5;241m.\u001b[39moptions[\u001b[38;5;124m\"\u001b[39m\u001b[38;5;124mhas_index_names\u001b[39m\u001b[38;5;124m\"\u001b[39m] \u001b[38;5;241m=\u001b[39m kwds[\u001b[38;5;124m\"\u001b[39m\u001b[38;5;124mhas_index_names\u001b[39m\u001b[38;5;124m\"\u001b[39m]\n\u001b[0;32m   1619\u001b[0m \u001b[38;5;28mself\u001b[39m\u001b[38;5;241m.\u001b[39mhandles: IOHandles \u001b[38;5;241m|\u001b[39m \u001b[38;5;28;01mNone\u001b[39;00m \u001b[38;5;241m=\u001b[39m \u001b[38;5;28;01mNone\u001b[39;00m\n\u001b[1;32m-> 1620\u001b[0m \u001b[38;5;28mself\u001b[39m\u001b[38;5;241m.\u001b[39m_engine \u001b[38;5;241m=\u001b[39m \u001b[38;5;28mself\u001b[39m\u001b[38;5;241m.\u001b[39m_make_engine(f, \u001b[38;5;28mself\u001b[39m\u001b[38;5;241m.\u001b[39mengine)\n",
      "File \u001b[1;32m~\\anaconda3\\Lib\\site-packages\\pandas\\io\\parsers\\readers.py:1880\u001b[0m, in \u001b[0;36mTextFileReader._make_engine\u001b[1;34m(self, f, engine)\u001b[0m\n\u001b[0;32m   1878\u001b[0m     \u001b[38;5;28;01mif\u001b[39;00m \u001b[38;5;124m\"\u001b[39m\u001b[38;5;124mb\u001b[39m\u001b[38;5;124m\"\u001b[39m \u001b[38;5;129;01mnot\u001b[39;00m \u001b[38;5;129;01min\u001b[39;00m mode:\n\u001b[0;32m   1879\u001b[0m         mode \u001b[38;5;241m+\u001b[39m\u001b[38;5;241m=\u001b[39m \u001b[38;5;124m\"\u001b[39m\u001b[38;5;124mb\u001b[39m\u001b[38;5;124m\"\u001b[39m\n\u001b[1;32m-> 1880\u001b[0m \u001b[38;5;28mself\u001b[39m\u001b[38;5;241m.\u001b[39mhandles \u001b[38;5;241m=\u001b[39m get_handle(\n\u001b[0;32m   1881\u001b[0m     f,\n\u001b[0;32m   1882\u001b[0m     mode,\n\u001b[0;32m   1883\u001b[0m     encoding\u001b[38;5;241m=\u001b[39m\u001b[38;5;28mself\u001b[39m\u001b[38;5;241m.\u001b[39moptions\u001b[38;5;241m.\u001b[39mget(\u001b[38;5;124m\"\u001b[39m\u001b[38;5;124mencoding\u001b[39m\u001b[38;5;124m\"\u001b[39m, \u001b[38;5;28;01mNone\u001b[39;00m),\n\u001b[0;32m   1884\u001b[0m     compression\u001b[38;5;241m=\u001b[39m\u001b[38;5;28mself\u001b[39m\u001b[38;5;241m.\u001b[39moptions\u001b[38;5;241m.\u001b[39mget(\u001b[38;5;124m\"\u001b[39m\u001b[38;5;124mcompression\u001b[39m\u001b[38;5;124m\"\u001b[39m, \u001b[38;5;28;01mNone\u001b[39;00m),\n\u001b[0;32m   1885\u001b[0m     memory_map\u001b[38;5;241m=\u001b[39m\u001b[38;5;28mself\u001b[39m\u001b[38;5;241m.\u001b[39moptions\u001b[38;5;241m.\u001b[39mget(\u001b[38;5;124m\"\u001b[39m\u001b[38;5;124mmemory_map\u001b[39m\u001b[38;5;124m\"\u001b[39m, \u001b[38;5;28;01mFalse\u001b[39;00m),\n\u001b[0;32m   1886\u001b[0m     is_text\u001b[38;5;241m=\u001b[39mis_text,\n\u001b[0;32m   1887\u001b[0m     errors\u001b[38;5;241m=\u001b[39m\u001b[38;5;28mself\u001b[39m\u001b[38;5;241m.\u001b[39moptions\u001b[38;5;241m.\u001b[39mget(\u001b[38;5;124m\"\u001b[39m\u001b[38;5;124mencoding_errors\u001b[39m\u001b[38;5;124m\"\u001b[39m, \u001b[38;5;124m\"\u001b[39m\u001b[38;5;124mstrict\u001b[39m\u001b[38;5;124m\"\u001b[39m),\n\u001b[0;32m   1888\u001b[0m     storage_options\u001b[38;5;241m=\u001b[39m\u001b[38;5;28mself\u001b[39m\u001b[38;5;241m.\u001b[39moptions\u001b[38;5;241m.\u001b[39mget(\u001b[38;5;124m\"\u001b[39m\u001b[38;5;124mstorage_options\u001b[39m\u001b[38;5;124m\"\u001b[39m, \u001b[38;5;28;01mNone\u001b[39;00m),\n\u001b[0;32m   1889\u001b[0m )\n\u001b[0;32m   1890\u001b[0m \u001b[38;5;28;01massert\u001b[39;00m \u001b[38;5;28mself\u001b[39m\u001b[38;5;241m.\u001b[39mhandles \u001b[38;5;129;01mis\u001b[39;00m \u001b[38;5;129;01mnot\u001b[39;00m \u001b[38;5;28;01mNone\u001b[39;00m\n\u001b[0;32m   1891\u001b[0m f \u001b[38;5;241m=\u001b[39m \u001b[38;5;28mself\u001b[39m\u001b[38;5;241m.\u001b[39mhandles\u001b[38;5;241m.\u001b[39mhandle\n",
      "File \u001b[1;32m~\\anaconda3\\Lib\\site-packages\\pandas\\io\\common.py:873\u001b[0m, in \u001b[0;36mget_handle\u001b[1;34m(path_or_buf, mode, encoding, compression, memory_map, is_text, errors, storage_options)\u001b[0m\n\u001b[0;32m    868\u001b[0m \u001b[38;5;28;01melif\u001b[39;00m \u001b[38;5;28misinstance\u001b[39m(handle, \u001b[38;5;28mstr\u001b[39m):\n\u001b[0;32m    869\u001b[0m     \u001b[38;5;66;03m# Check whether the filename is to be opened in binary mode.\u001b[39;00m\n\u001b[0;32m    870\u001b[0m     \u001b[38;5;66;03m# Binary mode does not support 'encoding' and 'newline'.\u001b[39;00m\n\u001b[0;32m    871\u001b[0m     \u001b[38;5;28;01mif\u001b[39;00m ioargs\u001b[38;5;241m.\u001b[39mencoding \u001b[38;5;129;01mand\u001b[39;00m \u001b[38;5;124m\"\u001b[39m\u001b[38;5;124mb\u001b[39m\u001b[38;5;124m\"\u001b[39m \u001b[38;5;129;01mnot\u001b[39;00m \u001b[38;5;129;01min\u001b[39;00m ioargs\u001b[38;5;241m.\u001b[39mmode:\n\u001b[0;32m    872\u001b[0m         \u001b[38;5;66;03m# Encoding\u001b[39;00m\n\u001b[1;32m--> 873\u001b[0m         handle \u001b[38;5;241m=\u001b[39m \u001b[38;5;28mopen\u001b[39m(\n\u001b[0;32m    874\u001b[0m             handle,\n\u001b[0;32m    875\u001b[0m             ioargs\u001b[38;5;241m.\u001b[39mmode,\n\u001b[0;32m    876\u001b[0m             encoding\u001b[38;5;241m=\u001b[39mioargs\u001b[38;5;241m.\u001b[39mencoding,\n\u001b[0;32m    877\u001b[0m             errors\u001b[38;5;241m=\u001b[39merrors,\n\u001b[0;32m    878\u001b[0m             newline\u001b[38;5;241m=\u001b[39m\u001b[38;5;124m\"\u001b[39m\u001b[38;5;124m\"\u001b[39m,\n\u001b[0;32m    879\u001b[0m         )\n\u001b[0;32m    880\u001b[0m     \u001b[38;5;28;01melse\u001b[39;00m:\n\u001b[0;32m    881\u001b[0m         \u001b[38;5;66;03m# Binary mode\u001b[39;00m\n\u001b[0;32m    882\u001b[0m         handle \u001b[38;5;241m=\u001b[39m \u001b[38;5;28mopen\u001b[39m(handle, ioargs\u001b[38;5;241m.\u001b[39mmode)\n",
      "\u001b[1;31mFileNotFoundError\u001b[0m: [Errno 2] No such file or directory: 'data.csv'"
     ]
    }
   ],
   "source": [
    "import pandas as pd\n",
    "\n",
    "def read_csv_file(file_path):\n",
    "    df = pd.read_csv(file_path)\n",
    "    return df.head()\n",
    "\n",
    "print(read_csv_file(\"data.csv\"))\n"
   ]
  },
  {
   "cell_type": "markdown",
   "id": "3ef8ca9c-299b-4552-bcba-723e4bff9376",
   "metadata": {},
   "source": [
    "#### Function to Fetch Data from an API"
   ]
  },
  {
   "cell_type": "code",
   "execution_count": 99,
   "id": "bcd2d950-4703-4aa2-bb5d-c8a1e5ac4de2",
   "metadata": {},
   "outputs": [
    {
     "name": "stdout",
     "output_type": "stream",
     "text": [
      "[{'id': 1, 'name': 'Leanne Graham', 'username': 'Bret', 'email': 'Sincere@april.biz', 'address': {'street': 'Kulas Light', 'suite': 'Apt. 556', 'city': 'Gwenborough', 'zipcode': '92998-3874', 'geo': {'lat': '-37.3159', 'lng': '81.1496'}}, 'phone': '1-770-736-8031 x56442', 'website': 'hildegard.org', 'company': {'name': 'Romaguera-Crona', 'catchPhrase': 'Multi-layered client-server neural-net', 'bs': 'harness real-time e-markets'}}, {'id': 2, 'name': 'Ervin Howell', 'username': 'Antonette', 'email': 'Shanna@melissa.tv', 'address': {'street': 'Victor Plains', 'suite': 'Suite 879', 'city': 'Wisokyburgh', 'zipcode': '90566-7771', 'geo': {'lat': '-43.9509', 'lng': '-34.4618'}}, 'phone': '010-692-6593 x09125', 'website': 'anastasia.net', 'company': {'name': 'Deckow-Crist', 'catchPhrase': 'Proactive didactic contingency', 'bs': 'synergize scalable supply-chains'}}, {'id': 3, 'name': 'Clementine Bauch', 'username': 'Samantha', 'email': 'Nathan@yesenia.net', 'address': {'street': 'Douglas Extension', 'suite': 'Suite 847', 'city': 'McKenziehaven', 'zipcode': '59590-4157', 'geo': {'lat': '-68.6102', 'lng': '-47.0653'}}, 'phone': '1-463-123-4447', 'website': 'ramiro.info', 'company': {'name': 'Romaguera-Jacobson', 'catchPhrase': 'Face to face bifurcated interface', 'bs': 'e-enable strategic applications'}}, {'id': 4, 'name': 'Patricia Lebsack', 'username': 'Karianne', 'email': 'Julianne.OConner@kory.org', 'address': {'street': 'Hoeger Mall', 'suite': 'Apt. 692', 'city': 'South Elvis', 'zipcode': '53919-4257', 'geo': {'lat': '29.4572', 'lng': '-164.2990'}}, 'phone': '493-170-9623 x156', 'website': 'kale.biz', 'company': {'name': 'Robel-Corkery', 'catchPhrase': 'Multi-tiered zero tolerance productivity', 'bs': 'transition cutting-edge web services'}}, {'id': 5, 'name': 'Chelsey Dietrich', 'username': 'Kamren', 'email': 'Lucio_Hettinger@annie.ca', 'address': {'street': 'Skiles Walks', 'suite': 'Suite 351', 'city': 'Roscoeview', 'zipcode': '33263', 'geo': {'lat': '-31.8129', 'lng': '62.5342'}}, 'phone': '(254)954-1289', 'website': 'demarco.info', 'company': {'name': 'Keebler LLC', 'catchPhrase': 'User-centric fault-tolerant solution', 'bs': 'revolutionize end-to-end systems'}}, {'id': 6, 'name': 'Mrs. Dennis Schulist', 'username': 'Leopoldo_Corkery', 'email': 'Karley_Dach@jasper.info', 'address': {'street': 'Norberto Crossing', 'suite': 'Apt. 950', 'city': 'South Christy', 'zipcode': '23505-1337', 'geo': {'lat': '-71.4197', 'lng': '71.7478'}}, 'phone': '1-477-935-8478 x6430', 'website': 'ola.org', 'company': {'name': 'Considine-Lockman', 'catchPhrase': 'Synchronised bottom-line interface', 'bs': 'e-enable innovative applications'}}, {'id': 7, 'name': 'Kurtis Weissnat', 'username': 'Elwyn.Skiles', 'email': 'Telly.Hoeger@billy.biz', 'address': {'street': 'Rex Trail', 'suite': 'Suite 280', 'city': 'Howemouth', 'zipcode': '58804-1099', 'geo': {'lat': '24.8918', 'lng': '21.8984'}}, 'phone': '210.067.6132', 'website': 'elvis.io', 'company': {'name': 'Johns Group', 'catchPhrase': 'Configurable multimedia task-force', 'bs': 'generate enterprise e-tailers'}}, {'id': 8, 'name': 'Nicholas Runolfsdottir V', 'username': 'Maxime_Nienow', 'email': 'Sherwood@rosamond.me', 'address': {'street': 'Ellsworth Summit', 'suite': 'Suite 729', 'city': 'Aliyaview', 'zipcode': '45169', 'geo': {'lat': '-14.3990', 'lng': '-120.7677'}}, 'phone': '586.493.6943 x140', 'website': 'jacynthe.com', 'company': {'name': 'Abernathy Group', 'catchPhrase': 'Implemented secondary concept', 'bs': 'e-enable extensible e-tailers'}}, {'id': 9, 'name': 'Glenna Reichert', 'username': 'Delphine', 'email': 'Chaim_McDermott@dana.io', 'address': {'street': 'Dayna Park', 'suite': 'Suite 449', 'city': 'Bartholomebury', 'zipcode': '76495-3109', 'geo': {'lat': '24.6463', 'lng': '-168.8889'}}, 'phone': '(775)976-6794 x41206', 'website': 'conrad.com', 'company': {'name': 'Yost and Sons', 'catchPhrase': 'Switchable contextually-based project', 'bs': 'aggregate real-time technologies'}}, {'id': 10, 'name': 'Clementina DuBuque', 'username': 'Moriah.Stanton', 'email': 'Rey.Padberg@karina.biz', 'address': {'street': 'Kattie Turnpike', 'suite': 'Suite 198', 'city': 'Lebsackbury', 'zipcode': '31428-2261', 'geo': {'lat': '-38.2386', 'lng': '57.2232'}}, 'phone': '024-648-3804', 'website': 'ambrose.net', 'company': {'name': 'Hoeger LLC', 'catchPhrase': 'Centralized empowering task-force', 'bs': 'target end-to-end models'}}]\n"
     ]
    }
   ],
   "source": [
    "import requests\n",
    "def fetch_data(url):\n",
    "    response = requests.get(url)\n",
    "    return response.json()\n",
    "\n",
    "data=fetch_data(\"https://jsonplaceholder.typicode.com/users\")\n",
    "print(data)"
   ]
  },
  {
   "cell_type": "markdown",
   "id": "a42f65c0-b790-4601-bbaf-6dcdc116facc",
   "metadata": {},
   "source": [
    "## Table in python"
   ]
  },
  {
   "cell_type": "code",
   "execution_count": 102,
   "id": "d656bba0-ea1b-41be-8723-253c7b881dac",
   "metadata": {},
   "outputs": [
    {
     "name": "stdout",
     "output_type": "stream",
     "text": [
      "Requirement already satisfied: tabulate in c:\\users\\rahul\\anaconda3\\lib\\site-packages (0.9.0)\n",
      "Note: you may need to restart the kernel to use updated packages.\n"
     ]
    }
   ],
   "source": [
    "pip install tabulate"
   ]
  },
  {
   "cell_type": "code",
   "execution_count": 104,
   "id": "8810be66-8e9c-45d8-acfe-828ef240d467",
   "metadata": {},
   "outputs": [
    {
     "name": "stdout",
     "output_type": "stream",
     "text": [
      "+-------------------+---------------------------------+----------------------------------+\n",
      "| Concept           | Description                     | Example                          |\n",
      "+===================+=================================+==================================+\n",
      "| Basic Function    | Defining and calling a function | `def greet(): print(\"Hello!\")`   |\n",
      "+-------------------+---------------------------------+----------------------------------+\n",
      "| Parameters        | Passing values to a function    | `def add(a, b): return a + b`    |\n",
      "+-------------------+---------------------------------+----------------------------------+\n",
      "| Default Arguments | Providing default values        | `def greet(name=\"Guest\")`        |\n",
      "+-------------------+---------------------------------+----------------------------------+\n",
      "| *args & **kwargs  | Handling multiple arguments     | `def func(*args, **kwargs)`      |\n",
      "+-------------------+---------------------------------+----------------------------------+\n",
      "| Lambda            | One-liner function              | `lambda x: x * x`                |\n",
      "+-------------------+---------------------------------+----------------------------------+\n",
      "| Recursion         | Function calling itself         | `factorial(n-1)`                 |\n",
      "+-------------------+---------------------------------+----------------------------------+\n",
      "| map()             | Apply function to a list        | `map(lambda x: x*x, list)`       |\n",
      "+-------------------+---------------------------------+----------------------------------+\n",
      "| filter()          | Filter elements                 | `filter(lambda x: x>5, list)`    |\n",
      "+-------------------+---------------------------------+----------------------------------+\n",
      "| reduce()          | Reduce list to single value     | `reduce(lambda x, y: x+y, list)` |\n",
      "+-------------------+---------------------------------+----------------------------------+\n",
      "| Decorators        | Modify function behavior        | `@decorator`                     |\n",
      "+-------------------+---------------------------------+----------------------------------+\n",
      "| Generators        | `yield` instead of `return`     | `yield i`                        |\n",
      "+-------------------+---------------------------------+----------------------------------+\n"
     ]
    }
   ],
   "source": [
    "from tabulate import tabulate\n",
    "\n",
    "# Data for the table\n",
    "data = [\n",
    "    [\"Basic Function\", \"Defining and calling a function\", \"`def greet(): print(\\\"Hello!\\\")`\"],\n",
    "    [\"Parameters\", \"Passing values to a function\", \"`def add(a, b): return a + b`\"],\n",
    "    [\"Default Arguments\", \"Providing default values\", \"`def greet(name=\\\"Guest\\\")`\"],\n",
    "    [\"*args & **kwargs\", \"Handling multiple arguments\", \"`def func(*args, **kwargs)`\"],\n",
    "    [\"Lambda\", \"One-liner function\", \"`lambda x: x * x`\"],\n",
    "    [\"Recursion\", \"Function calling itself\", \"`factorial(n-1)`\"],\n",
    "    [\"map()\", \"Apply function to a list\", \"`map(lambda x: x*x, list)`\"],\n",
    "    [\"filter()\", \"Filter elements\", \"`filter(lambda x: x>5, list)`\"],\n",
    "    [\"reduce()\", \"Reduce list to single value\", \"`reduce(lambda x, y: x+y, list)`\"],\n",
    "    [\"Decorators\", \"Modify function behavior\", \"`@decorator`\"],\n",
    "    [\"Generators\", \"`yield` instead of `return`\", \"`yield i`\"]\n",
    "]\n",
    "\n",
    "# Table Headers\n",
    "headers = [\"Concept\", \"Description\", \"Example\"]\n",
    "\n",
    "# Print the table\n",
    "print(tabulate(data, headers, tablefmt=\"grid\"))"
   ]
  },
  {
   "cell_type": "markdown",
   "id": "8bc7096c-0d59-41ff-95b9-22ca8a47b2eb",
   "metadata": {},
   "source": [
    "## table format's"
   ]
  },
  {
   "cell_type": "code",
   "execution_count": 107,
   "id": "f648d193-f953-4e64-971e-b681a5a89977",
   "metadata": {},
   "outputs": [
    {
     "name": "stdout",
     "output_type": "stream",
     "text": [
      "Concept            Description                      Example\n",
      "Basic Function     Defining and calling a function  `def greet(): print(\"Hello!\")`\n",
      "Parameters         Passing values to a function     `def add(a, b): return a + b`\n",
      "Default Arguments  Providing default values         `def greet(name=\"Guest\")`\n",
      "*args & **kwargs   Handling multiple arguments      `def func(*args, **kwargs)`\n",
      "Lambda             One-liner function               `lambda x: x * x`\n",
      "Recursion          Function calling itself          `factorial(n-1)`\n",
      "map()              Apply function to a list         `map(lambda x: x*x, list)`\n",
      "filter()           Filter elements                  `filter(lambda x: x>5, list)`\n",
      "reduce()           Reduce list to single value      `reduce(lambda x, y: x+y, list)`\n",
      "Decorators         Modify function behavior         `@decorator`\n",
      "Generators         `yield` instead of `return`      `yield i`\n"
     ]
    }
   ],
   "source": [
    "print(tabulate(data, headers, tablefmt = \"plain\"))"
   ]
  },
  {
   "cell_type": "markdown",
   "id": "5aaa95d9-73ee-40fd-a05c-75d77db02529",
   "metadata": {},
   "source": [
    "# fancy_grid format"
   ]
  },
  {
   "cell_type": "code",
   "execution_count": 110,
   "id": "0d18ba12-eb50-4596-ad87-a77f8f821463",
   "metadata": {},
   "outputs": [
    {
     "name": "stdout",
     "output_type": "stream",
     "text": [
      "╒═══════════════════╤═════════════════════════════════╤══════════════════════════════════╕\n",
      "│ Concept           │ Description                     │ Example                          │\n",
      "╞═══════════════════╪═════════════════════════════════╪══════════════════════════════════╡\n",
      "│ Basic Function    │ Defining and calling a function │ `def greet(): print(\"Hello!\")`   │\n",
      "├───────────────────┼─────────────────────────────────┼──────────────────────────────────┤\n",
      "│ Parameters        │ Passing values to a function    │ `def add(a, b): return a + b`    │\n",
      "├───────────────────┼─────────────────────────────────┼──────────────────────────────────┤\n",
      "│ Default Arguments │ Providing default values        │ `def greet(name=\"Guest\")`        │\n",
      "├───────────────────┼─────────────────────────────────┼──────────────────────────────────┤\n",
      "│ *args & **kwargs  │ Handling multiple arguments     │ `def func(*args, **kwargs)`      │\n",
      "├───────────────────┼─────────────────────────────────┼──────────────────────────────────┤\n",
      "│ Lambda            │ One-liner function              │ `lambda x: x * x`                │\n",
      "├───────────────────┼─────────────────────────────────┼──────────────────────────────────┤\n",
      "│ Recursion         │ Function calling itself         │ `factorial(n-1)`                 │\n",
      "├───────────────────┼─────────────────────────────────┼──────────────────────────────────┤\n",
      "│ map()             │ Apply function to a list        │ `map(lambda x: x*x, list)`       │\n",
      "├───────────────────┼─────────────────────────────────┼──────────────────────────────────┤\n",
      "│ filter()          │ Filter elements                 │ `filter(lambda x: x>5, list)`    │\n",
      "├───────────────────┼─────────────────────────────────┼──────────────────────────────────┤\n",
      "│ reduce()          │ Reduce list to single value     │ `reduce(lambda x, y: x+y, list)` │\n",
      "├───────────────────┼─────────────────────────────────┼──────────────────────────────────┤\n",
      "│ Decorators        │ Modify function behavior        │ `@decorator`                     │\n",
      "├───────────────────┼─────────────────────────────────┼──────────────────────────────────┤\n",
      "│ Generators        │ `yield` instead of `return`     │ `yield i`                        │\n",
      "╘═══════════════════╧═════════════════════════════════╧══════════════════════════════════╛\n"
     ]
    }
   ],
   "source": [
    "print(tabulate(data, headers, tablefmt=\"fancy_grid\"))"
   ]
  },
  {
   "cell_type": "markdown",
   "id": "2ce423d4-17b5-447a-bfd9-a6ee13e08702",
   "metadata": {},
   "source": [
    "##  3. pipe Format (Good for Markdown)"
   ]
  },
  {
   "cell_type": "code",
   "execution_count": 119,
   "id": "04997278-f05d-4024-82c9-640a85f3f329",
   "metadata": {},
   "outputs": [
    {
     "name": "stdout",
     "output_type": "stream",
     "text": [
      "| Concept           | Description                     | Example                          |\n",
      "|:------------------|:--------------------------------|:---------------------------------|\n",
      "| Basic Function    | Defining and calling a function | `def greet(): print(\"Hello!\")`   |\n",
      "| Parameters        | Passing values to a function    | `def add(a, b): return a + b`    |\n",
      "| Default Arguments | Providing default values        | `def greet(name=\"Guest\")`        |\n",
      "| *args & **kwargs  | Handling multiple arguments     | `def func(*args, **kwargs)`      |\n",
      "| Lambda            | One-liner function              | `lambda x: x * x`                |\n",
      "| Recursion         | Function calling itself         | `factorial(n-1)`                 |\n",
      "| map()             | Apply function to a list        | `map(lambda x: x*x, list)`       |\n",
      "| filter()          | Filter elements                 | `filter(lambda x: x>5, list)`    |\n",
      "| reduce()          | Reduce list to single value     | `reduce(lambda x, y: x+y, list)` |\n",
      "| Decorators        | Modify function behavior        | `@decorator`                     |\n",
      "| Generators        | `yield` instead of `return`     | `yield i`                        |\n"
     ]
    }
   ],
   "source": [
    "print(tabulate(data, headers, tablefmt=\"pipe\"))"
   ]
  },
  {
   "cell_type": "markdown",
   "id": "ac131c9d-c83e-4dba-9ccb-dd67cac3d486",
   "metadata": {},
   "source": [
    "## 4. double_outline Format"
   ]
  },
  {
   "cell_type": "code",
   "execution_count": 122,
   "id": "bbcff103-e10e-42ae-ad7d-d6aaf4af2f33",
   "metadata": {},
   "outputs": [
    {
     "name": "stdout",
     "output_type": "stream",
     "text": [
      "╔═══════════════════╦═════════════════════════════════╦══════════════════════════════════╗\n",
      "║ Concept           ║ Description                     ║ Example                          ║\n",
      "╠═══════════════════╬═════════════════════════════════╬══════════════════════════════════╣\n",
      "║ Basic Function    ║ Defining and calling a function ║ `def greet(): print(\"Hello!\")`   ║\n",
      "║ Parameters        ║ Passing values to a function    ║ `def add(a, b): return a + b`    ║\n",
      "║ Default Arguments ║ Providing default values        ║ `def greet(name=\"Guest\")`        ║\n",
      "║ *args & **kwargs  ║ Handling multiple arguments     ║ `def func(*args, **kwargs)`      ║\n",
      "║ Lambda            ║ One-liner function              ║ `lambda x: x * x`                ║\n",
      "║ Recursion         ║ Function calling itself         ║ `factorial(n-1)`                 ║\n",
      "║ map()             ║ Apply function to a list        ║ `map(lambda x: x*x, list)`       ║\n",
      "║ filter()          ║ Filter elements                 ║ `filter(lambda x: x>5, list)`    ║\n",
      "║ reduce()          ║ Reduce list to single value     ║ `reduce(lambda x, y: x+y, list)` ║\n",
      "║ Decorators        ║ Modify function behavior        ║ `@decorator`                     ║\n",
      "║ Generators        ║ `yield` instead of `return`     ║ `yield i`                        ║\n",
      "╚═══════════════════╩═════════════════════════════════╩══════════════════════════════════╝\n"
     ]
    }
   ],
   "source": [
    "print(tabulate(data,headers, tablefmt=\"double_outline\"))"
   ]
  },
  {
   "cell_type": "markdown",
   "id": "bafc81a6-0874-4853-a69e-2a74b46f1e61",
   "metadata": {},
   "source": [
    "## 5 html format (for web pages)"
   ]
  },
  {
   "cell_type": "code",
   "execution_count": 127,
   "id": "272beca3-f869-4b11-8f3c-fe6dc0e60cc0",
   "metadata": {},
   "outputs": [
    {
     "name": "stdout",
     "output_type": "stream",
     "text": [
      "<table>\n",
      "<thead>\n",
      "<tr><th>Concept          </th><th>Description                    </th><th>Example                         </th></tr>\n",
      "</thead>\n",
      "<tbody>\n",
      "<tr><td>Basic Function   </td><td>Defining and calling a function</td><td>`def greet(): print(&quot;Hello!&quot;)`  </td></tr>\n",
      "<tr><td>Parameters       </td><td>Passing values to a function   </td><td>`def add(a, b): return a + b`   </td></tr>\n",
      "<tr><td>Default Arguments</td><td>Providing default values       </td><td>`def greet(name=&quot;Guest&quot;)`       </td></tr>\n",
      "<tr><td>*args &amp; **kwargs </td><td>Handling multiple arguments    </td><td>`def func(*args, **kwargs)`     </td></tr>\n",
      "<tr><td>Lambda           </td><td>One-liner function             </td><td>`lambda x: x * x`               </td></tr>\n",
      "<tr><td>Recursion        </td><td>Function calling itself        </td><td>`factorial(n-1)`                </td></tr>\n",
      "<tr><td>map()            </td><td>Apply function to a list       </td><td>`map(lambda x: x*x, list)`      </td></tr>\n",
      "<tr><td>filter()         </td><td>Filter elements                </td><td>`filter(lambda x: x&gt;5, list)`   </td></tr>\n",
      "<tr><td>reduce()         </td><td>Reduce list to single value    </td><td>`reduce(lambda x, y: x+y, list)`</td></tr>\n",
      "<tr><td>Decorators       </td><td>Modify function behavior       </td><td>`@decorator`                    </td></tr>\n",
      "<tr><td>Generators       </td><td>`yield` instead of `return`    </td><td>`yield i`                       </td></tr>\n",
      "</tbody>\n",
      "</table>\n"
     ]
    }
   ],
   "source": [
    "## 5 html format (for web pages\n",
    "print(tabulate(data,headers, tablefmt=\"html\"))"
   ]
  },
  {
   "cell_type": "markdown",
   "id": "b5aea8d7-f8bf-4bd3-a094-72a986a54564",
   "metadata": {},
   "source": [
    "# save all above html code into text file having naming \"text.html\" and save it and open it into chrome or any web browser"
   ]
  }
 ],
 "metadata": {
  "kernelspec": {
   "display_name": "Python 3 (ipykernel)",
   "language": "python",
   "name": "python3"
  },
  "language_info": {
   "codemirror_mode": {
    "name": "ipython",
    "version": 3
   },
   "file_extension": ".py",
   "mimetype": "text/x-python",
   "name": "python",
   "nbconvert_exporter": "python",
   "pygments_lexer": "ipython3",
   "version": "3.12.7"
  }
 },
 "nbformat": 4,
 "nbformat_minor": 5
}
