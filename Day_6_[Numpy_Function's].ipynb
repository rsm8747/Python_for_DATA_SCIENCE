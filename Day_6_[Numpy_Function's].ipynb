{
 "cells": [
  {
   "cell_type": "code",
   "execution_count": 1,
   "id": "8a3acaf8-1f96-4d5e-9642-a73fe24e6641",
   "metadata": {},
   "outputs": [],
   "source": [
    "# np.array() - crt an array from a python list\n",
    "import numpy as np\n",
    "arr = np.array([1,2,3])"
   ]
  },
  {
   "cell_type": "code",
   "execution_count": 3,
   "id": "329df36f-94a0-401f-bd0e-fa6284d23065",
   "metadata": {},
   "outputs": [],
   "source": [
    "# np.zeros() - crt an array filled with zeros\n",
    "zeros = np.zeros((2,3))"
   ]
  },
  {
   "cell_type": "code",
   "execution_count": 9,
   "id": "074d6fc6-f89d-451b-b5df-e4c4a1ff4524",
   "metadata": {},
   "outputs": [],
   "source": [
    "# np.ones()\n",
    "ones=np.ones((3,2))"
   ]
  },
  {
   "cell_type": "code",
   "execution_count": 11,
   "id": "1d8f4e08-2161-4acf-99a4-dfd9cacb0009",
   "metadata": {},
   "outputs": [],
   "source": [
    "# 4. np.empty()-crt an uninitialized array\n",
    "empty = np.empty((2,2))"
   ]
  },
  {
   "cell_type": "code",
   "execution_count": 13,
   "id": "77a0b979-adbd-46bb-9d20-43f7eca8c97e",
   "metadata": {},
   "outputs": [],
   "source": [
    "# 5. np.arange()- crt an array with regularly spaced values\n",
    "range_arr = np.arange(0,10,2)"
   ]
  },
  {
   "cell_type": "code",
   "execution_count": 15,
   "id": "eac2f024-8170-4183-926a-a88687386621",
   "metadata": {},
   "outputs": [],
   "source": [
    "# 6.np.linsPACE() - CRT AN ARRAY with evenly spaced numbers\n",
    "lin_arr = np.linspace(0,1,5)"
   ]
  },
  {
   "cell_type": "code",
   "execution_count": 17,
   "id": "4d24a359-1722-4ac8-9303-c286bdd94a4b",
   "metadata": {},
   "outputs": [],
   "source": [
    "# 7 np.eye() - crt an indentify matrix\n",
    "identify = np.eye(3)"
   ]
  },
  {
   "cell_type": "code",
   "execution_count": 19,
   "id": "235a0f8a-b1f6-4061-a22f-52af3af1588b",
   "metadata": {},
   "outputs": [],
   "source": [
    "# 8 np.random.rand() - crt an array with random values\n",
    "rand_arr = np.random.rand(2,2)"
   ]
  },
  {
   "cell_type": "markdown",
   "id": "b2b3c22a-949f-4269-b702-73a392cef7ee",
   "metadata": {},
   "source": [
    "### Array ATtributes "
   ]
  },
  {
   "cell_type": "code",
   "execution_count": 22,
   "id": "67c42979-900b-464a-8743-396fe1c4f3d2",
   "metadata": {},
   "outputs": [
    {
     "name": "stdout",
     "output_type": "stream",
     "text": [
      "(2, 2)\n"
     ]
    }
   ],
   "source": [
    "# 9 arr.shape- get array dimensions\n",
    "arr = np.array([[1,2],[3,4]])\n",
    "print(arr.shape)"
   ]
  },
  {
   "cell_type": "code",
   "execution_count": 24,
   "id": "bd30154f-3e15-4819-9030-9422600d5551",
   "metadata": {},
   "outputs": [
    {
     "name": "stdout",
     "output_type": "stream",
     "text": [
      "int32\n"
     ]
    }
   ],
   "source": [
    "# 10 arr.dtype- get data type of array elements\n",
    "print(arr.dtype)"
   ]
  },
  {
   "cell_type": "code",
   "execution_count": 26,
   "id": "e706863c-6c5c-4020-9ba4-8b198c6b7b35",
   "metadata": {},
   "outputs": [
    {
     "name": "stdout",
     "output_type": "stream",
     "text": [
      "4\n"
     ]
    }
   ],
   "source": [
    "# 11 arr.size-get total number of elements\n",
    "print(arr.size)"
   ]
  },
  {
   "cell_type": "code",
   "execution_count": 28,
   "id": "f4883509-27b6-48cf-a9d8-2048587b3107",
   "metadata": {},
   "outputs": [
    {
     "name": "stdout",
     "output_type": "stream",
     "text": [
      "2\n"
     ]
    }
   ],
   "source": [
    "# 12 arr.ndim - get number of dimensions\n",
    "print(arr.ndim)"
   ]
  },
  {
   "cell_type": "code",
   "execution_count": 30,
   "id": "55414221-9c58-417e-ab89-029368ac0511",
   "metadata": {},
   "outputs": [],
   "source": [
    "# Array Operation\n",
    "# 13 np.reshape() - changes arrray shape\n",
    "\n",
    "arr = np.arange(6)\n",
    "reshaped = arr.reshape(2,3)"
   ]
  },
  {
   "cell_type": "code",
   "execution_count": 32,
   "id": "9f411305-16a8-40bc-b524-d2c07b708938",
   "metadata": {},
   "outputs": [],
   "source": [
    "# 14 np.concatenate() - join arrays\n",
    "\n",
    "a = np.array([1,2])\n",
    "b = np.array([3,4])\n",
    "concat = np.concatenate((a,b))"
   ]
  },
  {
   "cell_type": "code",
   "execution_count": 36,
   "id": "3ccba5bd-d41e-463d-a455-86566a18d697",
   "metadata": {},
   "outputs": [],
   "source": [
    "# 15 np.split() - Split an array\n",
    "arr = np.arange(9)\n",
    "split_arr = np.split(arr, 3)  # 3 equal parts"
   ]
  },
  {
   "cell_type": "code",
   "execution_count": 38,
   "id": "8b9463d5-73cc-4014-b18f-288da220da7f",
   "metadata": {},
   "outputs": [],
   "source": [
    "# 16 np.transpose() - Transpose array\n",
    "arr = np.array([[1,2],[3,4]])\n",
    "transposed = np.transpose(arr)"
   ]
  },
  {
   "cell_type": "code",
   "execution_count": 40,
   "id": "ee885e5a-1669-4bc9-90c1-d508c00ef145",
   "metadata": {},
   "outputs": [],
   "source": [
    "# 17 np.flatten() - Flattten array to 1D\n",
    "flat = arr.flatten()"
   ]
  },
  {
   "cell_type": "code",
   "execution_count": 42,
   "id": "1952cc42-804c-4207-b884-e6ef4ce0796e",
   "metadata": {},
   "outputs": [],
   "source": [
    "# Mathematical Functions\n",
    "# 18 np.sum() - Sum of array elements\n",
    "total = np.sum(arr)"
   ]
  },
  {
   "cell_type": "code",
   "execution_count": 44,
   "id": "33e33d52-423c-419f-bb74-814091665547",
   "metadata": {},
   "outputs": [],
   "source": [
    "# 19 np.mean() - Mean of array elements\n",
    "avg = np.mean(arr)"
   ]
  },
  {
   "cell_type": "code",
   "execution_count": 46,
   "id": "5dd09203-ed37-4e08-b322-68baee0bf9bb",
   "metadata": {},
   "outputs": [],
   "source": [
    "# 20 np.std() - Standard Deviation\n",
    "std_dev = np.std(arr)"
   ]
  },
  {
   "cell_type": "code",
   "execution_count": 48,
   "id": "b9e5acc9-2035-4c0a-baa7-464ea60566bd",
   "metadata": {},
   "outputs": [],
   "source": [
    "# 21 np.var() - Variance\n",
    "variance = np.var(arr)"
   ]
  },
  {
   "cell_type": "code",
   "execution_count": 50,
   "id": "24035671-8bd2-490e-9d22-ec8ffbcfe3a3",
   "metadata": {},
   "outputs": [],
   "source": [
    "# 22 np.min()/ np.max() - Minimum/maximum values\n",
    "min_val = np.min(arr)\n",
    "max_val = np.max(arr)"
   ]
  },
  {
   "cell_type": "code",
   "execution_count": 52,
   "id": "72e1db48-dd1f-4057-b417-066108219686",
   "metadata": {},
   "outputs": [],
   "source": [
    "# 23 np.argmin() / np.argmax() - Indices of min/ max values\n",
    "min_idx = np.argmin(arr)\n",
    "max_idx = np.argmax(arr)"
   ]
  },
  {
   "cell_type": "code",
   "execution_count": 54,
   "id": "af44a00d-2566-4c0e-83ea-9be3129ce6a4",
   "metadata": {},
   "outputs": [],
   "source": [
    "# 24 np.sort() - Sort array\n",
    "sorted_arr = np.sort(np.array([3,1,2]))"
   ]
  },
  {
   "cell_type": "code",
   "execution_count": 56,
   "id": "4b161fde-10ca-4cd9-baf7-e8cb1f9d271b",
   "metadata": {},
   "outputs": [],
   "source": [
    "# 25 np.abs() - Absolute value\n",
    "abs_arr = np.abs(np.array([-1,-2,3]))"
   ]
  },
  {
   "cell_type": "code",
   "execution_count": 58,
   "id": "0c7846ce-201e-4056-a3cf-8fc629588014",
   "metadata": {},
   "outputs": [],
   "source": [
    "# 26 np.exp() - Exponential\n",
    "exp_arr = np.exp(np.array([1,2,3]))"
   ]
  },
  {
   "cell_type": "code",
   "execution_count": 60,
   "id": "5627c304-7201-4cd8-9b98-72fd9d3b014a",
   "metadata": {},
   "outputs": [],
   "source": [
    "# 27 np.log- Natural logarithm\n",
    "log_arr=np.log(np.array([1,np.e,np.e**2]))"
   ]
  },
  {
   "cell_type": "code",
   "execution_count": 62,
   "id": "53b4ce1b-c2bd-4637-8a16-b4b62aa83d50",
   "metadata": {},
   "outputs": [],
   "source": [
    "# 28 np.sprt() - Square root\n",
    "sqrt_arr = np.sqrt(np.array([1,4,9]))"
   ]
  },
  {
   "cell_type": "code",
   "execution_count": 64,
   "id": "d9ee7596-88ff-496f-8bfa-77bb75323245",
   "metadata": {},
   "outputs": [],
   "source": [
    "# 29 np.sin(),np.cos(),np.tan() - Trigonometric functions\n",
    "sin_arr = np.sin(np.array([0,np.pi/2,np.pi]))"
   ]
  },
  {
   "cell_type": "markdown",
   "id": "e4a0c757-8348-4862-9064-268549a2512f",
   "metadata": {},
   "source": [
    "### Linear Algebra "
   ]
  },
  {
   "cell_type": "code",
   "execution_count": 67,
   "id": "d457e81a-562c-401c-8c9c-62065243c862",
   "metadata": {},
   "outputs": [],
   "source": [
    "# 30 np.dot() - Dot product\n",
    "a = np.array([1,2])\n",
    "b = np.array([3,4])\n",
    "dot_product = np.dot(a,b)"
   ]
  },
  {
   "cell_type": "code",
   "execution_count": 71,
   "id": "d5bb40e0-5df5-41a2-9aa9-009365459814",
   "metadata": {},
   "outputs": [],
   "source": [
    "# 31 np.matmul() - matrix multiplication\n",
    "A = np.array([[1,2],[3,4]])\n",
    "B = np.array([[5,6],[7,8]])\n",
    "matmul = np.matmul(A,B)"
   ]
  },
  {
   "cell_type": "code",
   "execution_count": 73,
   "id": "7adef72b-55b1-4c4e-b2fc-b41b9ee7e6ad",
   "metadata": {},
   "outputs": [],
   "source": [
    "# 32 np.linalg.inv() - Matrix inverse\n",
    "inv_A = np.linalg.inv(A)"
   ]
  },
  {
   "cell_type": "code",
   "execution_count": 75,
   "id": "6e6f3fdf-34f9-4025-a1c8-7106cd8bd262",
   "metadata": {},
   "outputs": [],
   "source": [
    "# 33 np.linalg.det() - matrix determinant\n",
    "det_A = np.linalg.det(A)"
   ]
  },
  {
   "cell_type": "code",
   "execution_count": 77,
   "id": "4e55c50a-a70f-434e-b475-226c8dba250c",
   "metadata": {},
   "outputs": [],
   "source": [
    "# 34 np.linalg.eig() - Eigenvalues and eigenvector\n",
    "eigenvalues, eigenvectors = np.linalg.eig(A)"
   ]
  },
  {
   "cell_type": "markdown",
   "id": "339244cf-8659-4d8c-bdbf-88c3d95530bb",
   "metadata": {},
   "source": [
    "### Statistical Functions"
   ]
  },
  {
   "cell_type": "code",
   "execution_count": 80,
   "id": "b65b1724-ee96-445d-9b04-5e33990692e3",
   "metadata": {},
   "outputs": [],
   "source": [
    "# 35 np.percentile() - Percentile\n",
    "data = np.array([1,2,3,4,5])\n",
    "perc = np.percentile(data,50)"
   ]
  },
  {
   "cell_type": "code",
   "execution_count": 82,
   "id": "e4482be8-707e-4c73-80d6-0f1e2551556b",
   "metadata": {},
   "outputs": [],
   "source": [
    "# 36 np.median() - median\n",
    "med = np.median(data)"
   ]
  },
  {
   "cell_type": "code",
   "execution_count": 84,
   "id": "ed26dd05-ca9a-4e09-85be-66fe44e16801",
   "metadata": {},
   "outputs": [],
   "source": [
    "# 37 np.histogram() - Histogram\n",
    "hist, bins = np.histogram(data, bins=3)"
   ]
  },
  {
   "cell_type": "markdown",
   "id": "08a5bfce-062d-4827-b8a8-a5e450701448",
   "metadata": {},
   "source": [
    "### Logical Operations "
   ]
  },
  {
   "cell_type": "code",
   "execution_count": 87,
   "id": "6969dbf0-8550-4224-92fe-8877e4356dc0",
   "metadata": {},
   "outputs": [],
   "source": [
    "# 38 np.where() - Conditional Selection\n",
    "\n",
    "arr = np.array([1,2,3,4])\n",
    "filtered = np.where(arr > 2, arr,0)"
   ]
  },
  {
   "cell_type": "code",
   "execution_count": 89,
   "id": "154c0688-78d5-4162-8b9f-2f217c0daf72",
   "metadata": {},
   "outputs": [],
   "source": [
    "# 39 np.logical_and() / np.logical_or()\n",
    "cond = np.logical_and(arr > 1, arr <4)"
   ]
  },
  {
   "cell_type": "markdown",
   "id": "3c74bc39-fb2d-4243-bd9d-762d46228581",
   "metadata": {},
   "source": [
    "### Indexing and Slicing"
   ]
  },
  {
   "cell_type": "code",
   "execution_count": 92,
   "id": "7fc1210f-11b4-43e8-8a6e-b545c4e028c9",
   "metadata": {},
   "outputs": [],
   "source": [
    "# 40 Boolean indexing\n",
    "arr = np.array([1,2,3,4])\n",
    "filtered = arr[arr > 2]"
   ]
  },
  {
   "cell_type": "code",
   "execution_count": 94,
   "id": "528ba45f-0650-4b71-aa85-be4ab1309e77",
   "metadata": {},
   "outputs": [],
   "source": [
    "# 41 Fancy indexing\n",
    "\n",
    "arr = np.array([10,20,30,40])\n",
    "indices = [0,2]\n",
    "selected = arr[indices]"
   ]
  },
  {
   "cell_type": "markdown",
   "id": "9dbd5d65-0592-4676-a5ff-fb1c9bdbae0a",
   "metadata": {},
   "source": [
    "### File I/O"
   ]
  },
  {
   "cell_type": "code",
   "execution_count": 97,
   "id": "348cd94a-185f-451f-9927-427fdbefa699",
   "metadata": {},
   "outputs": [],
   "source": [
    "# 42 np.save() / np.load() - Save / load arrays\n",
    "\n",
    "np.save('array.npy',arr)\n",
    "loaded = np.load('array.npy')"
   ]
  },
  {
   "cell_type": "code",
   "execution_count": 99,
   "id": "641487af-f4e4-43fd-889b-43219bc28f51",
   "metadata": {},
   "outputs": [],
   "source": [
    "# 43 np.savetxt() / np.loadtxt() - Save/ load as text\n",
    "\n",
    "np.savetxt('array.txt',arr)\n",
    "loaded = np.loadtxt('array.txt')"
   ]
  }
 ],
 "metadata": {
  "kernelspec": {
   "display_name": "Python 3 (ipykernel)",
   "language": "python",
   "name": "python3"
  },
  "language_info": {
   "codemirror_mode": {
    "name": "ipython",
    "version": 3
   },
   "file_extension": ".py",
   "mimetype": "text/x-python",
   "name": "python",
   "nbconvert_exporter": "python",
   "pygments_lexer": "ipython3",
   "version": "3.12.7"
  }
 },
 "nbformat": 4,
 "nbformat_minor": 5
}
